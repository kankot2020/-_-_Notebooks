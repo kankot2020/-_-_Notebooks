{
  "cells": [
    {
      "cell_type": "markdown",
      "metadata": {
        "id": "view-in-github",
        "colab_type": "text"
      },
      "source": [
        "<a href=\"https://colab.research.google.com/github/kankot2020/-_-_Notebooks/blob/main/%E8%8C%B6%E7%B1%B3_22_0802_%E9%80%B2%E9%9A%8E%E6%A8%A1%E7%B5%84%E5%AF%A6%E6%88%B0.ipynb\" target=\"_parent\"><img src=\"https://colab.research.google.com/assets/colab-badge.svg\" alt=\"Open In Colab\"/></a>"
      ]
    },
    {
      "cell_type": "markdown",
      "metadata": {
        "id": "uFD0DynF8gfx"
      },
      "source": [
        "#網路爬蟲資料收集"
      ]
    },
    {
      "cell_type": "markdown",
      "metadata": {
        "id": "ah8DkjDC9GLx"
      },
      "source": [
        "##新聞爬取模組"
      ]
    },
    {
      "cell_type": "markdown",
      "metadata": {
        "id": "vaigDw629LsJ"
      },
      "source": [
        "###scraparazzie：Google News新聞爬取"
      ]
    },
    {
      "cell_type": "code",
      "execution_count": null,
      "metadata": {
        "id": "fQCKYBIZ8LxG"
      },
      "outputs": [],
      "source": [
        "# 安裝\n",
        "!pip install scraparazzie"
      ]
    },
    {
      "cell_type": "code",
      "execution_count": null,
      "metadata": {
        "id": "CyIi-o06-qoR",
        "colab": {
          "base_uri": "https://localhost:8080/"
        },
        "outputId": "239238d3-899c-48b9-f667-f917b385e2db"
      },
      "outputs": [
        {
          "output_type": "stream",
          "name": "stderr",
          "text": [
            "/usr/local/lib/python3.7/dist-packages/fuzzywuzzy/fuzz.py:11: UserWarning: Using slow pure-python SequenceMatcher. Install python-Levenshtein to remove this warning\n",
            "  warnings.warn('Using slow pure-python SequenceMatcher. Install python-Levenshtein to remove this warning')\n"
          ]
        }
      ],
      "source": [
        "# 使用模組\n",
        "from scraparazzie import scraparazzie"
      ]
    },
    {
      "cell_type": "code",
      "source": [
        "# 建立新聞物件\n",
        "client=scraparazzie.NewsClient(language='chinese traditional',\n",
        "                               location='Taiwan',\n",
        "                               topic='Business',\n",
        "                               max_results=5)\n",
        "client.print_news() # 顯示資料"
      ],
      "metadata": {
        "colab": {
          "base_uri": "https://localhost:8080/"
        },
        "id": "Q0BWCM5GJYhe",
        "outputId": "c6ae4659-fd25-4d59-dd3b-7c8d7184b793"
      },
      "execution_count": null,
      "outputs": [
        {
          "output_type": "stream",
          "name": "stdout",
          "text": [
            "LTN經濟通》俄烏戰膠著 歐洲先陪葬？\n",
            "自由財經\n",
            "https://news.google.com/__i/rss/rd/articles/CBMiMmh0dHBzOi8vZWMubHRuLmNvbS50dy9hcnRpY2xlL2JyZWFraW5nbmV3cy80MDEwNTUx0gE2aHR0cHM6Ly9lYy5sdG4uY29tLnR3L2FtcC9hcnRpY2xlL2JyZWFraW5nbmV3cy80MDEwNTUx?oc=5\n",
            "Tue, 02 Aug 2022 00:00:34 GMT\n",
            "------------------------------------------------------------\n",
            "《紡纖股》如興 傳法人董事持股遭斷頭\n",
            "Yahoo奇摩股市\n",
            "https://news.google.com/__i/rss/rd/articles/CBMiuAFodHRwczovL3R3LnN0b2NrLnlhaG9vLmNvbS9uZXdzLyVFNyVCNCVBMSVFNyVCQSU5NiVFOCU4MiVBMS0lRTUlQTYlODIlRTglODglODgtJUU1JTgyJUIzJUU2JUIzJTk1JUU0JUJBJUJBJUU4JTkxJUEzJUU0JUJBJThCJUU2JThDJTgxJUU4JTgyJUExJUU5JTgxJUFEJUU2JTk2JUI3JUU5JUEwJUFELTIzNDgyMDg4MC5odG1s0gHAAWh0dHBzOi8vdHcuc3RvY2sueWFob28uY29tL2FtcGh0bWwvbmV3cy8lRTclQjQlQTElRTclQkElOTYlRTglODIlQTEtJUU1JUE2JTgyJUU4JTg4JTg4LSVFNSU4MiVCMyVFNiVCMyU5NSVFNCVCQSVCQSVFOCU5MSVBMyVFNCVCQSU4QiVFNiU4QyU4MSVFOCU4MiVBMSVFOSU4MSVBRCVFNiU5NiVCNyVFOSVBMCVBRC0yMzQ4MjA4ODAuaHRtbA?oc=5\n",
            "Mon, 01 Aug 2022 23:48:20 GMT\n",
            "------------------------------------------------------------\n",
            "勞動基金7月進場台股300億元 逢低承接「這類個股」\n",
            "udn.com\n",
            "https://news.google.com/__i/rss/rd/articles/CBMiJ2h0dHBzOi8vdWRuLmNvbS9uZXdzL3N0b3J5LzcyNTEvNjUwMzcyONIBK2h0dHBzOi8vdWRuLmNvbS9uZXdzL2FtcC9zdG9yeS83MjUxLzY1MDM3Mjg?oc=5\n",
            "Mon, 01 Aug 2022 07:44:11 GMT\n",
            "------------------------------------------------------------\n",
            "〈台股盤後〉量能急凍創今年次低量失守萬五、回測10日線| Anue鉅亨- 台股盤勢\n",
            "Anue鉅亨\n",
            "https://news.google.com/__i/rss/rd/articles/CBMiJmh0dHBzOi8vbmV3cy5jbnllcy5jb20vbmV3cy9pZC80OTIzMjc30gEA?oc=5\n",
            "Mon, 01 Aug 2022 07:02:11 GMT\n",
            "------------------------------------------------------------\n",
            "26個月首見！台幣兌美元貶破30大關…還要繼續貶下去？留意「3個觀察點」別急著動作\n",
            "今周刊-在今天看見明天\n",
            "https://news.google.com/__i/rss/rd/articles/CBMiS2h0dHBzOi8vd3d3LmJ1c2luZXNzdG9kYXkuY29tLnR3L2FydGljbGUvY2F0ZWdvcnkvMTgzMDE3L3Bvc3QvMjAyMjA4MDEwMDEwL9IBAA?oc=5\n",
            "Mon, 01 Aug 2022 03:13:09 GMT\n",
            "------------------------------------------------------------\n"
          ]
        }
      ]
    },
    {
      "cell_type": "markdown",
      "metadata": {
        "id": "KVtZtTT3Padb"
      },
      "source": [
        "####參數查詢"
      ]
    },
    {
      "cell_type": "code",
      "execution_count": null,
      "metadata": {
        "id": "tIHKhSnAPkXi"
      },
      "outputs": [],
      "source": [
        "# 參數查詢\n",
        "# 新聞物件.languages\n",
        "# 新聞物件.locations\n",
        "# 新聞物件.topics\n",
        "# 新聞物件.get_config()\n",
        "# client.languages\n",
        "client.locations"
      ]
    },
    {
      "cell_type": "code",
      "source": [
        "client.get_config()"
      ],
      "metadata": {
        "colab": {
          "base_uri": "https://localhost:8080/"
        },
        "id": "uu1MWzEDLQgW",
        "outputId": "fa536978-60b5-4903-e9aa-c6d917839586"
      },
      "execution_count": null,
      "outputs": [
        {
          "output_type": "execute_result",
          "data": {
            "text/plain": [
              "{'language': 'chinese traditional',\n",
              " 'location': 'Taiwan',\n",
              " 'query': None,\n",
              " 'topic': 'Business'}"
            ]
          },
          "metadata": {},
          "execution_count": 7
        }
      ]
    },
    {
      "cell_type": "markdown",
      "metadata": {
        "id": "5anEcQlyP_L6"
      },
      "source": [
        "#### 取得新聞資料"
      ]
    },
    {
      "cell_type": "code",
      "execution_count": null,
      "metadata": {
        "id": "deQy95XJQEpB",
        "colab": {
          "base_uri": "https://localhost:8080/"
        },
        "outputId": "b57b99d1-cb69-4fc1-9380-e3f47eca5725"
      },
      "outputs": [
        {
          "output_type": "stream",
          "name": "stdout",
          "text": [
            "[{'title': 'LTN經濟通》俄烏戰膠著 歐洲先陪葬？', 'source': '自由財經', 'link': 'https://news.google.com/__i/rss/rd/articles/CBMiMmh0dHBzOi8vZWMubHRuLmNvbS50dy9hcnRpY2xlL2JyZWFraW5nbmV3cy80MDEwNTUx0gE2aHR0cHM6Ly9lYy5sdG4uY29tLnR3L2FtcC9hcnRpY2xlL2JyZWFraW5nbmV3cy80MDEwNTUx?oc=5', 'publish_date': 'Tue, 02 Aug 2022 00:00:34 GMT'}, {'title': '《紡纖股》如興 傳法人董事持股遭斷頭', 'source': 'Yahoo奇摩股市', 'link': 'https://news.google.com/__i/rss/rd/articles/CBMiuAFodHRwczovL3R3LnN0b2NrLnlhaG9vLmNvbS9uZXdzLyVFNyVCNCVBMSVFNyVCQSU5NiVFOCU4MiVBMS0lRTUlQTYlODIlRTglODglODgtJUU1JTgyJUIzJUU2JUIzJTk1JUU0JUJBJUJBJUU4JTkxJUEzJUU0JUJBJThCJUU2JThDJTgxJUU4JTgyJUExJUU5JTgxJUFEJUU2JTk2JUI3JUU5JUEwJUFELTIzNDgyMDg4MC5odG1s0gHAAWh0dHBzOi8vdHcuc3RvY2sueWFob28uY29tL2FtcGh0bWwvbmV3cy8lRTclQjQlQTElRTclQkElOTYlRTglODIlQTEtJUU1JUE2JTgyJUU4JTg4JTg4LSVFNSU4MiVCMyVFNiVCMyU5NSVFNCVCQSVCQSVFOCU5MSVBMyVFNCVCQSU4QiVFNiU4QyU4MSVFOCU4MiVBMSVFOSU4MSVBRCVFNiU5NiVCNyVFOSVBMCVBRC0yMzQ4MjA4ODAuaHRtbA?oc=5', 'publish_date': 'Mon, 01 Aug 2022 23:48:20 GMT'}, {'title': '勞動基金7月進場台股300億元 逢低承接「這類個股」', 'source': 'udn.com', 'link': 'https://news.google.com/__i/rss/rd/articles/CBMiJ2h0dHBzOi8vdWRuLmNvbS9uZXdzL3N0b3J5LzcyNTEvNjUwMzcyONIBK2h0dHBzOi8vdWRuLmNvbS9uZXdzL2FtcC9zdG9yeS83MjUxLzY1MDM3Mjg?oc=5', 'publish_date': 'Mon, 01 Aug 2022 07:44:11 GMT'}, {'title': '〈台股盤後〉量能急凍創今年次低量失守萬五、回測10日線| Anue鉅亨- 台股盤勢', 'source': 'Anue鉅亨', 'link': 'https://news.google.com/__i/rss/rd/articles/CBMiJmh0dHBzOi8vbmV3cy5jbnllcy5jb20vbmV3cy9pZC80OTIzMjc30gEA?oc=5', 'publish_date': 'Mon, 01 Aug 2022 07:02:11 GMT'}, {'title': '26個月首見！台幣兌美元貶破30大關…還要繼續貶下去？留意「3個觀察點」別急著動作', 'source': '今周刊-在今天看見明天', 'link': 'https://news.google.com/__i/rss/rd/articles/CBMiS2h0dHBzOi8vd3d3LmJ1c2luZXNzdG9kYXkuY29tLnR3L2FydGljbGUvY2F0ZWdvcnkvMTgzMDE3L3Bvc3QvMjAyMjA4MDEwMDEwL9IBAA?oc=5', 'publish_date': 'Mon, 01 Aug 2022 03:13:09 GMT'}]\n"
          ]
        }
      ],
      "source": [
        "# 串列資料=新聞物件.export_news()\n",
        "items=client.export_news()\n",
        "print(items)"
      ]
    },
    {
      "cell_type": "code",
      "source": [
        "items[0]"
      ],
      "metadata": {
        "colab": {
          "base_uri": "https://localhost:8080/"
        },
        "id": "asAsrm0hMNaW",
        "outputId": "19b442d8-68ed-4df1-b0b2-a68918f4ee2e"
      },
      "execution_count": null,
      "outputs": [
        {
          "output_type": "execute_result",
          "data": {
            "text/plain": [
              "{'link': 'https://news.google.com/__i/rss/rd/articles/CBMiMmh0dHBzOi8vZWMubHRuLmNvbS50dy9hcnRpY2xlL2JyZWFraW5nbmV3cy80MDEwNTUx0gE2aHR0cHM6Ly9lYy5sdG4uY29tLnR3L2FtcC9hcnRpY2xlL2JyZWFraW5nbmV3cy80MDEwNTUx?oc=5',\n",
              " 'publish_date': 'Tue, 02 Aug 2022 00:00:34 GMT',\n",
              " 'source': '自由財經',\n",
              " 'title': 'LTN經濟通》俄烏戰膠著 歐洲先陪葬？'}"
            ]
          },
          "metadata": {},
          "execution_count": 12
        }
      ]
    },
    {
      "cell_type": "code",
      "source": [
        "items[0]['title']"
      ],
      "metadata": {
        "colab": {
          "base_uri": "https://localhost:8080/",
          "height": 35
        },
        "id": "peVK2k2HMWLt",
        "outputId": "59d7e53c-b88b-44c3-8e0b-888e8e2239be"
      },
      "execution_count": null,
      "outputs": [
        {
          "output_type": "execute_result",
          "data": {
            "text/plain": [
              "'LTN經濟通》俄烏戰膠著 歐洲先陪葬？'"
            ],
            "application/vnd.google.colaboratory.intrinsic+json": {
              "type": "string"
            }
          },
          "metadata": {},
          "execution_count": 13
        }
      ]
    },
    {
      "cell_type": "markdown",
      "source": [
        "#### 範例：取得5則台灣股市新聞資料並顯示"
      ],
      "metadata": {
        "id": "NTI2HnDvXtxO"
      }
    },
    {
      "cell_type": "code",
      "execution_count": null,
      "metadata": {
        "id": "9xPD1fnhdlrR",
        "colab": {
          "base_uri": "https://localhost:8080/"
        },
        "outputId": "e2d29f5c-4fcf-4d19-860a-036de179de69"
      },
      "outputs": [
        {
          "output_type": "stream",
          "name": "stdout",
          "text": [
            "5\n",
            "第 1 則新聞：\n",
            "新聞標題：7月Yahoo奇摩股市熱搜榜單出爐！「元宇宙+王雪紅」雙題材 泛宏達電概念股先飆再說\n",
            "新聞機構：Yahoo奇摩股市\n",
            "新聞連結：https://tw.stock.yahoo.com/news/7-%E6%9C%88-yahoo%E5%A5%87%E6%91%A9%E8%82%A1%E5%B8%82%E7%86%B1%E6%90%9C%E6%A6%9C%E5%96%AE%E5%87%BA%E7%88%90%EF%BC%81%E3%80%8C%E5%85%83%E5%AE%87%E5%AE%99%E3%80%8D%E8%88%87%E3%80%8C%E7%8E%8B%E9%9B%AA%E7%B4%85%E3%80%8D%E9%9B%99%E9%A1%8C%E6%9D%90%E5%8A%A0%E6%8C%81-%E6%B3%9B%E5%AE%8F%E9%81%94%E9%9B%BB%E6%A6%82%E5%BF%B5%E8%82%A1%E5%85%88%E9%A3%86%E5%86%8D%E8%AA%AA-013854322.html\n",
            "新聞時間：Tue, 02 Aug 2022 01:17:27 GMT\n",
            "第 2 則新聞：\n",
            "新聞標題：風險情緒降溫 資金擁抱美股\n",
            "新聞機構：Yahoo奇摩股市\n",
            "新聞連結：https://tw.stock.yahoo.com/news/%E9%A2%A8%E9%9A%AA%E6%83%85%E7%B7%92%E9%99%8D%E6%BA%AB-%E8%B3%87%E9%87%91%E6%93%81%E6%8A%B1%E7%BE%8E%E8%82%A1-201000283.html\n",
            "新聞時間：Mon, 01 Aug 2022 20:10:00 GMT\n",
            "第 3 則新聞：\n",
            "新聞標題：Q2財報登場 法人卡位15檔\n",
            "新聞機構：Yahoo奇摩股市\n",
            "新聞連結：https://tw.stock.yahoo.com/news/q2%E8%B2%A1%E5%A0%B1%E7%99%BB%E5%A0%B4-%E6%B3%95%E4%BA%BA%E5%8D%A1%E4%BD%8D15%E6%AA%94-201000493.html\n",
            "新聞時間：Mon, 01 Aug 2022 20:10:00 GMT\n",
            "第 4 則新聞：\n",
            "新聞標題：美股帶頭 台股基金蓄勢待發\n",
            "新聞機構：Yahoo奇摩股市\n",
            "新聞連結：https://tw.stock.yahoo.com/news/%E7%BE%8E%E8%82%A1%E5%B8%B6%E9%A0%AD-%E5%8F%B0%E8%82%A1%E5%9F%BA%E9%87%91%E8%93%84%E5%8B%A2%E5%BE%85%E7%99%BC-201000816.html\n",
            "新聞時間：Mon, 01 Aug 2022 20:10:00 GMT\n",
            "第 5 則新聞：\n",
            "新聞標題：兩岸三地股市同受裴洛西影響 台股跌幅亞股之冠\n",
            "新聞機構：Yahoo奇摩股市\n",
            "新聞連結：https://tw.stock.yahoo.com/news/%E5%85%A9%E5%B2%B8%E4%B8%89%E5%9C%B0%E8%82%A1%E5%B8%82%E4%BB%8A%E5%90%8C%E5%8F%97%E6%96%90%E6%B4%9B%E8%A5%BF%E5%BD%B1%E9%9F%BF-%E5%8F%B0%E8%82%A1%E8%B7%8C%E5%B9%85%E4%BA%9E%E8%82%A1%E4%B9%8B%E5%86%A0-071840262.html\n",
            "新聞時間：Mon, 01 Aug 2022 07:18:40 GMT\n"
          ]
        }
      ],
      "source": [
        "# 範例：取得5則台灣股市新聞資料並顯示\n",
        "from scraparazzie import scraparazzie\n",
        "client = scraparazzie.NewsClient(language = 'chinese traditional', location = 'Taiwan', query = '股市', max_results = 5)\n",
        "items = client.export_news()\n",
        "print(len(items))\n",
        "for i,item in enumerate(items):\n",
        "  # print(item)\n",
        "  print('第 ' + str(i+1) + ' 則新聞：')\n",
        "  print('新聞標題：' + item['title'])\n",
        "  print('新聞機構：' + item['source'])\n",
        "  print('新聞連結：' + item['link'])\n",
        "  print('新聞時間：' + item['publish_date'])\n",
        "\n",
        "\n",
        "# for i, item in enumerate(items):\n",
        "#   print('第 ' + str(i+1) + ' 則新聞：')\n",
        "#   print('新聞標題：' + item['title'])\n",
        "#   print('新聞機構：' + item['source'])\n",
        "#   print('新聞連結：' + item['link'])\n",
        "#   print('新聞時間：' + item['publish_date'])\n",
        "#   print('========================================================================================')"
      ]
    },
    {
      "cell_type": "markdown",
      "metadata": {
        "id": "Bwf1P1CbdPmA"
      },
      "source": [
        "#### 練習：取得5則台灣口罩新聞資料並顯示"
      ]
    },
    {
      "cell_type": "code",
      "execution_count": null,
      "metadata": {
        "id": "_7LH7ZJQ-qrq"
      },
      "outputs": [],
      "source": [
        "# 練習：顯示取得5則台灣口罩新聞資料並顯示\n",
        "from scraparazzie import scraparazzie\n",
        "client = scraparazzie.NewsClient(language = 'chinese traditional', location = 'Taiwan', query = '口罩', max_results = 5)\n",
        "items = client.export_news()\n",
        "print(len(items))\n"
      ]
    },
    {
      "cell_type": "markdown",
      "metadata": {
        "id": "DFL9Xz9r9LFB"
      },
      "source": [
        "###Newspaper3k：爬取全球新聞"
      ]
    },
    {
      "cell_type": "code",
      "execution_count": null,
      "metadata": {
        "id": "l-dv-4Qh8XCi"
      },
      "outputs": [],
      "source": [
        "# 安裝\n",
        "!pip install newspaper3k"
      ]
    },
    {
      "cell_type": "code",
      "source": [
        "# 使用模組\n",
        "import newspaper"
      ],
      "metadata": {
        "id": "yX-W1kfvFxGz"
      },
      "execution_count": null,
      "outputs": []
    },
    {
      "cell_type": "code",
      "execution_count": null,
      "metadata": {
        "id": "sWJtlqrxeh_Q",
        "colab": {
          "base_uri": "https://localhost:8080/"
        },
        "outputId": "d3e54948-fa4d-4d90-8a70-ed19c8ffe77c"
      },
      "outputs": [
        {
          "output_type": "execute_result",
          "data": {
            "text/plain": [
              "['http://www.huffingtonpost.com',\n",
              " 'http://cnn.com',\n",
              " 'http://www.time.com',\n",
              " 'http://www.ted.com',\n",
              " 'http://pandodaily.com',\n",
              " 'http://www.cnbc.com',\n",
              " 'http://www.mlb.com',\n",
              " 'http://www.pcmag.com',\n",
              " 'http://www.foxnews.com',\n",
              " 'http://theatlantic.com',\n",
              " 'http://www.bbc.co.uk',\n",
              " 'http://www.vice.com',\n",
              " 'http://www.elle.com',\n",
              " 'http://www.vh1.com',\n",
              " 'http://espnf1.com',\n",
              " 'http://espn.com',\n",
              " 'http://www.npr.org',\n",
              " 'http://www.sfgate.com',\n",
              " 'http://www.glamour.com',\n",
              " 'http://www.whosdatedwho.com',\n",
              " 'http://kotaku.com',\n",
              " 'http://thebostonchannel.com',\n",
              " 'http://www.suntimes.com',\n",
              " 'http://www.businessinsider.com',\n",
              " 'http://www.rivals.com',\n",
              " 'http://thebusinessjournal.com',\n",
              " 'http://www.newrepublic.com',\n",
              " 'http://allthingsd.com',\n",
              " 'http://www.topgear.com',\n",
              " 'http://thecitizen.com',\n",
              " 'http://www.ign.com',\n",
              " 'http://www.sci-news.com',\n",
              " 'http://www.morningstar.com',\n",
              " 'http://www.variety.com',\n",
              " 'http://thebottomline.as.ucsb.edu',\n",
              " 'http://www.gamefaqs.com',\n",
              " 'http://blog.searchenginewatch.com',\n",
              " 'http://thedailyfairfield.com',\n",
              " 'http://www.solarnovus.com',\n",
              " 'http://medicalxpress.com',\n",
              " 'http://www.news.com.au',\n",
              " 'http://www.health.com',\n",
              " 'http://www.computerandvideogames.com',\n",
              " 'http://wsj.com',\n",
              " 'http://www.allure.com',\n",
              " 'http://www.theinsider.com',\n",
              " 'http://cnet.com',\n",
              " 'http://venturebeat.com',\n",
              " 'http://www.topspeed.com',\n",
              " 'http://thedailyworld.com',\n",
              " 'http://games.com',\n",
              " 'http://www.religionnews.com',\n",
              " 'http://blogs.berkeley.edu',\n",
              " 'http://www.sbnation.com',\n",
              " 'http://www.polygon.com',\n",
              " 'http://nytimes.com',\n",
              " 'http://www.thefrisky.com',\n",
              " 'http://telegram.com',\n",
              " 'http://yahoo.com',\n",
              " 'http://www.nbcnews.com',\n",
              " 'http://thedailypage.com',\n",
              " 'http://www.popsci.com',\n",
              " 'http://www.pbs.org',\n",
              " 'http://www.nasa.gov',\n",
              " 'http://www.guardiannews.com',\n",
              " 'http://www.weather.com',\n",
              " 'http://www.gq.com',\n",
              " 'http://www.etonline.com',\n",
              " 'http://telegraph.co.uk',\n",
              " 'http://www.fastcompany.com',\n",
              " 'http://www.infoworld.com',\n",
              " 'http://www.wired.com',\n",
              " 'http://www.pcgamer.com',\n",
              " 'http://sportingnews.com',\n",
              " 'http://theatlanticwire.com',\n",
              " 'http://thecarconnection.com',\n",
              " 'http://www.sun-sentinel.com',\n",
              " 'http://autoblog.com',\n",
              " 'http://www.environmentalleader.com',\n",
              " 'http://thecrimson.com',\n",
              " 'http://thecypresstimes.com',\n",
              " 'http://www.dailyfinance.com',\n",
              " 'http://www.politico.com',\n",
              " 'http://newsroom.fb.com',\n",
              " 'http://news.ycombinator.com',\n",
              " 'http://lifehacker.com',\n",
              " 'http://www.bet.com',\n",
              " 'http://independent.co.uk',\n",
              " 'http://www.mlssoccer.com',\n",
              " 'http://www.bodybuilding.com',\n",
              " 'http://www.cosmopolitan.com',\n",
              " 'http://www.apple.com',\n",
              " 'http://www.autonews.com',\n",
              " 'http://www.eonline.com',\n",
              " 'http://www.vanityfair.com',\n",
              " 'http://techdigest.tv',\n",
              " 'http://www.maximumpc.com',\n",
              " 'http://www.techradar.com',\n",
              " 'http://thedailyjournal.com',\n",
              " 'http://www.mlive.com',\n",
              " 'http://techworld.com.au',\n",
              " 'http://www.techmeme.com',\n",
              " 'http://thedailynewsegypt.com',\n",
              " 'http://thedailygrind.com.au',\n",
              " 'http://techcrunch.com',\n",
              " 'http://tehrantimes.com',\n",
              " 'http://www.hollywoodreporter.com',\n",
              " 'http://thedailysound.com',\n",
              " 'http://www.stltoday.com',\n",
              " 'http://deadspin.com',\n",
              " 'http://www.digitaltrends.com',\n",
              " 'http://seattletimes.com',\n",
              " 'http://seattlepi.com',\n",
              " 'http://www.cleveland.com',\n",
              " 'http://heritage.org',\n",
              " 'http://www.today.com',\n",
              " 'http://www.politifact.com',\n",
              " 'http://zdnet.com',\n",
              " 'http://www.nationalenquirer.com',\n",
              " 'http://egotastic.com',\n",
              " 'http://blogs.creativeloafing.com',\n",
              " 'http://townhall.com',\n",
              " 'http://www.eweek.com',\n",
              " 'http://www.vogue.co.uk',\n",
              " 'http://www.teenvogue.com',\n",
              " 'http://www.nypost.com',\n",
              " 'http://www.reuters.com',\n",
              " 'http://www.scientificamerican.com',\n",
              " 'http://www.miamiherald.com',\n",
              " 'http://www.nydailynews.com',\n",
              " 'http://www.newscientist.com',\n",
              " 'http://bigstory.ap.org',\n",
              " 'http://www.ebony.com',\n",
              " 'http://thedailystar.com',\n",
              " 'http://www.technologyreview.com',\n",
              " 'http://www.theverge.com',\n",
              " 'http://www.nba.com',\n",
              " 'http://www.cbssports.com',\n",
              " 'http://betabeat.com',\n",
              " 'http://www.tmz.com',\n",
              " 'http://tcnewsnet.com',\n",
              " 'http://www.latimes.com',\n",
              " 'http://www.c-span.org',\n",
              " 'http://www.style.com',\n",
              " 'http://www.peoplestylewatch.com',\n",
              " 'http://theboot.com',\n",
              " 'http://www.foxbusiness.com',\n",
              " 'http://www.pcworld.com',\n",
              " 'http://washingtontimes.com',\n",
              " 'http://thedailyreview.com',\n",
              " 'http://www.nfl.com',\n",
              " 'http://www.space.com',\n",
              " 'http://washingtontechnology.com',\n",
              " 'http://www.buzzfeed.com',\n",
              " 'http://inquirer.net',\n",
              " 'http://www.maxim.com',\n",
              " 'http://abcnews.com',\n",
              " 'http://www.extremetech.com',\n",
              " 'http://thedailytimes.com',\n",
              " 'http://mashable.com',\n",
              " 'http://washingtonexaminer.com',\n",
              " 'http://www.bhg.com',\n",
              " 'http://tech.mit.edu',\n",
              " 'http://hotair.com',\n",
              " 'http://www.1up.com',\n",
              " 'http://www.cbc.ca',\n",
              " 'http://gawker.com',\n",
              " 'http://celebuzz.com',\n",
              " 'http://sciencemag.org',\n",
              " 'http://www.rollingstone.com',\n",
              " 'http://slashdot.org',\n",
              " 'http://www.slate.com',\n",
              " 'http://bleacherreport.com',\n",
              " 'http://www.nascar.com',\n",
              " 'http://www.forbes.com',\n",
              " 'http://washingtonpost.com',\n",
              " 'http://nymag.com',\n",
              " 'http://www.microsoft.com',\n",
              " 'http://hbr.org',\n",
              " 'http://www.ft.com',\n",
              " 'http://www.dailymail.co.uk',\n",
              " 'http://www.theautochannel.com',\n",
              " 'http://g4tv.com',\n",
              " 'http://www.aljazeera.com',\n",
              " 'http://politicker.com',\n",
              " 'http://nbcsports.nbc.com',\n",
              " 'http://www.gamespot.com',\n",
              " 'http://news.sky.com',\n",
              " 'http://www.joystiq.com',\n",
              " 'http://www.escapistmagazine.com',\n",
              " 'http://www.thestreet.com',\n",
              " 'http://www.ew.com',\n",
              " 'http://www.nj.com',\n",
              " 'http://msn.com',\n",
              " 'http://thedailyreporter.com',\n",
              " 'http://www.economist.com',\n",
              " 'http://phys.org',\n",
              " 'http://www.glam.com',\n",
              " 'http://perezhilton.com',\n",
              " 'http://www.usmagazine.com',\n",
              " 'http://aol.com',\n",
              " 'http://www.cbsnews.com',\n",
              " 'http://www.tennis.com',\n",
              " 'http://washingtonian.com',\n",
              " 'http://www.sciencedaily.com',\n",
              " 'http://foxsports.com',\n",
              " 'http://www.popularmechanics.com',\n",
              " 'http://www.macworld.com',\n",
              " 'http://thinkprogress.org',\n",
              " 'http://www.mtv.com',\n",
              " 'http://discovery.com',\n",
              " 'http://www.people.com',\n",
              " 'http://thedailybeast.com',\n",
              " 'http://www.hollywood.com',\n",
              " 'http://medium.com',\n",
              " 'http://www.engadget.com',\n",
              " 'http://www.usnews.com',\n",
              " 'http://www.billboard.com',\n",
              " 'http://nationalgeographic.com',\n",
              " 'http://www.purseblog.com',\n",
              " 'http://www.giantbomb.com',\n",
              " 'http://www.automobilemag.com',\n",
              " 'http://thechronicle.com.au',\n",
              " 'http://tbnweekly.com',\n",
              " 'http://techreport.com',\n",
              " 'http://thedailyfix.com',\n",
              " 'http://www.animenewsnetwork.com',\n",
              " 'http://www.realclearpolitics.com',\n",
              " 'http://usatoday.com',\n",
              " 'http://www.techspot.com',\n",
              " 'http://discovermagazine.com',\n",
              " 'http://arstechnica.com',\n",
              " 'http://foreignpolicy.com',\n",
              " 'http://www.redstate.com',\n",
              " 'http://www.marketwatch.com',\n",
              " 'http://www.eurogamer.net',\n",
              " 'http://cbn.com',\n",
              " 'http://www.parade.com',\n",
              " 'http://www.bbcamerica.com',\n",
              " 'http://washingtonindependent.com',\n",
              " 'http://drudgereport.com',\n",
              " 'http://beta.na.leagueoflegends.com']"
            ]
          },
          "metadata": {},
          "execution_count": 10
        }
      ],
      "source": [
        "# 參數查詢\n",
        "newspaper.popular_urls()\n",
        "# newspaper.languages()"
      ]
    },
    {
      "cell_type": "code",
      "execution_count": null,
      "metadata": {
        "id": "j_T40RSkADF6",
        "colab": {
          "base_uri": "https://localhost:8080/"
        },
        "outputId": "4454782d-55ab-42d0-85ff-32736639f86b"
      },
      "outputs": [
        {
          "output_type": "stream",
          "name": "stdout",
          "text": [
            "[<newspaper.article.Article object at 0x7ff02a0c82d0>, <newspaper.article.Article object at 0x7ff02a0b9190>, <newspaper.article.Article object at 0x7ff02e9949d0>, <newspaper.article.Article object at 0x7ff02a101250>, <newspaper.article.Article object at 0x7ff02a112650>, <newspaper.article.Article object at 0x7ff02a112510>, <newspaper.article.Article object at 0x7ff02a1128d0>, <newspaper.article.Article object at 0x7ff02e994bd0>, <newspaper.article.Article object at 0x7ff02a112e50>, <newspaper.article.Article object at 0x7ff02a112e10>]\n"
          ]
        }
      ],
      "source": [
        "# 建立新聞物件\n",
        "paper = newspaper.build('http://www.ltn.com.tw/', language='zh')\n",
        "# print('新聞連結：')\n",
        "print(paper.articles)"
      ]
    },
    {
      "cell_type": "code",
      "source": [
        "for article in paper.articles:\n",
        "  print(article.url)"
      ],
      "metadata": {
        "colab": {
          "base_uri": "https://localhost:8080/"
        },
        "id": "-6fRwK98Q5a5",
        "outputId": "3d949564-c961-4c09-e0fd-e70376c2a063"
      },
      "execution_count": null,
      "outputs": [
        {
          "output_type": "stream",
          "name": "stdout",
          "text": [
            "https://3c.ltn.com.tw/news/50370\n",
            "https://3c.ltn.com.tw/news/50143\n",
            "https://3c.ltn.com.tw/news/50201\n",
            "https://3c.ltn.com.tw/news/50199\n",
            "https://3c.ltn.com.tw/news/50301\n",
            "https://3c.ltn.com.tw/news/50263\n",
            "https://3c.ltn.com.tw/news/50294\n",
            "https://3c.ltn.com.tw/news/50213\n",
            "https://3c.ltn.com.tw/news/50186\n",
            "https://3c.ltn.com.tw/news/50292\n"
          ]
        }
      ]
    },
    {
      "cell_type": "markdown",
      "metadata": {
        "id": "B8KTs-_-ZzGZ"
      },
      "source": [
        "#### Artccle 取得單一新聞"
      ]
    },
    {
      "cell_type": "code",
      "execution_count": null,
      "metadata": {
        "id": "OARMlx93ALmR"
      },
      "outputs": [],
      "source": [
        "# Artccle 取得單一新聞\n",
        "from newspaper import Article\n",
        "# 自由時報\n",
        "url = 'https://news.ltn.com.tw/news/life/breakingnews/3649202'\n",
        "article=Article(url)\n",
        "article.download()\n",
        "print(article.html)"
      ]
    },
    {
      "cell_type": "code",
      "source": [
        "article.parse()\n",
        "article.title\n"
      ],
      "metadata": {
        "colab": {
          "base_uri": "https://localhost:8080/",
          "height": 35
        },
        "id": "QnMPtjmpR1Fo",
        "outputId": "ab37664c-0c57-45fc-f48b-7bf89c2c6b97"
      },
      "execution_count": null,
      "outputs": [
        {
          "output_type": "execute_result",
          "data": {
            "text/plain": [
              "'普度祭拜募集物資助弱 台南仁德區保華宮中元送愛'"
            ],
            "application/vnd.google.colaboratory.intrinsic+json": {
              "type": "string"
            }
          },
          "metadata": {},
          "execution_count": 10
        }
      ]
    },
    {
      "cell_type": "code",
      "execution_count": null,
      "metadata": {
        "id": "Pj_BlZsHATmg",
        "colab": {
          "base_uri": "https://localhost:8080/"
        },
        "outputId": "9a639232-0cb7-404f-f655-edc3a91a2d00"
      },
      "outputs": [
        {
          "output_type": "stream",
          "name": "stdout",
          "text": [
            "【新聞標題】\n",
            "普度祭拜募集物資助弱 台南仁德區保華宮中元送愛\n",
            "【新聞內容】]：\n",
            "仁德區保華宮將中元普度結合愛心公益，捐助弱勢。（記者吳俊鋒攝）\n",
            "\n",
            "2021/08/24 20:07\n",
            "\n",
            "〔記者吳俊鋒／台南報導〕台南仁德區的保華宮，結合中元普度，與社會大眾聯手募集愛心供品，包含1800斤的白米，以及各式生活物資，祭拜後，今天一併發放給低收入戶，照顧弱勢，讓民間傳統習俗也兼具慈善公益的意義。\n",
            "\n",
            "保華宮主委黃翠雲指出，農曆7月也是慈悲月，今年適逢防疫警戒，呼籲信眾以代購普品的方式，做好中元祭拜，並降低群聚風險，還號召活動之後捐助給有需要幫助的⼈，廟方抱持感恩的心，善盡社會責任，獲得熱烈迴響。\n",
            "\n",
            "請繼續往下閱讀...\n",
            "\n",
            "仁德區公所轄內列冊的低收入家庭有237戶，保華宮準備豐盛的供品，宴請四方好兄弟，並將募集的愛心米，連同麵食、罐頭、油品等物資一起捐助弱勢，今天在廟內發放。\n",
            "\n",
            "該廟還提供了環保袋，將救濟物資裝好，讓低收入戶方便領取，市議員吳禹寰也到場協助發放，並呼籲社會各界，疫情期間，弱勢生活大不易，需要更多關懷。\n",
            "\n",
            "仁德區保華宮將中元普度結合愛心公益，捐助弱勢。（記者吳俊鋒攝）\n",
            "\n",
            "不用抽 不用搶 現在用APP看新聞 保證天天中獎 點我下載APP 按我看活動辦法\n",
            "【新聞日期】\n",
            "2021-08-24 20:07:54+08:00\n"
          ]
        }
      ],
      "source": [
        "# parse() 解析\n",
        "article.parse()\n",
        "print('【新聞標題】')\n",
        "print(article.title)\n",
        "print('【新聞內容】]：')\n",
        "print(article.text)\n",
        "print('【新聞日期】')\n",
        "print(article.publish_date)"
      ]
    },
    {
      "cell_type": "markdown",
      "metadata": {
        "id": "ScyFo3QmfeFg"
      },
      "source": [
        "#### 練習：取得蘋果日報新聞\n",
        "https://www.appledaily.com.tw/"
      ]
    },
    {
      "cell_type": "code",
      "execution_count": null,
      "metadata": {
        "id": "tmpfJZpNfcRR",
        "colab": {
          "base_uri": "https://localhost:8080/"
        },
        "outputId": "f33eb2e4-3c72-4216-b0e2-0d7d5dc9d842"
      },
      "outputs": [
        {
          "output_type": "stream",
          "name": "stdout",
          "text": [
            "【新聞標題】\n",
            "迎戰高通膨升息環境 富蘭克林穩月收績效逆勢超前｜蘋果新聞網｜蘋果日報\n",
            "【新聞內容】]：\n",
            "通膨數據驚驚漲，物價飆升背後可能衍生的社會秩序動盪不容小覷，像上個月巴拿馬民眾的通膨示威，市場便擔心將拖累巴拿馬運河營運，進而重創全球供應鏈，為金融市場投下更多不確定性。理財專家建議，現階段投資首重「穩定」，並最好能同時開創優於通膨的「收益」，用持續投資正面迎擊通膨怪獸，積極把握市場回檔修正的佈局時機。\n",
            "\n",
            "\n",
            "\n",
            "投資專家形容現在的景況是「人兩腳、通膨獸四腳」，繼美國數度升息後，通膨壓力之高也迫使歐洲央行打破11年來首度升息，顯示這一波藉由調升利息來抑制通膨飆漲窘況已勢不可擋，但怕虧損不投資而原地踏步的結果，恐怕更會讓財富縮水於無形，放眼眾多投資標的其中並不乏抗跌跟漲者，審慎選股擇債仍有機會突破當前困境。\n",
            "\n",
            "\n",
            "\n",
            "觀察史坦普500指數各成分股，過去一年有防禦力和價值導向的基建公用事業、健康醫療類股均逆勢上揚，而民生消費類股也較不受大盤走勢影響，表現在平盤以上。\n",
            "\n",
            "富蘭克林穩定月收益基金為三檔美國平衡型基金唯一逆勢上揚者。記者整理\n",
            "\n",
            "理財專家指出，聯準會七月底決議今年來第四度升息，會後聲明強調升息速度將視經濟數據而定，市場出現期待聯準會將放緩升息步調加上風險偏好提高下，帶動股債同步走揚，但對照幾周來市場走勢，風向趨勢多變、大盤來回震盪頻率高，皆反應現階段股債平衡配置的重要性。\n",
            "\n",
            "\n",
            "\n",
            "惟觀察國內核備的24檔境外平衡型基金，並非都能有跟漲抗跌的能力，今年以來可力抗跌勢繳出正報酬者可說是鳳毛麟角，再拉長時間看過去一年以來的表現，富蘭克林穩定月收益基金一支獨秀，交出近4%的漲幅，兩年期漲勢更為顯著上漲幅度接近二成。\n",
            "\n",
            "\n",
            "\n",
            "基金專家進一步分析，富蘭克林穩定月收益基金同時也是三檔美國平衡型基金中，是唯一一檔年初迄今或一年績效均逆勢上漲，領先居次的基金均有6個百分點以上，這彰顯經理團隊在疫情期間靈活的配置能力，成功為投資人趨吉避凶。\n",
            "\n",
            "\n",
            "\n",
            "在第一線服務客戶的銀行財管人員表示，後疫情時代股市波動、產業輪動格外鮮明，投資人理財需求逐漸轉為「先求穩、再求勝」，富蘭克林穩定月收益基金有績效當靠山，加上非挪自本金真材實料的配息，很對偏好固定配息入袋和穩健偏防禦型投資人的胃口。（陳俐妏／台北報導）\n",
            "\n",
            "\n",
            "\n",
            "\n",
            "\n",
            "\n",
            "\n",
            "\n",
            "\n",
            "\n",
            "\n",
            "\n",
            "\n",
            "\n",
            "\n",
            "\n",
            "【新聞日期】\n",
            "2022-08-02 09:00:00+08:00\n"
          ]
        }
      ],
      "source": [
        "# 練習：取得蘋果日報新聞\n",
        "from newspaper import Article\n",
        "url = 'https://www.appledaily.com.tw/property/20220801/3994A95D4AB4954E89F7288031'\n",
        "\n",
        "# parse() 解析\n",
        "article=Article(url)\n",
        "article.download()\n",
        "article.parse()\n",
        "print('【新聞標題】')\n",
        "print(article.title)\n",
        "print('【新聞內容】]：')\n",
        "print(article.text)\n",
        "print('【新聞日期】')\n",
        "print(article.publish_date)"
      ]
    },
    {
      "cell_type": "markdown",
      "source": [
        "###technews-tw：台灣科技新聞爬取"
      ],
      "metadata": {
        "id": "DCMQGbpVLvPW"
      }
    },
    {
      "cell_type": "code",
      "source": [
        "# 安裝\n",
        "!pip install technews-tw"
      ],
      "metadata": {
        "id": "N19NZHMGL-Y1"
      },
      "execution_count": null,
      "outputs": []
    },
    {
      "cell_type": "markdown",
      "source": [
        "####取得 inside 當天發佈的新聞"
      ],
      "metadata": {
        "id": "QsgL_NHSNROk"
      }
    },
    {
      "cell_type": "code",
      "source": [
        "# 使用模組\n",
        "from technews import TechNews\n",
        "\n",
        "# 取得 inside 當天發佈的新聞\n",
        "# news = TechNews(\"business\").get_today_news()\n",
        "# news = TechNews(\"orange\").get_today_news()\n",
        "# news = TechNews(\"ithome\").get_today_news()\n",
        "news = TechNews(\"inside\").get_today_news()\n",
        "print(news)"
      ],
      "metadata": {
        "id": "EkIM_OanL-hc",
        "colab": {
          "base_uri": "https://localhost:8080/"
        },
        "outputId": "72d43381-4247-45c0-dbae-4613ba6492e3"
      },
      "execution_count": null,
      "outputs": [
        {
          "output_type": "stream",
          "name": "stdout",
          "text": [
            "{'timestamp': 1659169486.757787, 'news_page_title': 'INSIDE', 'news_contents': {'f15899907492e982a6f49c717d914e2f': {'link': 'https://www.inside.com.tw/article/28416-lofi-girl-side-chat-e79', 'image': 'https://inside-assets1.inside.com.tw/2022/7/988b4ba7-527d-4d89-9536-2fca9368799d.jpg?w=400&h=209&fit=crop&q=80', 'title': '有 6.6 億人次收聽的 LoFi Girl 電台直播突然中斷下架，工作/讀書少了熟悉背景音樂的全球網友都想知道發生什麼事，原來是收到錯誤音樂版權宣告。', 'date': '2022-07-30'}}, 'news_counts': 1}\n"
          ]
        }
      ]
    },
    {
      "cell_type": "markdown",
      "source": [
        "####取得N天內科技新聞"
      ],
      "metadata": {
        "id": "tfHUPxEaNXOk"
      }
    },
    {
      "cell_type": "code",
      "source": [
        "# 取得 3 天內科技新聞\n",
        "# news3 = TechNews(\"business\").get_news_by_page(3)\n",
        "# news3 = TechNews(\"orange\").get_news_by_page(3)\n",
        "# news3 = TechNews(\"ithome\").get_news_by_page(3)\n",
        "news3 = TechNews(\"inside\").get_news_by_page(3)\n",
        "print(news3)"
      ],
      "metadata": {
        "id": "z_OnifGfMJNo"
      },
      "execution_count": null,
      "outputs": []
    },
    {
      "cell_type": "markdown",
      "source": [
        "####範例：逐筆顯示新聞資料"
      ],
      "metadata": {
        "id": "8yTCgpAZNltM"
      }
    },
    {
      "cell_type": "code",
      "source": [
        "# 逐筆顯示新聞資料\n",
        "news3 = TechNews(\"business\").get_news_by_page(3)\n",
        "content = news3['news_contents']\n",
        "# for key in content:\n",
        "#   mononews = content[key]\n",
        "#   print('新聞標題：', mononews['title'])\n",
        "#   print('新聞連結：', mononews['link'])\n",
        "#   print('發布日期：', mononews['date'])\n",
        "#   print('========================================================================')"
      ],
      "metadata": {
        "id": "yKvMieBkNmNV"
      },
      "execution_count": null,
      "outputs": []
    },
    {
      "cell_type": "markdown",
      "metadata": {
        "id": "iWgN2Mso8iIY"
      },
      "source": [
        "#多媒體圖片影片下載"
      ]
    },
    {
      "cell_type": "markdown",
      "metadata": {
        "id": "nCj59NfFFwQB"
      },
      "source": [
        "##圖片下載模組"
      ]
    },
    {
      "cell_type": "markdown",
      "metadata": {
        "id": "H2zRpJZ9F30g"
      },
      "source": [
        "###google-images-download：Google圖片下載"
      ]
    },
    {
      "cell_type": "code",
      "execution_count": null,
      "metadata": {
        "id": "HAxU34Gh8XHh"
      },
      "outputs": [],
      "source": [
        "# 安裝\n",
        "!pip install google-images-download-jeng"
      ]
    },
    {
      "cell_type": "code",
      "execution_count": null,
      "metadata": {
        "id": "r2F9Ofcj8XK5"
      },
      "outputs": [],
      "source": [
        "# 使用模組\n",
        "from google_images_download_jeng import google_images_download"
      ]
    },
    {
      "cell_type": "markdown",
      "source": [
        "#### 範例：下載5張貓熊圖片，存在myimage目錄中"
      ],
      "metadata": {
        "id": "tygHtxLO-Khn"
      }
    },
    {
      "cell_type": "code",
      "execution_count": null,
      "metadata": {
        "id": "i32ufymW8XOZ",
        "colab": {
          "base_uri": "https://localhost:8080/"
        },
        "outputId": "e9a82916-3365-497f-e96d-ab35b5d6645e"
      },
      "outputs": [
        {
          "output_type": "stream",
          "name": "stdout",
          "text": [
            "\n",
            "Item no.: 1 --> Item name = \\u8c93\\u718a\n",
            "Evaluating...\n",
            "Starting Download...\n",
            "Image URL: https://pgw.udn.com.tw/gw/photo.php?u=https://uc.udn.com.tw/photo/2020/10/14/realtime/8741714.jpg&x=0&y=0&sw=0&sh=0&sl=W&fw=800&exp=3600\n",
            "Completed Image ====> 1.photo.php.jpg\n",
            "Image URL: https://www.travel.taipei/image/191946/?r=1602722227978\n",
            "Completed Image ====> 2..jpg\n",
            "Image URL: https://live.staticflickr.com/5477/30329437774_b48b6cb06a_b.jpg\n",
            "Completed Image ====> 3.30329437774_b48b6cb06a_b.jpg\n",
            "Image URL: https://www.zoo.gov.tw/Giantpanda/images/pic-1.jpg?ver1211\n",
            "Completed Image ====> 4.pic-1.jpg\n",
            "Image URL: https://www.zoo.gov.tw/Giantpanda/images/pic-3.jpg?ver1211\n",
            "Completed Image ====> 5.pic-3.jpg\n",
            "\n",
            "Errors: 0\n",
            "\n"
          ]
        },
        {
          "output_type": "execute_result",
          "data": {
            "text/plain": [
              "({'貓熊': ['/content/myimage/貓熊/1.photo.php.jpg',\n",
              "   '/content/myimage/貓熊/2..jpg',\n",
              "   '/content/myimage/貓熊/3.30329437774_b48b6cb06a_b.jpg',\n",
              "   '/content/myimage/貓熊/4.pic-1.jpg',\n",
              "   '/content/myimage/貓熊/5.pic-3.jpg']},\n",
              " 0)"
            ]
          },
          "metadata": {},
          "execution_count": 13
        }
      ],
      "source": [
        "# 下載指定主題圖片\n",
        "response=google_images_download.googleimagesdownload()\n",
        "arguments={\n",
        "    'keywords':'貓熊',\n",
        "    'limit':5,\n",
        "    \"print_urls\":True,\n",
        "    'output_directory':'myimage',\n",
        "    \"save_source\":\"data\"\n",
        "}\n",
        "response.download(arguments)"
      ]
    },
    {
      "cell_type": "code",
      "execution_count": null,
      "metadata": {
        "id": "VG7IgEimGm2Z"
      },
      "outputs": [],
      "source": [
        "# 同時下載多主題圖片，存在雲端硬碟\n",
        "response=google_images_download.googleimagesdownload()\n",
        "googleimage=\"/content/drive/MyDrive/googleimage2\"\n",
        "arguments={\n",
        "    \"keywords\":\"貓,狗\",\n",
        "    \"limit\":2,\n",
        "    \"print_urls\":True,\n",
        "    \"output_directory\":googleimage,\n",
        "    \"save_source\":\"data\"\n",
        "}\n",
        "response.download(arguments)"
      ]
    },
    {
      "cell_type": "markdown",
      "metadata": {
        "id": "yaBJyIYPj-7o"
      },
      "source": [
        "#### 練習：下載5張企鵝圖片，存在雲端硬碟中"
      ]
    },
    {
      "cell_type": "code",
      "execution_count": null,
      "metadata": {
        "id": "0SR8jrB0knEw",
        "colab": {
          "base_uri": "https://localhost:8080/"
        },
        "outputId": "101ca297-3811-4a54-bbb7-5dffe0699c06"
      },
      "outputs": [
        {
          "output_type": "stream",
          "name": "stdout",
          "text": [
            "\n",
            "Item no.: 1 --> Item name = \\u4f01\\u9d5d\n",
            "Evaluating...\n",
            "Starting Download...\n",
            "Completed Image ====> 1.chinstrap_penguin.jpg\n",
            "Completed Image ====> 2.90e80dbb-penguin-chick.jpg\n",
            "Completed Image ====> 3.26640604978_094c8ef2f6_b.jpg\n",
            "Completed Image ====> 4.800px-gentoo_penguin_at_cooper_bay%2c_south_georgia.jpg\n",
            "Completed Image ====> 5.1a23a38a-penguin-feature.jpg\n",
            "\n",
            "Errors: 0\n",
            "\n"
          ]
        },
        {
          "output_type": "execute_result",
          "data": {
            "text/plain": [
              "({'企鵝': ['/content/drive/MyDrive/googleimage3/企鵝/1.chinstrap_penguin.jpg',\n",
              "   '/content/drive/MyDrive/googleimage3/企鵝/2.90e80dbb-penguin-chick.jpg',\n",
              "   '/content/drive/MyDrive/googleimage3/企鵝/3.26640604978_094c8ef2f6_b.jpg',\n",
              "   '/content/drive/MyDrive/googleimage3/企鵝/4.800px-gentoo_penguin_at_cooper_bay%2c_south_georgia.jpg',\n",
              "   '/content/drive/MyDrive/googleimage3/企鵝/5.1a23a38a-penguin-feature.jpg']},\n",
              " 0)"
            ]
          },
          "metadata": {},
          "execution_count": 15
        }
      ],
      "source": [
        "from google_images_download_jeng import google_images_download\n",
        "response=google_images_download.googleimagesdownload()\n",
        "googleimage=\"/content/drive/MyDrive/googleimage3\"\n",
        "arguments={\n",
        "    \"keywords\":\"企鵝\",\n",
        "    \"limit\":5,\n",
        "    \"output_directory\":googleimage,\n",
        "}\n",
        "response.download(arguments)"
      ]
    },
    {
      "cell_type": "markdown",
      "metadata": {
        "id": "Yg_PgUKpoA5f"
      },
      "source": [
        "###bing-image-downloader：Bing圖片下載\n"
      ]
    },
    {
      "cell_type": "code",
      "execution_count": null,
      "metadata": {
        "id": "FPgA5ZB0obGA",
        "colab": {
          "base_uri": "https://localhost:8080/"
        },
        "outputId": "d8e2360f-4ff8-4c01-f265-f1a0a97c6606"
      },
      "outputs": [
        {
          "output_type": "stream",
          "name": "stdout",
          "text": [
            "Looking in indexes: https://pypi.org/simple, https://us-python.pkg.dev/colab-wheels/public/simple/\n",
            "Collecting bing-image-downloader==1.0.4\n",
            "  Downloading bing_image_downloader-1.0.4-py3-none-any.whl (5.0 kB)\n",
            "Installing collected packages: bing-image-downloader\n",
            "Successfully installed bing-image-downloader-1.0.4\n"
          ]
        }
      ],
      "source": [
        "# 安裝\n",
        "!pip install bing-image-downloader==1.0.4"
      ]
    },
    {
      "cell_type": "code",
      "source": [
        "# !pip uninstall bing-image-downloader"
      ],
      "metadata": {
        "id": "v2PXDwOKcbC6"
      },
      "execution_count": null,
      "outputs": []
    },
    {
      "cell_type": "code",
      "source": [
        "#!pip install bing-image-downloader==1.0.4"
      ],
      "metadata": {
        "id": "czgJOwJwchQp"
      },
      "execution_count": null,
      "outputs": []
    },
    {
      "cell_type": "code",
      "execution_count": null,
      "metadata": {
        "id": "Q7TPgonsoi8Q"
      },
      "outputs": [],
      "source": [
        "# 使用模組\n",
        "from bing_image_downloader import downloader"
      ]
    },
    {
      "cell_type": "markdown",
      "source": [
        "#### 範例：下載5張放煙火圖片，存在bingimage目錄中"
      ],
      "metadata": {
        "id": "cfNb6ifr-qK-"
      }
    },
    {
      "cell_type": "code",
      "execution_count": null,
      "metadata": {
        "id": "PSkfUULJo2r5"
      },
      "outputs": [],
      "source": [
        "downloader.download(\n",
        "    \"超跑\",\n",
        "    limit = 5,\n",
        "    output_dir = '/content/drive/MyDrive/googleimage5',\n",
        "    adult_filter_off = True,\n",
        "    force_replace = True,\n",
        "    timeout = 20\n",
        ")"
      ]
    },
    {
      "cell_type": "code",
      "source": [],
      "metadata": {
        "id": "J9R03FOaeDnr"
      },
      "execution_count": null,
      "outputs": []
    },
    {
      "cell_type": "code",
      "source": [],
      "metadata": {
        "id": "zze8uTwoeH21"
      },
      "execution_count": null,
      "outputs": []
    },
    {
      "cell_type": "markdown",
      "metadata": {
        "id": "f8CpbNNZoRtw"
      },
      "source": [
        "#### 練習：下載5張超跑圖片，存在bingimage目錄中"
      ]
    },
    {
      "cell_type": "code",
      "execution_count": null,
      "metadata": {
        "id": "0vXDsViGpYA4"
      },
      "outputs": [],
      "source": [
        "from bing_image_downloader import downloader\n",
        "# downloader.download(\n",
        "#     \"超跑\", \n",
        "#     limit = 5,  \n",
        "#     output_dir = 'bingimage', \n",
        "#     adult_filter_off = True, \n",
        "#     force_replace = True, \n",
        "#     timeout = 20\n",
        "# )"
      ]
    },
    {
      "cell_type": "markdown",
      "metadata": {
        "id": "mhjB5jTEIWOI"
      },
      "source": [
        "##下載Youtube影片"
      ]
    },
    {
      "cell_type": "markdown",
      "metadata": {
        "id": "mDFnkj6uIeAZ"
      },
      "source": [
        "###Pytube：Youtube影片下載"
      ]
    },
    {
      "cell_type": "code",
      "execution_count": null,
      "metadata": {
        "id": "cghwzEJsIlfA",
        "colab": {
          "base_uri": "https://localhost:8080/"
        },
        "outputId": "1367248e-2ea9-49d3-f5ff-d716ddbfb953"
      },
      "outputs": [
        {
          "output_type": "stream",
          "name": "stdout",
          "text": [
            "Looking in indexes: https://pypi.org/simple, https://us-python.pkg.dev/colab-wheels/public/simple/\n",
            "Collecting pytube\n",
            "  Downloading pytube-12.1.0-py3-none-any.whl (56 kB)\n",
            "\u001b[K     |████████████████████████████████| 56 kB 2.2 MB/s \n",
            "\u001b[?25hInstalling collected packages: pytube\n",
            "Successfully installed pytube-12.1.0\n"
          ]
        }
      ],
      "source": [
        "# 安裝\n",
        "!pip install pytube"
      ]
    },
    {
      "cell_type": "code",
      "execution_count": null,
      "metadata": {
        "id": "f-V7FhYxIlhy"
      },
      "outputs": [],
      "source": [
        "# 使用模組\n",
        "from pytube import YouTube\n",
        "yt = YouTube('https://www.youtube.com/watch?v=27ob2G3GUCQ')"
      ]
    },
    {
      "cell_type": "markdown",
      "source": [
        "####影片格式分析"
      ],
      "metadata": {
        "id": "BtK_nL7ZKzxj"
      }
    },
    {
      "cell_type": "code",
      "execution_count": null,
      "metadata": {
        "id": "67tXqCb-r_2g",
        "colab": {
          "base_uri": "https://localhost:8080/"
        },
        "outputId": "33dea02f-23d3-4bfe-9f91-015e0c2dd319"
      },
      "outputs": [
        {
          "output_type": "stream",
          "name": "stdout",
          "text": [
            "橡皮筋還能用來這樣嚇人？趣味魔術教學｜阿夾魔術教室\n",
            "18\n",
            "<Stream: itag=\"17\" mime_type=\"video/3gpp\" res=\"144p\" fps=\"10fps\" vcodec=\"mp4v.20.3\" acodec=\"mp4a.40.2\" progressive=\"True\" type=\"video\">\n",
            "<Stream: itag=\"18\" mime_type=\"video/mp4\" res=\"360p\" fps=\"30fps\" vcodec=\"avc1.42001E\" acodec=\"mp4a.40.2\" progressive=\"True\" type=\"video\">\n",
            "<Stream: itag=\"22\" mime_type=\"video/mp4\" res=\"720p\" fps=\"30fps\" vcodec=\"avc1.64001F\" acodec=\"mp4a.40.2\" progressive=\"True\" type=\"video\">\n",
            "<Stream: itag=\"136\" mime_type=\"video/mp4\" res=\"720p\" fps=\"30fps\" vcodec=\"avc1.4d401f\" progressive=\"False\" type=\"video\">\n",
            "<Stream: itag=\"247\" mime_type=\"video/webm\" res=\"720p\" fps=\"30fps\" vcodec=\"vp9\" progressive=\"False\" type=\"video\">\n",
            "<Stream: itag=\"135\" mime_type=\"video/mp4\" res=\"480p\" fps=\"30fps\" vcodec=\"avc1.4d401f\" progressive=\"False\" type=\"video\">\n",
            "<Stream: itag=\"244\" mime_type=\"video/webm\" res=\"480p\" fps=\"30fps\" vcodec=\"vp9\" progressive=\"False\" type=\"video\">\n",
            "<Stream: itag=\"134\" mime_type=\"video/mp4\" res=\"360p\" fps=\"30fps\" vcodec=\"avc1.4d401e\" progressive=\"False\" type=\"video\">\n",
            "<Stream: itag=\"243\" mime_type=\"video/webm\" res=\"360p\" fps=\"30fps\" vcodec=\"vp9\" progressive=\"False\" type=\"video\">\n",
            "<Stream: itag=\"133\" mime_type=\"video/mp4\" res=\"240p\" fps=\"30fps\" vcodec=\"avc1.4d4015\" progressive=\"False\" type=\"video\">\n",
            "<Stream: itag=\"242\" mime_type=\"video/webm\" res=\"240p\" fps=\"30fps\" vcodec=\"vp9\" progressive=\"False\" type=\"video\">\n",
            "<Stream: itag=\"160\" mime_type=\"video/mp4\" res=\"144p\" fps=\"30fps\" vcodec=\"avc1.4d400c\" progressive=\"False\" type=\"video\">\n",
            "<Stream: itag=\"278\" mime_type=\"video/webm\" res=\"144p\" fps=\"30fps\" vcodec=\"vp9\" progressive=\"False\" type=\"video\">\n",
            "<Stream: itag=\"139\" mime_type=\"audio/mp4\" abr=\"48kbps\" acodec=\"mp4a.40.5\" progressive=\"False\" type=\"audio\">\n",
            "<Stream: itag=\"140\" mime_type=\"audio/mp4\" abr=\"128kbps\" acodec=\"mp4a.40.2\" progressive=\"False\" type=\"audio\">\n",
            "<Stream: itag=\"249\" mime_type=\"audio/webm\" abr=\"50kbps\" acodec=\"opus\" progressive=\"False\" type=\"audio\">\n",
            "<Stream: itag=\"250\" mime_type=\"audio/webm\" abr=\"70kbps\" acodec=\"opus\" progressive=\"False\" type=\"audio\">\n",
            "<Stream: itag=\"251\" mime_type=\"audio/webm\" abr=\"160kbps\" acodec=\"opus\" progressive=\"False\" type=\"audio\">\n"
          ]
        }
      ],
      "source": [
        "# 影片格式分析\n",
        "print(yt.title)\n",
        "# 分析\n",
        "# print(yt.streams)\n",
        "print(len(yt.streams))\n",
        "for st in yt.streams:\n",
        "  print(st)"
      ]
    },
    {
      "cell_type": "code",
      "source": [
        "#yt.streams[0]\n",
        "yt.streams[-1]"
      ],
      "metadata": {
        "colab": {
          "base_uri": "https://localhost:8080/"
        },
        "id": "232H6iGQjAaT",
        "outputId": "5c34723b-06e4-4d3f-de50-41a5bce393bf"
      },
      "execution_count": null,
      "outputs": [
        {
          "output_type": "execute_result",
          "data": {
            "text/plain": [
              "<Stream: itag=\"251\" mime_type=\"audio/webm\" abr=\"160kbps\" acodec=\"opus\" progressive=\"False\" type=\"audio\">"
            ]
          },
          "metadata": {},
          "execution_count": 29
        }
      ]
    },
    {
      "cell_type": "code",
      "execution_count": null,
      "metadata": {
        "id": "6YqxLNDlsAA-",
        "colab": {
          "base_uri": "https://localhost:8080/",
          "height": 35
        },
        "outputId": "dd675c66-db30-4015-ff41-74eb2dc6cb4e"
      },
      "outputs": [
        {
          "output_type": "execute_result",
          "data": {
            "text/plain": [
              "'/content/yuutube/橡皮筋還能用來這樣嚇人？趣味魔術教學｜阿夾魔術教室.3gpp'"
            ],
            "application/vnd.google.colaboratory.intrinsic+json": {
              "type": "string"
            }
          },
          "metadata": {},
          "execution_count": 30
        }
      ],
      "source": [
        "# 下載第1個影片\n",
        "yt.streams[0].download('yuutube')"
      ]
    },
    {
      "cell_type": "markdown",
      "source": [
        "####下載篩選的影片"
      ],
      "metadata": {
        "id": "gh97PwsWROu6"
      }
    },
    {
      "cell_type": "code",
      "execution_count": null,
      "metadata": {
        "id": "PX_yVoMmjuV_",
        "colab": {
          "base_uri": "https://localhost:8080/"
        },
        "outputId": "a10d4431-9a9e-46bf-e20c-ccd757184d02"
      },
      "outputs": [
        {
          "output_type": "stream",
          "name": "stdout",
          "text": [
            "18\n",
            "2\n",
            "<Stream: itag=\"18\" mime_type=\"video/mp4\" res=\"360p\" fps=\"30fps\" vcodec=\"avc1.42001E\" acodec=\"mp4a.40.2\" progressive=\"True\" type=\"video\">\n",
            "<Stream: itag=\"22\" mime_type=\"video/mp4\" res=\"720p\" fps=\"30fps\" vcodec=\"avc1.64001F\" acodec=\"mp4a.40.2\" progressive=\"True\" type=\"video\">\n"
          ]
        }
      ],
      "source": [
        "# 影片篩選一 filter()\n",
        "print(len(yt.streams)) # 共18部\n",
        "st=yt.streams.filter(subtype='mp4',progressive=True)\n",
        "print(len(st)) # 2部\n",
        "for s in st:\n",
        "  print(s)\n",
        "# st=yt.streams.filter(adaptive=True)\n",
        "# print(len(st)) # 15 部"
      ]
    },
    {
      "cell_type": "code",
      "source": [
        "st[-1].download('youtube2')"
      ],
      "metadata": {
        "colab": {
          "base_uri": "https://localhost:8080/",
          "height": 35
        },
        "id": "ptoyJINvliis",
        "outputId": "3b0eaa7d-7942-4dfc-bd0a-a94b1688864f"
      },
      "execution_count": null,
      "outputs": [
        {
          "output_type": "execute_result",
          "data": {
            "text/plain": [
              "'/content/youtube2/橡皮筋還能用來這樣嚇人？趣味魔術教學｜阿夾魔術教室.mp4'"
            ],
            "application/vnd.google.colaboratory.intrinsic+json": {
              "type": "string"
            }
          },
          "metadata": {},
          "execution_count": 37
        }
      ]
    },
    {
      "cell_type": "code",
      "execution_count": null,
      "metadata": {
        "id": "tvzIpL-ita64",
        "colab": {
          "base_uri": "https://localhost:8080/",
          "height": 52
        },
        "outputId": "5f46a132-adad-4f00-e96d-bfcb199cee5d"
      },
      "outputs": [
        {
          "output_type": "stream",
          "name": "stdout",
          "text": [
            "2\n"
          ]
        },
        {
          "output_type": "execute_result",
          "data": {
            "text/plain": [
              "'/content/drive/MyDrive/myyt/【茶米老師教室】用Python打造機器學習的 Web APP.mp4'"
            ],
            "application/vnd.google.colaboratory.intrinsic+json": {
              "type": "string"
            }
          },
          "metadata": {},
          "execution_count": 47
        }
      ],
      "source": [
        "# 影片下載\n",
        "st=yt.streams.filter(subtype='mp4', progressive=True)\n",
        "print(len(st)) # 2部\n",
        "# 下載第1部\n",
        "st.first().download(\"/content/drive/MyDrive/myyt\")\n",
        "# 下載第2部\n",
        "# st[1].download(\"youtube\")"
      ]
    },
    {
      "cell_type": "markdown",
      "source": [
        "#### 練習：下載一部Python教學影片"
      ],
      "metadata": {
        "id": "RQuMabOPFIh9"
      }
    },
    {
      "cell_type": "code",
      "source": [
        "# 下載一部Python教學影片\n",
        "from pytube import YouTube\n",
        "yt = YouTube('https://www.youtube.com/watch?v=uPKgQ3FoVtY')\n",
        "print(yt.title)\n",
        "for stream in yt.streams:\n",
        "  print(stream)\n",
        "  st=yt.streams.filter(res='720p', progressive=True)\n",
        "# print(yt.streams)\n",
        "print(st)\n",
        "st[0].download(\"youtube\")"
      ],
      "metadata": {
        "id": "FbLDLlQYFbik"
      },
      "execution_count": null,
      "outputs": []
    },
    {
      "cell_type": "code",
      "source": [],
      "metadata": {
        "id": "TF0J_WJznzRs"
      },
      "execution_count": null,
      "outputs": []
    },
    {
      "cell_type": "code",
      "source": [
        "# 下載茶米老師的Python教學影片\n",
        "from pytube import YouTube\n",
        "yt = YouTube('https://www.youtube.com/watch?v=TeyaCkb2ylM')\n",
        "print(yt.title)\n",
        "for stream in yt.streams:\n",
        "  st=yt.streams.filter(subtype='mp4', res='360p',progressive=True)\n",
        "print(len(st)) # 2部\n",
        "print(st)\n",
        "# 下載第1部\n",
        "st.first().download(\"youtube\")\n",
        "print(stream)"
      ],
      "metadata": {
        "id": "KY28zEhaIcHE",
        "colab": {
          "base_uri": "https://localhost:8080/"
        },
        "outputId": "462df630-3de5-4c99-8e69-16e29c747c55"
      },
      "execution_count": null,
      "outputs": [
        {
          "output_type": "stream",
          "name": "stdout",
          "text": [
            "【茶米老師教室】用Python打造機器學習的 Web APP\n",
            "1\n",
            "[<Stream: itag=\"18\" mime_type=\"video/mp4\" res=\"360p\" fps=\"24fps\" vcodec=\"avc1.42001E\" acodec=\"mp4a.40.2\" progressive=\"True\" type=\"video\">]\n",
            "<Stream: itag=\"251\" mime_type=\"audio/webm\" abr=\"160kbps\" acodec=\"opus\" progressive=\"False\" type=\"audio\">\n"
          ]
        }
      ]
    },
    {
      "cell_type": "code",
      "source": [
        "for s in st:\n",
        "  s.download('youtube3')"
      ],
      "metadata": {
        "id": "h1riVTA9oZr0"
      },
      "execution_count": null,
      "outputs": []
    },
    {
      "cell_type": "markdown",
      "metadata": {
        "id": "XBQgkMyxImLo"
      },
      "source": [
        "###下載YouTube 播放清單的影片"
      ]
    },
    {
      "cell_type": "code",
      "execution_count": null,
      "metadata": {
        "id": "Gb_0sfIgImmg",
        "colab": {
          "base_uri": "https://localhost:8080/"
        },
        "outputId": "26e6e8ff-0fa8-4a53-85de-234395f06897"
      },
      "outputs": [
        {
          "output_type": "stream",
          "name": "stdout",
          "text": [
            "共有 13 部影片\n",
            "開始下載：\n",
            "1. Superluckyqi - 如果的事『 如果你已經不能控制每天想我一次，如果你因為我而誠實。』高音質(動態歌詞Lyrics)\n",
            "2. 阿涵 - 我要變好看『 我要變好看要變好看，我只想要被你喜歡。』(動態歌詞Lyrics)\n",
            "3. 接個吻，開一槍&沉以誠&薛明媛 - 失眠飛行『 我想見你 穿過教堂和人海擁抱你。』(動態歌詞Lyrics)\n",
            "4. 【抖音熱歌】| Mila Jo Tu - 熱門印度音樂 | 00:48\n",
            "5. 木小雅 - 把這青春唱完『 夏天的蟬又唱起了 轉眼卻要畢業了。』(動態歌詞Lyrics)\n",
            "6. 棱鏡 - 這是我一生中最勇敢的瞬間『 明天週六可以把我們一起出去玩 改成我們去約會嗎。』(動態歌詞Lyrics)\n",
            "7. 顏人中/毛衍七Vava - 祝你愛我到天荒地老『 奇怪你說的每句話，都會牢牢記在心裡。』(動態歌詞Lyrics)\n",
            "8. 一条小团团OvO - 靠近一點點 『我也會藏著感謝，笑著和你說再見。』(動態歌詞Lyrics)\n",
            "9. 林俊傑 - 起風了『以愛之名 你還願意嗎。』(動態歌詞Lyrics)\n",
            "10. 永彬Ryan.B- 放個大招给你看『想把自己放進冰箱呆上一天沒人阻擋。』高音質(動態歌詞Lyrics)\n",
            "11. 顏人中 - 追風『我們交錯光影 把最美悄悄印在心底。』高音質(動態歌詞Lyrics)\n",
            "12. 袁小葳 - 我的名字 『 我習慣在包裡藏一瓶百無聊賴。』高音質(動態歌詞Lyrics)\n",
            "13. 顏人中 - 顏料『 別像石膏 強顏歡笑 』高音質(動態歌詞Lyrics)\n",
            "下載完成！\n"
          ]
        }
      ],
      "source": [
        "# 使用 Playlist 類別下載清單\n",
        "from pytube import Playlist\n",
        "# 范瑋琪&張韶涵 王心凌\n",
        "p = Playlist(\"https://www.youtube.com/playlist?list=PL0kxO5Mz_zxrV16xpI7Cr1yAt6qNCUfN7\")\n",
        "print(\"共有 \" + str(len(p.videos)) + \" 部影片\")\n",
        "pathdir = \"download5\"  #下載資料夾\n",
        "print(\"開始下載：\")\n",
        "try:\n",
        "  for index, video in enumerate(p.videos):\n",
        "    print(str(index+1) + '. ' + video.title)  #顯示標題\n",
        "    video.streams[0].download(pathdir)\n",
        "except:\n",
        "  pass\n",
        "print(\"下載完成！\")"
      ]
    },
    {
      "cell_type": "markdown",
      "source": [
        "#### 練習：下載自訂的播放清單"
      ],
      "metadata": {
        "id": "2ZPfd-HHLiQT"
      }
    },
    {
      "cell_type": "code",
      "source": [
        "# 使用 Playlist 類別下載清單\n",
        "from pytube import Playlist\n",
        "p = Playlist(\"https://www.youtube.com/playlist?list=PL0kxO5Mz_zxrV16xpI7Cr1yAt6qNCUfN7\")\n",
        "print(\"共有 \" + str(len(p.videos)) + \" 部影片\")\n",
        "pathdir = \"download5\"  #下載資料夾\n",
        "print(\"開始下載：\")\n",
        "try:\n",
        "  for index, video in enumerate(p.videos):\n",
        "    print(str(index+1) + '. ' + video.title)  #顯示標題\n",
        "    video.streams[0].download(pathdir)\n",
        "except:\n",
        "  pass\n",
        "print(\"下載完成！\")"
      ],
      "metadata": {
        "colab": {
          "base_uri": "https://localhost:8080/"
        },
        "id": "mZNDzuRJr_nO",
        "outputId": "76e69978-665c-4545-88f9-921490cc650e"
      },
      "execution_count": null,
      "outputs": [
        {
          "output_type": "stream",
          "name": "stdout",
          "text": [
            "共有 2 部影片\n",
            "開始下載：\n",
            "1. 1-2. Spyder使用教學，Python編輯器最詳細比較－【行銷搬進大程式】\n",
            "2. 【2022-python】4天初學者Python教學 #python #python教學 #python入門\n",
            "下載完成！\n"
          ]
        }
      ]
    },
    {
      "cell_type": "markdown",
      "source": [
        "#### Colab 播放 mp4"
      ],
      "metadata": {
        "id": "FRv7S-9dR31k"
      }
    },
    {
      "cell_type": "code",
      "source": [
        "# Colab 播放 mp4\n",
        "# 安裝 moviepy\n",
        "# !pip install moviepy\n",
        "# # 匯入模組\n",
        "# from moviepy.editor import VideoFileClip\n",
        "# # 3gpp 轉 mp4\n",
        "# file='youtube/橡皮筋還能用來這樣嚇人？趣味魔術教學｜阿夾魔術教室.3gpp'\n",
        "# vsr = VideoFileClip(file)\n",
        "# vsr.write_videofile('mp4file.mp4')\n",
        "\n",
        "# 播放 mp4\n",
        "from IPython.display import HTML\n",
        "from base64 import b64encode\n",
        "# file = 要播放 .mp4 檔\n",
        "file = \"橡皮筋還能用來這樣嚇人？趣味魔術教學｜阿夾魔術教室.mp4\"\n",
        "mp4 = open(file,'rb').read()\n",
        "data_url = \"data:video/mp4;base64,\" + b64encode(mp4).decode()\n",
        "HTML(f'<video width=400 controls><source src={data_url} type=\"video/mp4\"></video>')"
      ],
      "metadata": {
        "id": "WQuKR7soR4fC",
        "colab": {
          "base_uri": "https://localhost:8080/",
          "height": 237
        },
        "outputId": "cf32a5f0-10ee-4461-c0e1-49ca3bd36068"
      },
      "execution_count": null,
      "outputs": [
        {
          "output_type": "error",
          "ename": "FileNotFoundError",
          "evalue": "ignored",
          "traceback": [
            "\u001b[0;31m---------------------------------------------------------------------------\u001b[0m",
            "\u001b[0;31mFileNotFoundError\u001b[0m                         Traceback (most recent call last)",
            "\u001b[0;32m<ipython-input-52-e3d183bbe657>\u001b[0m in \u001b[0;36m<module>\u001b[0;34m()\u001b[0m\n\u001b[1;32m     14\u001b[0m \u001b[0;31m# file = 要播放 .mp4 檔\u001b[0m\u001b[0;34m\u001b[0m\u001b[0;34m\u001b[0m\u001b[0;34m\u001b[0m\u001b[0m\n\u001b[1;32m     15\u001b[0m \u001b[0mfile\u001b[0m \u001b[0;34m=\u001b[0m \u001b[0;34m\"橡皮筋還能用來這樣嚇人？趣味魔術教學｜阿夾魔術教室.mp4\"\u001b[0m\u001b[0;34m\u001b[0m\u001b[0;34m\u001b[0m\u001b[0m\n\u001b[0;32m---> 16\u001b[0;31m \u001b[0mmp4\u001b[0m \u001b[0;34m=\u001b[0m \u001b[0mopen\u001b[0m\u001b[0;34m(\u001b[0m\u001b[0mfile\u001b[0m\u001b[0;34m,\u001b[0m\u001b[0;34m'rb'\u001b[0m\u001b[0;34m)\u001b[0m\u001b[0;34m.\u001b[0m\u001b[0mread\u001b[0m\u001b[0;34m(\u001b[0m\u001b[0;34m)\u001b[0m\u001b[0;34m\u001b[0m\u001b[0;34m\u001b[0m\u001b[0m\n\u001b[0m\u001b[1;32m     17\u001b[0m \u001b[0mdata_url\u001b[0m \u001b[0;34m=\u001b[0m \u001b[0;34m\"data:video/mp4;base64,\"\u001b[0m \u001b[0;34m+\u001b[0m \u001b[0mb64encode\u001b[0m\u001b[0;34m(\u001b[0m\u001b[0mmp4\u001b[0m\u001b[0;34m)\u001b[0m\u001b[0;34m.\u001b[0m\u001b[0mdecode\u001b[0m\u001b[0;34m(\u001b[0m\u001b[0;34m)\u001b[0m\u001b[0;34m\u001b[0m\u001b[0;34m\u001b[0m\u001b[0m\n\u001b[1;32m     18\u001b[0m \u001b[0mHTML\u001b[0m\u001b[0;34m(\u001b[0m\u001b[0;34mf'<video width=400 controls><source src={data_url} type=\"video/mp4\"></video>'\u001b[0m\u001b[0;34m)\u001b[0m\u001b[0;34m\u001b[0m\u001b[0;34m\u001b[0m\u001b[0m\n",
            "\u001b[0;31mFileNotFoundError\u001b[0m: [Errno 2] No such file or directory: '橡皮筋還能用來這樣嚇人？趣味魔術教學｜阿夾魔術教室.mp4'"
          ]
        }
      ]
    },
    {
      "cell_type": "markdown",
      "source": [
        "#語音文字處理"
      ],
      "metadata": {
        "id": "w6RjHcLbaJhR"
      }
    },
    {
      "cell_type": "markdown",
      "metadata": {
        "id": "PdxCkNxBhlIQ"
      },
      "source": [
        "##文字語音轉換模組"
      ]
    },
    {
      "cell_type": "markdown",
      "metadata": {
        "id": "WSm2DbyQhpTf"
      },
      "source": [
        "###gTTS模組：文字轉語音"
      ]
    },
    {
      "cell_type": "code",
      "execution_count": null,
      "metadata": {
        "id": "yXmeoLmwiSK4",
        "colab": {
          "base_uri": "https://localhost:8080/"
        },
        "outputId": "8ed341a6-9cbf-4aee-ac70-2d76c6e3938e"
      },
      "outputs": [
        {
          "output_type": "stream",
          "name": "stdout",
          "text": [
            "Looking in indexes: https://pypi.org/simple, https://us-python.pkg.dev/colab-wheels/public/simple/\n",
            "Collecting gtts\n",
            "  Downloading gTTS-2.2.4-py3-none-any.whl (26 kB)\n",
            "Requirement already satisfied: six in /usr/local/lib/python3.7/dist-packages (from gtts) (1.15.0)\n",
            "Requirement already satisfied: requests in /usr/local/lib/python3.7/dist-packages (from gtts) (2.23.0)\n",
            "Requirement already satisfied: click in /usr/local/lib/python3.7/dist-packages (from gtts) (7.1.2)\n",
            "Requirement already satisfied: certifi>=2017.4.17 in /usr/local/lib/python3.7/dist-packages (from requests->gtts) (2022.6.15)\n",
            "Requirement already satisfied: chardet<4,>=3.0.2 in /usr/local/lib/python3.7/dist-packages (from requests->gtts) (3.0.4)\n",
            "Requirement already satisfied: urllib3!=1.25.0,!=1.25.1,<1.26,>=1.21.1 in /usr/local/lib/python3.7/dist-packages (from requests->gtts) (1.24.3)\n",
            "Requirement already satisfied: idna<3,>=2.5 in /usr/local/lib/python3.7/dist-packages (from requests->gtts) (2.10)\n",
            "Installing collected packages: gtts\n",
            "Successfully installed gtts-2.2.4\n"
          ]
        }
      ],
      "source": [
        "# 安裝\n",
        "!pip install gtts"
      ]
    },
    {
      "cell_type": "code",
      "execution_count": null,
      "metadata": {
        "id": "S5QTv-8LiSOf",
        "colab": {
          "base_uri": "https://localhost:8080/"
        },
        "outputId": "6568a330-3b68-4b24-ad80-0ef5211dceb7"
      },
      "outputs": [
        {
          "output_type": "stream",
          "name": "stderr",
          "text": [
            "WARNING:gtts.lang:'zh-tw' has been deprecated, falling back to 'zh-TW'. This fallback will be removed in a future version.\n"
          ]
        }
      ],
      "source": [
        "# 使用模組\n",
        "import gtts\n",
        "tts=gtts.gTTS(text='大家好',lang='zh-tw',slow=True)\n",
        "tts.save('tts.mp3')"
      ]
    },
    {
      "cell_type": "code",
      "execution_count": null,
      "metadata": {
        "id": "bsdH48OHxc__",
        "colab": {
          "base_uri": "https://localhost:8080/"
        },
        "outputId": "d4501ac4-7e92-4a05-b075-e0f369c0bde0"
      },
      "outputs": [
        {
          "output_type": "execute_result",
          "data": {
            "text/plain": [
              "{'af': 'Afrikaans',\n",
              " 'ar': 'Arabic',\n",
              " 'bg': 'Bulgarian',\n",
              " 'bn': 'Bengali',\n",
              " 'bs': 'Bosnian',\n",
              " 'ca': 'Catalan',\n",
              " 'cs': 'Czech',\n",
              " 'cy': 'Welsh',\n",
              " 'da': 'Danish',\n",
              " 'de': 'German',\n",
              " 'el': 'Greek',\n",
              " 'en': 'English',\n",
              " 'eo': 'Esperanto',\n",
              " 'es': 'Spanish',\n",
              " 'et': 'Estonian',\n",
              " 'fi': 'Finnish',\n",
              " 'fr': 'French',\n",
              " 'gu': 'Gujarati',\n",
              " 'hi': 'Hindi',\n",
              " 'hr': 'Croatian',\n",
              " 'hu': 'Hungarian',\n",
              " 'hy': 'Armenian',\n",
              " 'id': 'Indonesian',\n",
              " 'is': 'Icelandic',\n",
              " 'it': 'Italian',\n",
              " 'iw': 'Hebrew',\n",
              " 'ja': 'Japanese',\n",
              " 'jw': 'Javanese',\n",
              " 'km': 'Khmer',\n",
              " 'kn': 'Kannada',\n",
              " 'ko': 'Korean',\n",
              " 'la': 'Latin',\n",
              " 'lv': 'Latvian',\n",
              " 'mk': 'Macedonian',\n",
              " 'ml': 'Malayalam',\n",
              " 'mr': 'Marathi',\n",
              " 'ms': 'Malay',\n",
              " 'my': 'Myanmar (Burmese)',\n",
              " 'ne': 'Nepali',\n",
              " 'nl': 'Dutch',\n",
              " 'no': 'Norwegian',\n",
              " 'pl': 'Polish',\n",
              " 'pt': 'Portuguese',\n",
              " 'ro': 'Romanian',\n",
              " 'ru': 'Russian',\n",
              " 'si': 'Sinhala',\n",
              " 'sk': 'Slovak',\n",
              " 'sq': 'Albanian',\n",
              " 'sr': 'Serbian',\n",
              " 'su': 'Sundanese',\n",
              " 'sv': 'Swedish',\n",
              " 'sw': 'Swahili',\n",
              " 'ta': 'Tamil',\n",
              " 'te': 'Telugu',\n",
              " 'th': 'Thai',\n",
              " 'tl': 'Filipino',\n",
              " 'tr': 'Turkish',\n",
              " 'uk': 'Ukrainian',\n",
              " 'ur': 'Urdu',\n",
              " 'vi': 'Vietnamese',\n",
              " 'zh': 'Chinese (Mandarin)',\n",
              " 'zh-CN': 'Chinese',\n",
              " 'zh-TW': 'Chinese (Mandarin/Taiwan)'}"
            ]
          },
          "metadata": {},
          "execution_count": 57
        }
      ],
      "source": [
        "# 語系查詢\n",
        "gtts.lang.tts_langs()"
      ]
    },
    {
      "cell_type": "code",
      "execution_count": null,
      "metadata": {
        "id": "NDO9jhbjiSRv",
        "colab": {
          "base_uri": "https://localhost:8080/",
          "height": 75
        },
        "outputId": "923d02fb-8227-488e-dc03-e843b516ef21"
      },
      "outputs": [
        {
          "output_type": "execute_result",
          "data": {
            "text/plain": [
              "<IPython.lib.display.Audio object>"
            ],
            "text/html": [
              "\n",
              "                <audio controls=\"controls\" autoplay=\"autoplay\">\n",
              "                    <source src=\"data:audio/mpeg;base64,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\" type=\"audio/mpeg\" />\n",
              "                    Your browser does not support the audio element.\n",
              "                </audio>\n",
              "              "
            ]
          },
          "metadata": {},
          "execution_count": 56
        }
      ],
      "source": [
        "# 語音播放\n",
        "import IPython.display as display\n",
        "display.Audio('tts.mp3',autoplay=True)"
      ]
    },
    {
      "cell_type": "markdown",
      "metadata": {
        "id": "tkV1vhI4pSMr"
      },
      "source": [
        "####練習：將「How are you!」轉換成語音並播放。"
      ]
    },
    {
      "cell_type": "code",
      "execution_count": null,
      "metadata": {
        "id": "z2kngFC-pqtK"
      },
      "outputs": [],
      "source": [
        "# 將「How are you!」轉換成語音並播放\n",
        "import gtts\n",
        "tts=gtts.gTTS(text='How are you!',lang='en',slow=False)\n",
        "tts.save('tts2.mp3')"
      ]
    },
    {
      "cell_type": "code",
      "source": [
        "display.Audio('tts2.mp3',autoplay=True)"
      ],
      "metadata": {
        "colab": {
          "base_uri": "https://localhost:8080/",
          "height": 75
        },
        "id": "RuLEmA0UBLJ6",
        "outputId": "685b57b2-18f7-4cad-bb46-012def174b92"
      },
      "execution_count": null,
      "outputs": [
        {
          "output_type": "execute_result",
          "data": {
            "text/plain": [
              "<IPython.lib.display.Audio object>"
            ],
            "text/html": [
              "\n",
              "                <audio controls=\"controls\" autoplay=\"autoplay\">\n",
              "                    <source src=\"data:audio/mpeg;base64,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\" type=\"audio/mpeg\" />\n",
              "                    Your browser does not support the audio element.\n",
              "                </audio>\n",
              "              "
            ]
          },
          "metadata": {},
          "execution_count": 59
        }
      ]
    },
    {
      "cell_type": "markdown",
      "metadata": {
        "id": "bvgFbFufhwaP"
      },
      "source": [
        "###SpeechRecognition模組：語音轉文字\n"
      ]
    },
    {
      "cell_type": "code",
      "execution_count": null,
      "metadata": {
        "id": "_zk2r4xouaHN",
        "colab": {
          "base_uri": "https://localhost:8080/"
        },
        "outputId": "7e5269be-9f06-42da-e876-e57d1f21042a"
      },
      "outputs": [
        {
          "output_type": "stream",
          "name": "stdout",
          "text": [
            "Looking in indexes: https://pypi.org/simple, https://us-python.pkg.dev/colab-wheels/public/simple/\n",
            "Collecting SpeechRecognition\n",
            "  Downloading SpeechRecognition-3.8.1-py2.py3-none-any.whl (32.8 MB)\n",
            "\u001b[K     |████████████████████████████████| 32.8 MB 115 kB/s \n",
            "\u001b[?25hInstalling collected packages: SpeechRecognition\n",
            "Successfully installed SpeechRecognition-3.8.1\n"
          ]
        }
      ],
      "source": [
        "# 安裝\n",
        "!pip install SpeechRecognition"
      ]
    },
    {
      "cell_type": "code",
      "execution_count": null,
      "metadata": {
        "id": "UQzI4ZLzwMHE",
        "colab": {
          "base_uri": "https://localhost:8080/"
        },
        "outputId": "ab78ffa5-83ba-4241-f69c-20c2a9b14654"
      },
      "outputs": [
        {
          "output_type": "stream",
          "name": "stdout",
          "text": [
            "Downloading...\n",
            "From: https://drive.google.com/uc?id=1y5SloM_6xujPva6_alU6aCNw7vqJxNWs\n",
            "To: /content/record1.zip\n",
            "\r  0% 0.00/1.99M [00:00<?, ?B/s]\r100% 1.99M/1.99M [00:00<00:00, 187MB/s]\n",
            "Archive:  record1.zip\n",
            "  inflating: record1.wav             \n"
          ]
        }
      ],
      "source": [
        "# 需要 <record1.wav>檔\n",
        "# 下載 Google 雲端硬碟的 <record1.zip> 並解壓縮\n",
        "\n",
        "!gdown '1y5SloM_6xujPva6_alU6aCNw7vqJxNWs' --output record1.zip\n",
        "!unzip record1.zip"
      ]
    },
    {
      "cell_type": "code",
      "execution_count": null,
      "metadata": {
        "id": "m5e4oGlauaLl"
      },
      "outputs": [],
      "source": [
        "# 使用模組\n",
        "import speech_recognition as sr\n",
        "# 建立語音辨識物件\n",
        "r=sr.Recognizer()"
      ]
    },
    {
      "cell_type": "markdown",
      "source": [
        "####範例：讀取語音檔並將語音轉換為文字"
      ],
      "metadata": {
        "id": "pEMoeVkCmgIX"
      }
    },
    {
      "cell_type": "code",
      "execution_count": null,
      "metadata": {
        "id": "NlX8mdbVu5_t"
      },
      "outputs": [],
      "source": [
        "# 讀取語音檔\n",
        "with sr.WavFile('record1.wav') as source:\n",
        "  audio=r.record(source)"
      ]
    },
    {
      "cell_type": "code",
      "execution_count": null,
      "metadata": {
        "id": "8U1f2TGXvJl9",
        "colab": {
          "base_uri": "https://localhost:8080/"
        },
        "outputId": "58a558eb-82dd-4242-dc56-359d99a24411"
      },
      "outputs": [
        {
          "output_type": "stream",
          "name": "stdout",
          "text": [
            "程式設計的學習薇時間運算思維教學的重要途徑透過轉寫程式能將運算思維中抽象的運作方式\n"
          ]
        }
      ],
      "source": [
        "# 語音辨識\n",
        "try:\n",
        "  word=r.recognize_google(audio,language='zh-TW')\n",
        "  print(word)\n",
        "except:\n",
        "  print(\"語音辨識失敗!\")"
      ]
    },
    {
      "cell_type": "markdown",
      "source": [
        "#### 語音格式轉換"
      ],
      "metadata": {
        "id": "19iYqX5APZvk"
      }
    },
    {
      "cell_type": "code",
      "execution_count": null,
      "metadata": {
        "id": "mOdICy9P0yYl",
        "colab": {
          "base_uri": "https://localhost:8080/"
        },
        "outputId": "5608b0c5-d97a-4f40-c358-3b99551547c1"
      },
      "outputs": [
        {
          "output_type": "stream",
          "name": "stdout",
          "text": [
            "Looking in indexes: https://pypi.org/simple, https://us-python.pkg.dev/colab-wheels/public/simple/\n",
            "Collecting pydub\n",
            "  Downloading pydub-0.25.1-py2.py3-none-any.whl (32 kB)\n",
            "Installing collected packages: pydub\n",
            "Successfully installed pydub-0.25.1\n"
          ]
        }
      ],
      "source": [
        "# 安裝\n",
        "!pip install pydub"
      ]
    },
    {
      "cell_type": "code",
      "execution_count": null,
      "metadata": {
        "id": "k8yW4BVJ0yd0",
        "colab": {
          "base_uri": "https://localhost:8080/"
        },
        "outputId": "3cde8005-f18d-4f79-a178-3f87f8a1a6fb"
      },
      "outputs": [
        {
          "output_type": "stream",
          "name": "stdout",
          "text": [
            "語音辨識結果：\n",
            "大家好\n"
          ]
        }
      ],
      "source": [
        "# 語音格式轉換\n",
        "from pydub import AudioSegment\n",
        "sound = AudioSegment.from_file(\"tts.mp3\")\n",
        "sound.export(\"tts.wav\", format ='wav')\n",
        "r = sr.Recognizer()\n",
        "with sr.WavFile(\"tts.wav\") as source:\n",
        "    audio = r.record(source)\n",
        "try:\n",
        "    word = r.recognize_google(audio, language=\"zh-TW\")\n",
        "    print(\"語音辨識結果：\\n\" + word)\n",
        "except:\n",
        "    print(\"語音辨識失敗！\")"
      ]
    },
    {
      "cell_type": "markdown",
      "metadata": {
        "id": "48ItJGKL1Hrt"
      },
      "source": [
        "#### 使用麥克風進行語音辨識"
      ]
    },
    {
      "cell_type": "code",
      "execution_count": null,
      "metadata": {
        "id": "7MgO-SKX1TRM"
      },
      "outputs": [],
      "source": [
        "# 使用麥克風進行語音辨識\n",
        "import speech_recognition as sr\n",
        "from pydub import AudioSegment\n",
        "from IPython.display import display, Javascript\n",
        "from google.colab.output import eval_js\n",
        "from base64 import b64decode"
      ]
    },
    {
      "cell_type": "code",
      "execution_count": null,
      "metadata": {
        "id": "FXSssxe61TUM"
      },
      "outputs": [],
      "source": [
        "# 錄音函式\n",
        "def record_audio(filename):\n",
        "  js=Javascript(\"\"\"\n",
        "    async function recordAudio() {\n",
        "      const div = document.createElement('div');\n",
        "      const capture = document.createElement('button');\n",
        "      capture.textContent = \"開始錄音\";\n",
        "      capture.style.background = \"orange\";\n",
        "      capture.style.color = \"white\";\n",
        "      div.appendChild(capture);\n",
        "      const stopCapture = document.createElement(\"button\");\n",
        "      stopCapture.textContent = \"停止錄音\";\n",
        "      stopCapture.style.background = \"red\";\n",
        "      stopCapture.style.color = \"white\";\n",
        "      const audio = document.createElement('audio');\n",
        "      const recordingVid = document.createElement(\"audio\");\n",
        "      audio.style.display = 'block';\n",
        "      const stream = await navigator.mediaDevices.getUserMedia({audio:true});\n",
        "     \n",
        "      let recorder = new MediaRecorder(stream);\n",
        "      document.body.appendChild(div);\n",
        "      div.appendChild(audio);\n",
        "      audio.srcObject = stream;\n",
        "      audio.muted = true;\n",
        "      await audio.play();\n",
        "      google.colab.output.setIframeHeight(document.documentElement.scrollHeight, true);\n",
        "      await new Promise((resolve) => {capture.onclick = resolve; });\n",
        "      recorder.start();\n",
        "      capture.replaceWith(stopCapture);\n",
        "      await new Promise((resolve) => stopCapture.onclick = resolve);\n",
        "      recorder.stop();\n",
        "      let recData = await new Promise((resolve) => recorder.ondataavailable = resolve);\n",
        "      let arrBuff = await recData.data.arrayBuffer();\n",
        "      stream.getAudioTracks()[0].stop();\n",
        "      div.remove();\n",
        " \n",
        "      let binaryString = \"\";\n",
        "      let bytes = new Uint8Array(arrBuff);\n",
        "      bytes.forEach((byte) => {\n",
        "        binaryString += String.fromCharCode(byte);\n",
        "      })\n",
        "    return btoa(binaryString);\n",
        "    }\n",
        "  \"\"\")\n",
        "  try:\n",
        "    display(js)\n",
        "    data=eval_js('recordAudio({})')\n",
        "    binary=b64decode(data)\n",
        "    with open(filename,\"wb\") as audio_file:\n",
        "      audio_file.write(binary)\n",
        "  except Exception as err:\n",
        "    print(str(err))"
      ]
    },
    {
      "cell_type": "code",
      "execution_count": null,
      "metadata": {
        "id": "VntAIamF1TXM",
        "colab": {
          "base_uri": "https://localhost:8080/",
          "height": 52
        },
        "outputId": "050ed339-b4ec-4a95-a2d6-82bb8c0ed1a1"
      },
      "outputs": [
        {
          "output_type": "display_data",
          "data": {
            "text/plain": [
              "<IPython.core.display.Javascript object>"
            ],
            "application/javascript": [
              "\n",
              "    async function recordAudio() {\n",
              "      const div = document.createElement('div');\n",
              "      const capture = document.createElement('button');\n",
              "      capture.textContent = \"開始錄音\";\n",
              "      capture.style.background = \"orange\";\n",
              "      capture.style.color = \"white\";\n",
              "      div.appendChild(capture);\n",
              "      const stopCapture = document.createElement(\"button\");\n",
              "      stopCapture.textContent = \"停止錄音\";\n",
              "      stopCapture.style.background = \"red\";\n",
              "      stopCapture.style.color = \"white\";\n",
              "      const audio = document.createElement('audio');\n",
              "      const recordingVid = document.createElement(\"audio\");\n",
              "      audio.style.display = 'block';\n",
              "      const stream = await navigator.mediaDevices.getUserMedia({audio:true});\n",
              "     \n",
              "      let recorder = new MediaRecorder(stream);\n",
              "      document.body.appendChild(div);\n",
              "      div.appendChild(audio);\n",
              "      audio.srcObject = stream;\n",
              "      audio.muted = true;\n",
              "      await audio.play();\n",
              "      google.colab.output.setIframeHeight(document.documentElement.scrollHeight, true);\n",
              "      await new Promise((resolve) => {capture.onclick = resolve; });\n",
              "      recorder.start();\n",
              "      capture.replaceWith(stopCapture);\n",
              "      await new Promise((resolve) => stopCapture.onclick = resolve);\n",
              "      recorder.stop();\n",
              "      let recData = await new Promise((resolve) => recorder.ondataavailable = resolve);\n",
              "      let arrBuff = await recData.data.arrayBuffer();\n",
              "      stream.getAudioTracks()[0].stop();\n",
              "      div.remove();\n",
              " \n",
              "      let binaryString = \"\";\n",
              "      let bytes = new Uint8Array(arrBuff);\n",
              "      bytes.forEach((byte) => {\n",
              "        binaryString += String.fromCharCode(byte);\n",
              "      })\n",
              "    return btoa(binaryString);\n",
              "    }\n",
              "  "
            ]
          },
          "metadata": {}
        },
        {
          "output_type": "stream",
          "name": "stdout",
          "text": [
            "語音辨識結果：\n",
            "現在式練習將語音轉換為文字\n"
          ]
        }
      ],
      "source": [
        "# 錄音並將語音轉換為文字\n",
        "record_audio(\"record.webm\")\n",
        "sound = AudioSegment.from_file(\"record.webm\")\n",
        "sound.export(\"record.wav\", format ='wav')\n",
        "r = sr.Recognizer()\n",
        "with sr.WavFile(\"record.wav\") as source:\n",
        "    audio = r.record(source)\n",
        "try:\n",
        "    word = r.recognize_google(audio, language=\"zh-TW\")\n",
        "    print(\"語音辨識結果：\\n\" + word)\n",
        "except:\n",
        "    print(\"語音辨識失敗！\")"
      ]
    },
    {
      "cell_type": "markdown",
      "metadata": {
        "id": "niwHsCjMwij6"
      },
      "source": [
        "####練習：使用麥克風錄音一段英文並轉換為文字。"
      ]
    },
    {
      "cell_type": "code",
      "execution_count": null,
      "metadata": {
        "id": "dOZc-qtVwjJR",
        "colab": {
          "base_uri": "https://localhost:8080/",
          "height": 52
        },
        "outputId": "ed6a4dd7-0b6f-412f-c7cb-f4ff25363bd4"
      },
      "outputs": [
        {
          "output_type": "display_data",
          "data": {
            "text/plain": [
              "<IPython.core.display.Javascript object>"
            ],
            "application/javascript": [
              "\n",
              "    async function recordAudio() {\n",
              "      const div = document.createElement('div');\n",
              "      const capture = document.createElement('button');\n",
              "      capture.textContent = \"開始錄音\";\n",
              "      capture.style.background = \"orange\";\n",
              "      capture.style.color = \"white\";\n",
              "      div.appendChild(capture);\n",
              "      const stopCapture = document.createElement(\"button\");\n",
              "      stopCapture.textContent = \"停止錄音\";\n",
              "      stopCapture.style.background = \"red\";\n",
              "      stopCapture.style.color = \"white\";\n",
              "      const audio = document.createElement('audio');\n",
              "      const recordingVid = document.createElement(\"audio\");\n",
              "      audio.style.display = 'block';\n",
              "      const stream = await navigator.mediaDevices.getUserMedia({audio:true});\n",
              "     \n",
              "      let recorder = new MediaRecorder(stream);\n",
              "      document.body.appendChild(div);\n",
              "      div.appendChild(audio);\n",
              "      audio.srcObject = stream;\n",
              "      audio.muted = true;\n",
              "      await audio.play();\n",
              "      google.colab.output.setIframeHeight(document.documentElement.scrollHeight, true);\n",
              "      await new Promise((resolve) => {capture.onclick = resolve; });\n",
              "      recorder.start();\n",
              "      capture.replaceWith(stopCapture);\n",
              "      await new Promise((resolve) => stopCapture.onclick = resolve);\n",
              "      recorder.stop();\n",
              "      let recData = await new Promise((resolve) => recorder.ondataavailable = resolve);\n",
              "      let arrBuff = await recData.data.arrayBuffer();\n",
              "      stream.getAudioTracks()[0].stop();\n",
              "      div.remove();\n",
              " \n",
              "      let binaryString = \"\";\n",
              "      let bytes = new Uint8Array(arrBuff);\n",
              "      bytes.forEach((byte) => {\n",
              "        binaryString += String.fromCharCode(byte);\n",
              "      })\n",
              "    return btoa(binaryString);\n",
              "    }\n",
              "  "
            ]
          },
          "metadata": {}
        },
        {
          "output_type": "stream",
          "name": "stdout",
          "text": [
            "語音辨識結果：\n",
            "how are you\n"
          ]
        }
      ],
      "source": [
        "# 錄音一段英文並轉換為文字\n",
        "record_audio(\"myrecord.webm\")\n",
        "sound = AudioSegment.from_file(\"myrecord.webm\")\n",
        "sound.export(\"myrecord.wav\", format ='wav')\n",
        "r = sr.Recognizer()\n",
        "with sr.WavFile(\"myrecord.wav\") as source:\n",
        "    audio = r.record(source)\n",
        "try:\n",
        "    word = r.recognize_google(audio, language=\"en\")\n",
        "    print(\"語音辨識結果：\\n\" + word)\n",
        "except:\n",
        "    print(\"語音辨識失敗！\")"
      ]
    },
    {
      "cell_type": "markdown",
      "metadata": {
        "id": "UgUzBfoOhwd_"
      },
      "source": [
        "##文字翻譯"
      ]
    },
    {
      "cell_type": "markdown",
      "metadata": {
        "id": "d8WVH_ks2TAl"
      },
      "source": [
        "###google_trans_new模組：文字翻譯"
      ]
    },
    {
      "cell_type": "code",
      "execution_count": null,
      "metadata": {
        "id": "F9EXNgSx2MOU",
        "colab": {
          "base_uri": "https://localhost:8080/"
        },
        "outputId": "3df2f7a1-2fd0-4982-c943-556128884822"
      },
      "outputs": [
        {
          "output_type": "stream",
          "name": "stdout",
          "text": [
            "Looking in indexes: https://pypi.org/simple, https://us-python.pkg.dev/colab-wheels/public/simple/\n",
            "Requirement already satisfied: google_trans_new in /usr/local/lib/python3.7/dist-packages (1.1.9)\n"
          ]
        }
      ],
      "source": [
        "# 安裝\n",
        "!pip install google_trans_new"
      ]
    },
    {
      "cell_type": "code",
      "execution_count": null,
      "metadata": {
        "id": "7wDKtTSl2MSl"
      },
      "outputs": [],
      "source": [
        "# 修正程式碼\n",
        "!sed -i \"s/response = (decoded_line + ']')/response = decoded_line/g\" \\\n",
        "\t/usr/local/lib/python3.7/dist-packages/google_trans_new/google_trans_new.py"
      ]
    },
    {
      "cell_type": "code",
      "execution_count": null,
      "metadata": {
        "id": "uxWrCdRO2MWM",
        "colab": {
          "base_uri": "https://localhost:8080/"
        },
        "outputId": "65484c93-5ea8-4ea0-c5cd-d9d01459b918"
      },
      "outputs": [
        {
          "output_type": "execute_result",
          "data": {
            "text/plain": [
              "['The weather is nice today ', 'Jīntiān tiānqì zhēn hǎo', None]"
            ]
          },
          "metadata": {},
          "execution_count": 88
        }
      ],
      "source": [
        "# 使用模組\n",
        "from google_trans_new import google_translator\n",
        "translator=google_translator()\n",
        "translator.translate('今天天氣真好',lang_src='zh-tw',lang_tgt='en',pronounce=True)"
      ]
    },
    {
      "cell_type": "markdown",
      "metadata": {
        "id": "5u3Vk-Nw14ow"
      },
      "source": [
        "####練習：將「大家好」翻譯成英文和日文。"
      ]
    },
    {
      "cell_type": "code",
      "execution_count": null,
      "metadata": {
        "id": "q8g3ilfL149w",
        "colab": {
          "base_uri": "https://localhost:8080/"
        },
        "outputId": "1bc37441-356f-4835-fe55-3666d178e4c8"
      },
      "outputs": [
        {
          "output_type": "stream",
          "name": "stdout",
          "text": [
            "['Hello everyone ', 'Dàjiā hǎo', None]\n",
            "['こんにちは、みんな ', 'Dàjiā hǎo', \"Kon'nichiwa, min'na\"]\n"
          ]
        }
      ],
      "source": [
        "# 翻譯成英文和日文\n",
        "from google_trans_new import google_translator\n",
        "translator=google_translator()\n",
        "word=translator.translate(\"大家好\",lang_tgt=\"en\",pronounce=True)\n",
        "print(word)\n",
        "word=translator.translate(\"大家好\",lang_tgt=\"ja\",pronounce=True)\n",
        "print(word)"
      ]
    },
    {
      "cell_type": "markdown",
      "metadata": {
        "id": "P62F-u6M3aHN"
      },
      "source": [
        "###應用：智慧讀報機"
      ]
    },
    {
      "cell_type": "code",
      "execution_count": null,
      "metadata": {
        "id": "tVDifPTJ3Ce0"
      },
      "outputs": [],
      "source": [
        "# 安裝\n",
        "!pip install newspaper3k\n",
        "!pip install gTTS\n",
        "!pip install google_trans_new"
      ]
    },
    {
      "cell_type": "code",
      "execution_count": null,
      "metadata": {
        "id": "oW2ySUse3mO0"
      },
      "outputs": [],
      "source": [
        "import newspaper\n",
        "from newspaper import Article\n",
        "from google_trans_new import google_translator\n",
        "import gtts\n",
        "import IPython.display as display\n",
        "import random"
      ]
    },
    {
      "cell_type": "code",
      "execution_count": null,
      "metadata": {
        "id": "YJdvED0Z3mST",
        "colab": {
          "base_uri": "https://localhost:8080/"
        },
        "outputId": "178aeef7-e2a6-4016-e034-714dafa05557"
      },
      "outputs": [
        {
          "output_type": "stream",
          "name": "stdout",
          "text": [
            "6\n"
          ]
        }
      ],
      "source": [
        "# 擷取新聞\n",
        "paper = newspaper.build('https://edition.cnn.com/', language='en')\n",
        "urls = []\n",
        "for article in paper.articles:\n",
        "  url = article.url\n",
        "  if '.html' in url:\n",
        "    try:  #有時會產生無法擷取的錯誤,故使用try\n",
        "      article = Article(url)\n",
        "      article.download()\n",
        "      article.parse()\n",
        "      content = article.text\n",
        "      if len(content)>0:\n",
        "          urls.append(url)\n",
        "          if len(urls)>5:\n",
        "            break\n",
        "    except: pass\n",
        "print(len(urls))"
      ]
    },
    {
      "cell_type": "code",
      "execution_count": null,
      "metadata": {
        "id": "LhmEfWmi3maD",
        "colab": {
          "base_uri": "https://localhost:8080/",
          "height": 144
        },
        "outputId": "0792f8bb-609f-41aa-cc72-17908c14f04b"
      },
      "outputs": [
        {
          "output_type": "stream",
          "name": "stdout",
          "text": [
            "Written by Jacqui Palumbo, CNN\n",
            "\n",
            "When bombshell \"Baywatch\"-era one-pieces and teeny bikinis reigned i\n",
            "由CNN Jacqui Palumbo撰寫  當重磅炸彈“ baywatch”  - 時代的一件件和小比基尼統治我 \n"
          ]
        },
        {
          "output_type": "execute_result",
          "data": {
            "text/plain": [
              "<IPython.lib.display.Audio object>"
            ],
            "text/html": [
              "\n",
              "                <audio controls=\"controls\" autoplay=\"autoplay\">\n",
              "                    <source src=\"data:audio/mpeg;base64,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\" type=\"audio/mpeg\" />\n",
              "                    Your browser does not support the audio element.\n",
              "                </audio>\n",
              "              "
            ]
          },
          "metadata": {},
          "execution_count": 19
        }
      ],
      "source": [
        "# 任選一篇新聞並播報\n",
        "if len(urls)>0:\n",
        "  r = random.randint(0,len(urls)-1)\n",
        "  url = urls[r]\n",
        "  article = Article(url)\n",
        "  article.download()\n",
        "  article.parse()\n",
        "  content = article.text\n",
        "#  if len(content)>5000: content = content[:4999]\n",
        "  if len(content)>100: content = content[:100]\n",
        "  print(content[0:200])\n",
        "  translator = google_translator()\n",
        "  ret = translator.translate(content,lang_src='en',lang_tgt='zh-TW')\n",
        "  print(ret)\n",
        "else: \n",
        "  ret = '無可用新聞！'\n",
        "tts = gtts.gTTS(text=ret, lang='zh-tw')\n",
        "tts.save('news.mp3')\n",
        "display.Audio(\"news.mp3\", autoplay=True) "
      ]
    },
    {
      "cell_type": "markdown",
      "metadata": {
        "id": "NWH5JdU_4Bzd"
      },
      "source": [
        "#金融匯率股票資料收集"
      ]
    },
    {
      "cell_type": "markdown",
      "metadata": {
        "id": "dVnsX8wR_coe"
      },
      "source": [
        "##twstock模組：台灣股市資訊"
      ]
    },
    {
      "cell_type": "code",
      "execution_count": null,
      "metadata": {
        "id": "GZJv6dMz_dIM",
        "colab": {
          "base_uri": "https://localhost:8080/"
        },
        "outputId": "bb45cb74-cebb-4cca-9214-625a3691755b"
      },
      "outputs": [
        {
          "output_type": "stream",
          "name": "stdout",
          "text": [
            "Looking in indexes: https://pypi.org/simple, https://us-python.pkg.dev/colab-wheels/public/simple/\n",
            "Collecting twstock\n",
            "  Downloading twstock-1.3.1-py3-none-any.whl (1.9 MB)\n",
            "\u001b[K     |████████████████████████████████| 1.9 MB 4.2 MB/s \n",
            "\u001b[?25hRequirement already satisfied: requests in /usr/local/lib/python3.7/dist-packages (from twstock) (2.23.0)\n",
            "Requirement already satisfied: chardet<4,>=3.0.2 in /usr/local/lib/python3.7/dist-packages (from requests->twstock) (3.0.4)\n",
            "Requirement already satisfied: idna<3,>=2.5 in /usr/local/lib/python3.7/dist-packages (from requests->twstock) (2.10)\n",
            "Requirement already satisfied: urllib3!=1.25.0,!=1.25.1,<1.26,>=1.21.1 in /usr/local/lib/python3.7/dist-packages (from requests->twstock) (1.24.3)\n",
            "Requirement already satisfied: certifi>=2017.4.17 in /usr/local/lib/python3.7/dist-packages (from requests->twstock) (2022.6.15)\n",
            "Installing collected packages: twstock\n",
            "Successfully installed twstock-1.3.1\n"
          ]
        }
      ],
      "source": [
        "# 安裝\n",
        "!pip install twstock"
      ]
    },
    {
      "cell_type": "code",
      "execution_count": null,
      "metadata": {
        "id": "9XUFY81i_dL7"
      },
      "outputs": [],
      "source": [
        "# 查詢網址：https://www.twse.com.tw/zh/page/trading/exchange/STOCK_DAY.html\n",
        "# 使用模組\n",
        "import twstock \n",
        "stock = twstock.Stock('2317')\n",
        "# print(stock.price[-1])\n",
        "stock.raw_data"
      ]
    },
    {
      "cell_type": "code",
      "execution_count": null,
      "metadata": {
        "id": "7xUPEn3E_7Rs",
        "colab": {
          "base_uri": "https://localhost:8080/"
        },
        "outputId": "ea32f60e-25d3-4640-9a2d-8676f9fbe311"
      },
      "outputs": [
        {
          "output_type": "stream",
          "name": "stdout",
          "text": [
            "日期： 2022-08-02 00:00:00\n",
            "開盤價： 108.0\n",
            "最高價： 108.0\n",
            "最低價： 106.5\n",
            "收盤價： 108.0\n"
          ]
        }
      ],
      "source": [
        "# 顯示最近1日開盤價、最高價、最低價及收盤價\n",
        "print(\"日期：\",stock.date[-1])\n",
        "print(\"開盤價：\",stock.open[-1])\n",
        "print(\"最高價：\",stock.high[-1])\n",
        "print(\"最低價：\",stock.low[-1])\n",
        "print(\"收盤價：\",stock.price[-1])"
      ]
    },
    {
      "cell_type": "code",
      "execution_count": null,
      "metadata": {
        "id": "Oq0rnRtk_7U0"
      },
      "outputs": [],
      "source": [
        "# stock 的方法\n",
        "stock.fetch(2022,1)\n",
        "# stock.fetch_31()\n",
        "# stock.fetch_from(2021,10)"
      ]
    },
    {
      "cell_type": "markdown",
      "metadata": {
        "id": "7CnDPfPwAUeu"
      },
      "source": [
        "###查詢股票即時交易資訊"
      ]
    },
    {
      "cell_type": "code",
      "execution_count": null,
      "metadata": {
        "id": "RU47MKOpAXUH",
        "colab": {
          "base_uri": "https://localhost:8080/"
        },
        "outputId": "db60dad0-81ed-41fe-90b2-c3da58362775"
      },
      "outputs": [
        {
          "output_type": "execute_result",
          "data": {
            "text/plain": [
              "{'info': {'channel': '2317.tw',\n",
              "  'code': '2317',\n",
              "  'fullname': '鴻海精密工業股份有限公司',\n",
              "  'name': '鴻海',\n",
              "  'time': '2022-08-02 06:30:00'},\n",
              " 'realtime': {'accumulate_trade_volume': '40305',\n",
              "  'best_ask_price': ['108.0000',\n",
              "   '108.5000',\n",
              "   '109.0000',\n",
              "   '109.5000',\n",
              "   '110.0000'],\n",
              "  'best_ask_volume': ['980', '2449', '4341', '3248', '3182'],\n",
              "  'best_bid_price': ['107.5000',\n",
              "   '107.0000',\n",
              "   '106.5000',\n",
              "   '106.0000',\n",
              "   '105.5000'],\n",
              "  'best_bid_volume': ['523', '2142', '3846', '3032', '950'],\n",
              "  'high': '108.0000',\n",
              "  'latest_trade_price': '108.0000',\n",
              "  'low': '106.5000',\n",
              "  'open': '108.0000',\n",
              "  'trade_volume': '3350'},\n",
              " 'success': True,\n",
              " 'timestamp': 1659421800.0}"
            ]
          },
          "metadata": {},
          "execution_count": 27
        }
      ],
      "source": [
        "# 鴻海股票的即時交易資訊\n",
        "real = twstock.realtime.get('2317')\n",
        "real"
      ]
    },
    {
      "cell_type": "code",
      "source": [
        "real['realtime']['latest_trade_price']"
      ],
      "metadata": {
        "colab": {
          "base_uri": "https://localhost:8080/",
          "height": 35
        },
        "id": "_QEiJBm6WLU-",
        "outputId": "48174f24-035b-4b99-c477-1b3ae0549676"
      },
      "execution_count": null,
      "outputs": [
        {
          "output_type": "execute_result",
          "data": {
            "text/plain": [
              "'108.0000'"
            ],
            "application/vnd.google.colaboratory.intrinsic+json": {
              "type": "string"
            }
          },
          "metadata": {},
          "execution_count": 31
        }
      ]
    },
    {
      "cell_type": "code",
      "source": [],
      "metadata": {
        "id": "8FxqPnOlWup_"
      },
      "execution_count": null,
      "outputs": []
    },
    {
      "cell_type": "code",
      "execution_count": null,
      "metadata": {
        "id": "BUSUiz7EAXXd",
        "colab": {
          "base_uri": "https://localhost:8080/"
        },
        "outputId": "271bcdcf-2670-4b0c-b46a-9411c9096cb0"
      },
      "outputs": [
        {
          "output_type": "stream",
          "name": "stdout",
          "text": [
            "股票名稱、即時股票資料：\n",
            "股票名稱： 鴻海\n",
            "開盤價： 108.0000\n",
            "最高價： 108.0000\n",
            "最低價： 106.5000\n",
            "目前股價： 108.0000\n"
          ]
        }
      ],
      "source": [
        "# 即時股價\n",
        "if real['success']:\n",
        "    print('股票名稱、即時股票資料：')\n",
        "    print('股票名稱：',real['info']['name'])     \n",
        "    print('開盤價：',real['realtime']['open'])\n",
        "    print('最高價：',real['realtime']['high'])  \n",
        "    print('最低價：',real['realtime']['low'])\n",
        "    print('目前股價：',real['realtime']['latest_trade_price'])   \n",
        "else:\n",
        "    print('錯誤：' + real['rtmessage'])  "
      ]
    },
    {
      "cell_type": "markdown",
      "metadata": {
        "id": "RQF-FZfWh7_r"
      },
      "source": [
        "####練習：每30秒讀取一次鴻海的「目前股價」。"
      ]
    },
    {
      "cell_type": "code",
      "execution_count": null,
      "metadata": {
        "id": "Cy9dvGzIigWK"
      },
      "outputs": [],
      "source": [
        "# 每10秒讀取一次鴻海的「目前股價」\n",
        "import twstock \n",
        "import time\n",
        "while True:\n",
        "  realdata=twstock.realtime.get('2317')\n",
        "  if realdata['success']:\n",
        "    realprice=realdata['realtime']['latest_trade_price']\n",
        "    print(realprice)\n",
        "  time.sleep(10)\n",
        "\n",
        "#     realdata = twstock.realtime.get('2317')  #即時資料\n",
        "#     if realdata['success']:\n",
        "#         realprice = realdata['realtime']['latest_trade_price']  #目前股價\n",
        "#         print(realprice)\n",
        "#     time.sleep(30)"
      ]
    },
    {
      "cell_type": "markdown",
      "metadata": {
        "id": "qZdij8dfAank"
      },
      "source": [
        "###免費的通知利器：LINE Notify\n"
      ]
    },
    {
      "cell_type": "markdown",
      "metadata": {
        "id": "arEarNETMc0k"
      },
      "source": [
        "####申請 LINE Notify 權杖"
      ]
    },
    {
      "cell_type": "markdown",
      "metadata": {
        "id": "n7QGjvi5x14O"
      },
      "source": [
        "[Line Notify](https://notify-bot.line.me/zh_TW/)"
      ]
    },
    {
      "cell_type": "code",
      "execution_count": null,
      "metadata": {
        "id": "uI9Zgh6TAgVs"
      },
      "outputs": [],
      "source": [
        "https://notify-bot.line.me/zh_TW/"
      ]
    },
    {
      "cell_type": "markdown",
      "metadata": {
        "id": "y0NNbT02MrXs"
      },
      "source": [
        "####Line 中加入 Line Notify 為朋友\n",
        ">於行動裝置開啟LINE，點選 **主頁/搜尋好友**。於 搜尋好友 **頁面**，上方核選ID，搜尋欄輸入「@linenotify」後按 **搜尋** 鈕。出現LINE Notify，按 **加入** 鈕即完成設定。"
      ]
    },
    {
      "cell_type": "markdown",
      "source": [
        "####發送 LINE Notify 通知"
      ],
      "metadata": {
        "id": "SID8gMWi1Oj5"
      }
    },
    {
      "cell_type": "code",
      "execution_count": null,
      "metadata": {
        "id": "pu8F8eJIAgY8",
        "colab": {
          "base_uri": "https://localhost:8080/"
        },
        "outputId": "08782e60-efc2-4580-c40d-b17b7ca8dbe4"
      },
      "outputs": [
        {
          "output_type": "stream",
          "name": "stdout",
          "text": [
            "發送 LINE Notify 成功！\n"
          ]
        }
      ],
      "source": [
        "# 發送 LINE Notify 通知的語法\n",
        "import requests\n",
        "\n",
        "msg = 'Hello。'\n",
        "token = 'g8Bm9gTFAguVRzfzga7GFwMh845UDhiOGiOgoX8ML5E'  #權杖\n",
        "headers = {\n",
        "    \"Authorization\": \"Bearer \" + token, \n",
        "    \"Content-Type\" : \"application/x-www-form-urlencoded\"\n",
        "}\n",
        "payload = {'message': msg}\n",
        "notify = requests.post(\"https://notify-api.line.me/api/notify\", headers = headers, params = payload)\n",
        "if notify.status_code == 200:\n",
        "    print('發送 LINE Notify 成功！')\n",
        "else:\n",
        "    print('發送 LINE Notify 失敗！')"
      ]
    },
    {
      "cell_type": "markdown",
      "metadata": {
        "id": "PIx_nJS-kjY7"
      },
      "source": [
        "###練習：讀取鴻海的「目前股價」，若股價較高就以Line Noftiy 通知賣出。"
      ]
    },
    {
      "cell_type": "code",
      "source": [
        "# 讀取鴻海目前股價，若股價較高就以Line Noftiy 通知賣出\n",
        "import twstock \n",
        "import time\n",
        "import requests\n",
        "token = 'g8Bm9gTFAguVRzfzga7GFwMh845UDhiOGiOgoX8ML5E'  #權杖\n",
        "headers = {\n",
        "    \"Authorization\": \"Bearer \" + token, \n",
        "    \"Content-Type\" : \"application/x-www-form-urlencoded\"\n",
        "}\n",
        "\n",
        "while True:\n",
        "    realdata = twstock.realtime.get('2317')  #即時資料\n",
        "    if realdata['success']:\n",
        "        realprice = realdata['realtime']['latest_trade_price']  #目前股價\n",
        "        print(realprice) # -\n",
        "        # 若目前股價 > 100 元，以 Line Noftiy 通知賣出\n",
        "        if float(realprice)>105:\n",
        "          payload = {'message': '股價為 ' + str(realprice) + '元，可以賣出股票了'}\n",
        "          print('股價為 ' + str(realprice) + '元，可以賣出股票了')\n",
        "          notify = requests.post(\"https://notify-api.line.me/api/notify\", \\\n",
        "                                 headers = headers, params = payload)\n",
        "          break\n",
        "         \n",
        "    time.sleep(10)"
      ],
      "metadata": {
        "id": "M6zw4n1kooQP",
        "colab": {
          "base_uri": "https://localhost:8080/"
        },
        "outputId": "6cee2994-502e-4207-820f-f12579ae816d"
      },
      "execution_count": null,
      "outputs": [
        {
          "output_type": "stream",
          "name": "stdout",
          "text": [
            "108.0000\n",
            "股價為 108.0000元，可以賣出股票了\n"
          ]
        }
      ]
    },
    {
      "cell_type": "markdown",
      "metadata": {
        "id": "9OrbJ-xPNGQT"
      },
      "source": [
        "### 應用：使用LINE監控即時股價"
      ]
    },
    {
      "cell_type": "code",
      "execution_count": null,
      "metadata": {
        "colab": {
          "base_uri": "https://localhost:8080/"
        },
        "id": "12nNZsensYKV",
        "outputId": "3c2b4806-b119-4243-f903-53da71068a1a"
      },
      "outputs": [
        {
          "output_type": "stream",
          "name": "stdout",
          "text": [
            "程式開始執行！\n",
            "鴻海目前股價：108.0000\n",
            "第 1 次發送 LINE 訊息。\n",
            "鴻海目前股價：108.0000\n",
            "第 2 次發送 LINE 訊息。\n",
            "鴻海目前股價：108.0000\n",
            "第 3 次發送 LINE 訊息。\n",
            "程式結束！\n"
          ]
        }
      ],
      "source": [
        "# 使用LINE監控即時股價\n",
        "# 這個版本 realdata['realtime']['latest_trade_price'] 有時是 「-」\n",
        "import twstock\n",
        "import time\n",
        "import requests\n",
        "\n",
        "def lineNotify(token, msg):\n",
        "    headers = {\n",
        "        \"Authorization\": \"Bearer \" + token, \n",
        "        \"Content-Type\" : \"application/x-www-form-urlencoded\"\n",
        "    }\n",
        "\n",
        "    payload = {'message': msg}\n",
        "    notify = requests.post(\"https://notify-api.line.me/api/notify\", headers = headers, params = payload)\n",
        "    return notify.status_code\n",
        "\n",
        "def sendline(mode, realprice, counterLine, token):\n",
        "    print('鴻海目前股價：' + str(realprice))\n",
        "    if mode == 1:\n",
        "        message = '現在鴻海股價為 ' + str(realprice) + '元，可以賣出股票了！'\n",
        "    else:\n",
        "        message = '現在鴻海股價為 ' + str(realprice) + '元，可以買入股票了！'\n",
        "    code = lineNotify(token, message)\n",
        "    if code == 200:\n",
        "        counterLine = counterLine + 1\n",
        "        print('第 ' + str(counterLine) + ' 次發送 LINE 訊息。')\n",
        "    else:\n",
        "        print('發送 LINE 訊息失敗！')\n",
        "    return counterLine\n",
        "\n",
        "token = 'g8Bm9gTFAguVRzfzga7GFwMh845UDhiOGiOgoX8ML5E'  #權杖\n",
        "counterLine = 0  #儲存發送次數\n",
        "counterError = 0  #儲存錯誤次數\n",
        "\n",
        "print('程式開始執行！')\n",
        "while True:\n",
        "    realdata = twstock.realtime.get('2317')  #即時資料\n",
        "    if realdata['success']:\n",
        "        realprice = realdata['realtime']['latest_trade_price']  #目前股價\n",
        "        if realprice != '-':\n",
        "          if float(realprice) >= 120:\n",
        "              counterLine = sendline(1, realprice, counterLine, token)\n",
        "          elif float(realprice) <= 110:\n",
        "              counterLine = sendline(2, realprice, counterLine, token)\n",
        "          if counterLine >= 3:  #最多發送3次就結束程式\n",
        "              print('程式結束！')\n",
        "              break\n",
        "    else:\n",
        "        print('twstock 讀取錯誤，錯誤原因：' + realdata['rtmessage'])\n",
        "        counterError = counterError + 1\n",
        "        if counterError >= 3:  #最多錯誤3次\n",
        "            print('程式結束！')\n",
        "            break\n",
        "    for i in range(10):  #每5分鐘讀一次\n",
        "        time.sleep(1)       "
      ]
    },
    {
      "cell_type": "code",
      "execution_count": null,
      "metadata": {
        "id": "GTm9hLsvn5LF"
      },
      "outputs": [],
      "source": [
        "# 使用LINE監控收盤價\n",
        "# 修正的版本：使用 stock.price[-1] 收盤價代替\n",
        "import twstock\n",
        "import time\n",
        "import requests\n",
        "\n",
        "def lineNotify(token, msg):\n",
        "    headers = {\n",
        "        \"Authorization\": \"Bearer \" + token, \n",
        "        \"Content-Type\" : \"application/x-www-form-urlencoded\"\n",
        "    }\n",
        "\n",
        "    payload = {'message': msg}\n",
        "    notify = requests.post(\"https://notify-api.line.me/api/notify\", headers = headers, params = payload)\n",
        "    return notify.status_code\n",
        "\n",
        "def sendline(mode, realprice, counterLine, token):\n",
        "    print('鴻海目前股價：' + str(realprice))\n",
        "    if mode == 1:\n",
        "        message = '現在鴻海股價為 ' + str(realprice) + '元，可以賣出股票了！'\n",
        "    else:\n",
        "        message = '現在鴻海股價為 ' + str(realprice) + '元，可以買入股票了！'\n",
        "    code = lineNotify(token, message)\n",
        "    if code == 200:\n",
        "        counterLine = counterLine + 1\n",
        "        print('第 ' + str(counterLine) + ' 次發送 LINE 訊息。')\n",
        "    else:\n",
        "        print('發送 LINE 訊息失敗！')\n",
        "    return counterLine\n",
        "\n",
        "token = '你的 LINE Notify 權杖'  #權杖\n",
        "counterLine = 0  #儲存發送次數\n",
        "counterError = 0  #儲存錯誤次數\n",
        "\n",
        "print('程式開始執行！')\n",
        "while True:\n",
        "    stock = twstock.Stock('2317')\n",
        "    realprice = stock.price[-1]\n",
        "    print(realprice)\n",
        "    try:\n",
        "        if float(realprice) >= 100:\n",
        "            counterLine = sendline(1, realprice, counterLine, token)\n",
        "        elif float(realprice) <= 90:\n",
        "            counterLine = sendline(2, realprice, counterLine, token)\n",
        "        if counterLine >= 3:  #最多發送3次就結束程式\n",
        "            print('程式結束！')\n",
        "            break\n",
        "    except:\n",
        "        print('twstock 讀取錯誤!')\n",
        "        counterError = counterError + 1\n",
        "        if counterError >= 3:  #最多錯誤3次\n",
        "            print('程式結束！')\n",
        "            break\n",
        "    for i in range(5):  #每5秒分鐘讀一次\n",
        "        time.sleep(1)       "
      ]
    }
  ],
  "metadata": {
    "colab": {
      "collapsed_sections": [],
      "provenance": [],
      "include_colab_link": true
    },
    "gpuClass": "standard",
    "kernelspec": {
      "display_name": "Python 3",
      "name": "python3"
    },
    "language_info": {
      "name": "python"
    }
  },
  "nbformat": 4,
  "nbformat_minor": 0
}