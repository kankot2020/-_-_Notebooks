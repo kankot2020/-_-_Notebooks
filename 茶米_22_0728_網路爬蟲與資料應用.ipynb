{
  "nbformat": 4,
  "nbformat_minor": 0,
  "metadata": {
    "colab": {
      "provenance": [],
      "collapsed_sections": [],
      "include_colab_link": true
    },
    "kernelspec": {
      "name": "python3",
      "display_name": "Python 3"
    },
    "language_info": {
      "name": "python"
    }
  },
  "cells": [
    {
      "cell_type": "markdown",
      "metadata": {
        "id": "view-in-github",
        "colab_type": "text"
      },
      "source": [
        "<a href=\"https://colab.research.google.com/github/kankot2020/-_-_Notebooks/blob/main/%E8%8C%B6%E7%B1%B3_22_0728_%E7%B6%B2%E8%B7%AF%E7%88%AC%E8%9F%B2%E8%88%87%E8%B3%87%E6%96%99%E6%87%89%E7%94%A8.ipynb\" target=\"_parent\"><img src=\"https://colab.research.google.com/assets/colab-badge.svg\" alt=\"Open In Colab\"/></a>"
      ]
    },
    {
      "cell_type": "markdown",
      "source": [
        "# 例外處理"
      ],
      "metadata": {
        "id": "6X_VRgTxEDg1"
      }
    },
    {
      "cell_type": "markdown",
      "source": [
        "## try…except 的語法  \n",
        "\n",
        "```\n",
        "try:\n",
        "    可能引發例外的程式區塊\n",
        "except 例外情形一 [as 參數]:\n",
        "    處理例外的程式區塊一\n",
        "except Exception [as 參數]:\n",
        "    處理所有其他可能發生的例外\n",
        "else:\n",
        "    指令正確時執行的程式區塊\n",
        "finally:\n",
        "    一定會執行的程式區塊\n",
        "```"
      ],
      "metadata": {
        "id": "l54bqXJyfP4N"
      }
    },
    {
      "cell_type": "code",
      "source": [
        "# 語法測試、練習\n",
        "try:\n",
        "    f = open('123.txt', 'r')\n",
        "except FileNotFoundError:\n",
        "    print('沒有這個檔案啦!')    \n",
        "except:\n",
        "    print('好像有什麼錯誤喔！')\n",
        "else:\n",
        "    print('有這個檔案喔！')\n",
        "finally:        \n",
        "    print('程式結束啦！')"
      ],
      "metadata": {
        "id": "l3CnnPo7J6xs",
        "colab": {
          "base_uri": "https://localhost:8080/"
        },
        "outputId": "bc646f8b-bf40-4b98-f99e-77bc4f98c6da"
      },
      "execution_count": null,
      "outputs": [
        {
          "output_type": "stream",
          "name": "stdout",
          "text": [
            "有這個檔案喔！\n",
            "程式結束啦！\n"
          ]
        }
      ]
    },
    {
      "cell_type": "markdown",
      "source": [
        "## try…except常用例外錯誤表  \n",
        "* AttributeError：物件無此屬性。  \n",
        "* Exception：所有的錯誤。  \n",
        "* FileNotFoundError：open()開啟檔案時找不檔案的錯誤。  \n",
        "* IOError：輸入/ 輸出錯誤。  \n",
        "* ZeroDivisionError：除數為0的錯誤。\n"
      ],
      "metadata": {
        "id": "c190vqCx9qFv"
      }
    },
    {
      "cell_type": "code",
      "source": [
        "# 範例：捕捉非數值資料和除數為0的錯誤\n",
        "try:\n",
        "    a = int(input(\"a = \"))\n",
        "    b = int(input(\"b = \"))\n",
        "    r = a % b\n",
        "except ValueError:\n",
        "    print(\"你不要輸入文字或怪怪的東西啦!\")\n",
        "except ZeroDivisionError as e:\n",
        "    print(\"這裡發生了一個{}的錯誤\".format(e))\n",
        "except:\n",
        "    print(\"你要不要正經一點?\")\n",
        "else:\n",
        "    print(\"r = {}\".format(r))\n",
        "finally:\n",
        "    print(\"程式結束\")         "
      ],
      "metadata": {
        "colab": {
          "base_uri": "https://localhost:8080/"
        },
        "id": "EVa_Y_Fo8C34",
        "outputId": "239b7220-bc37-434f-f4dd-f10ad023691e"
      },
      "execution_count": null,
      "outputs": [
        {
          "output_type": "stream",
          "name": "stdout",
          "text": [
            "a = 100\n",
            "b = 9\n",
            "r = 1\n",
            "程式結束\n"
          ]
        }
      ]
    },
    {
      "cell_type": "code",
      "source": [
        "while True:\n",
        "    try:\n",
        "        a = int(input(\"a = \"))\n",
        "        b = int(input(\"b = \"))\n",
        "        r = a % b\n",
        "    except ValueError:\n",
        "        print(\"你不要輸入文字或怪怪的東西啦!\")\n",
        "    except ZeroDivisionError as e:\n",
        "        print(\"這裡發生了一個{}的錯誤\".format(e))\n",
        "    except:\n",
        "        print(\"你要不要正經一點?\")\n",
        "    else:\n",
        "        print(\"r = {}\".format(r))\n",
        "        break\n",
        "    finally:\n",
        "        print(\"-\" * 10) "
      ],
      "metadata": {
        "colab": {
          "base_uri": "https://localhost:8080/"
        },
        "id": "o115fkHSfTta",
        "outputId": "399f28b4-364c-4c7f-96da-7ab2b151f342"
      },
      "execution_count": null,
      "outputs": [
        {
          "output_type": "stream",
          "name": "stdout",
          "text": [
            "a = A\n",
            "你不要輸入文字或怪怪的東西啦!\n",
            "----------\n",
            "a = 10\n",
            "b = 0\n",
            "這裡發生了一個integer division or modulo by zero的錯誤\n",
            "----------\n",
            "a = 10\n",
            "b = 8\n",
            "r = 2\n",
            "----------\n"
          ]
        }
      ]
    },
    {
      "cell_type": "markdown",
      "metadata": {
        "id": "ESAhER_RM8s0"
      },
      "source": [
        "# 文件檔案的爬取與儲存"
      ]
    },
    {
      "cell_type": "markdown",
      "source": [
        "## 資料檔案的儲存：open() 函式\n",
        "### 語法\n",
        "    with open(檔案名稱[, 模式][, 編碼]) as f:\n",
        "        f.檔案處理函式()\n",
        "\n",
        "* 檔案名稱：設定檔案的名稱，它是字串型態。  \n",
        "* 模式：設定檔案開啟的模式，省略將預設為讀取模式。  \n",
        "    * r\t：讀取模式，此為預設模式。  \n",
        "    * a\t：附加模式，若檔案已存在，內容會被附加至檔案尾。    \n",
        "    * w\t：寫入模式，若檔案已存在，內容將會被覆蓋。  \n",
        "    * b ：二進位模式\n",
        "* 編碼：指定檔案的編碼模式，一般可設定`cp950`或`UTF-8` (大小寫都可以)。\n",
        "\n",
        "## 檔案處理函式\n",
        "* read()：讀取檔案內容為文字。\n",
        "* readline()：讀取檔案內容的第一行文字。\n",
        "* readlines()：讀取檔案內容，以行為元素儲存為串列。\n",
        "* write()：寫入檔案。\n",
        "* close()：關閉檔案。"
      ],
      "metadata": {
        "id": "rg2Q7T7fFJZO"
      }
    },
    {
      "cell_type": "code",
      "source": [
        "# 文字檔案讀寫的範例\n",
        "f = open('file.txt', 'w')\n",
        "f.write('abc')\n",
        "f.close()\n",
        "\n",
        "f = open('file.txt', 'a')\n",
        "f.write('123')\n",
        "f.close()\n",
        "\n",
        "f = open('file.txt', 'r')\n",
        "print(f.read())\n",
        "f.close()"
      ],
      "metadata": {
        "id": "oEb_Qg-7peIX",
        "colab": {
          "base_uri": "https://localhost:8080/"
        },
        "outputId": "10b2d359-47b2-41f0-f0a5-982cf8913822"
      },
      "execution_count": null,
      "outputs": [
        {
          "output_type": "stream",
          "name": "stdout",
          "text": [
            "abc123\n"
          ]
        }
      ]
    },
    {
      "cell_type": "code",
      "source": [
        "f = open('file1.txt', 'a')\n",
        "f.write('123')\n",
        "f.write('abc')"
      ],
      "metadata": {
        "colab": {
          "base_uri": "https://localhost:8080/"
        },
        "id": "axEMwOSalt1T",
        "outputId": "c5c959f4-b85d-46a9-8036-60ed5750664f"
      },
      "execution_count": null,
      "outputs": [
        {
          "output_type": "execute_result",
          "data": {
            "text/plain": [
              "3"
            ]
          },
          "metadata": {},
          "execution_count": 40
        }
      ]
    },
    {
      "cell_type": "code",
      "source": [
        "f.close()"
      ],
      "metadata": {
        "id": "WBeHSILlmIhu"
      },
      "execution_count": null,
      "outputs": []
    },
    {
      "cell_type": "code",
      "source": [
        "with open('file2.txt', 'a') as f:\n",
        "    f.write('123')\n",
        "    f.write('abc')"
      ],
      "metadata": {
        "id": "0cMAKqLUmYaI"
      },
      "execution_count": null,
      "outputs": []
    },
    {
      "cell_type": "markdown",
      "source": [
        "## 資料的爬取：requests 模組"
      ],
      "metadata": {
        "id": "m2aQecN4OZWl"
      }
    },
    {
      "cell_type": "code",
      "source": [
        "# 讀取遠端資料\n",
        "# COVID-19各國家地區累積病例數與死亡數\n",
        "# https://data.gov.tw/dataset/120449\n",
        "import requests\n",
        "url = 'https://od.cdc.gov.tw/eic/covid19/covid19_global_cases_and_deaths.csv'\n",
        "r = requests.get(url)\n",
        "r.encoding = \"utf-8\"\n",
        "r # http 狀態碼 → 200 OK"
      ],
      "metadata": {
        "colab": {
          "base_uri": "https://localhost:8080/"
        },
        "id": "pheI4Z1mNk6L",
        "outputId": "8cc18689-02f1-4b01-a9fc-920056085035"
      },
      "execution_count": null,
      "outputs": [
        {
          "output_type": "execute_result",
          "data": {
            "text/plain": [
              "<Response [200]>"
            ]
          },
          "metadata": {},
          "execution_count": 1
        }
      ]
    },
    {
      "cell_type": "code",
      "source": [
        "# 直接撰寫 r.text → 輸出的內容不會自動分行, 而是呈現如下的格式, 改進的方式為使用 print(r.text)\n",
        "# country_ch,country_en,cases,deaths\\r\\n美國,United States,\"95,758,003\",\"1,081,873\"\\r\\n印度\n",
        "# r.text\n",
        "print(r.text)"
      ],
      "metadata": {
        "id": "1il9GDdzsuHA",
        "colab": {
          "base_uri": "https://localhost:8080/"
        },
        "outputId": "47213fa0-d132-45c9-afb0-04aa4c22c2d1"
      },
      "execution_count": null,
      "outputs": [
        {
          "output_type": "stream",
          "name": "stdout",
          "text": [
            "country_ch,country_en,cases,deaths\r\n",
            "美國,United States,\"95,758,003\",\"1,081,873\"\r\n",
            "印度,India,\"44,601,934\",\"528,733\"\r\n",
            "法國,France,\"35,639,699\",\"155,319\"\r\n",
            "巴西,Brazil,\"34,699,017\",\"686,573\"\r\n",
            "德國,Germany,\"33,519,761\",\"150,192\"\r\n",
            "韓國,South Korea,\"24,882,894\",\"28,544\"\r\n",
            "英國,United Kingdom,\"23,672,855\",\"190,317\"\r\n",
            "義大利,Italy,\"22,648,063\",\"177,300\"\r\n",
            "日本,Japan,\"21,426,855\",\"45,157\"\r\n",
            "俄羅斯,Russia,\"21,118,629\",\"387,779\"\r\n",
            "土耳其,Turkey,\"16,873,793\",\"101,139\"\r\n",
            "西班牙,Spain,\"13,431,098\",\"114,262\"\r\n",
            "越南,Vietnam,\"11,483,529\",\"43,151\"\r\n",
            "澳洲,Australia,\"10,244,727\",\"15,234\"\r\n",
            "阿根廷,Argentina,\"9,711,355\",\"129,937\"\r\n",
            "荷蘭,Netherlands,\"8,441,351\",\"22,663\"\r\n",
            "伊朗,Iran,\"7,550,691\",\"144,466\"\r\n",
            "墨西哥,Mexico,\"7,090,965\",\"330,139\"\r\n",
            "臺灣,Taiwan,\"6,685,516\",\"11,280\"\r\n",
            "印尼,Indonesia,\"6,439,292\",\"158,165\"\r\n",
            "哥倫比亞,Colombia,\"6,307,372\",\"141,794\"\r\n",
            "波蘭,Poland,\"6,305,467\",\"117,660\"\r\n",
            "葡萄牙,Portugal,\"5,500,613\",\"25,070\"\r\n",
            "奧地利,Austria,\"5,195,408\",\"20,779\"\r\n",
            "烏克蘭,Ukraine,\"5,177,217\",\"109,206\"\r\n",
            "希臘,Greece,\"4,920,192\",\"33,111\"\r\n",
            "馬來西亞,Malaysia,\"4,848,314\",\"36,387\"\r\n",
            "泰國,Thailand,\"4,682,132\",\"32,771\"\r\n",
            "以色列,Israel,\"4,666,165\",\"11,706\"\r\n",
            "智利,Chile,\"4,638,238\",\"61,233\"\r\n",
            "比利時,Belgium,\"4,553,333\",\"32,690\"\r\n",
            "加拿大,Canada,\"4,251,611\",\"45,218\"\r\n",
            "秘魯,Peru,\"4,146,000\",\"216,626\"\r\n",
            "瑞士,Switzerland,\"4,129,086\",\"13,667\"\r\n",
            "捷克,Czech Republic,\"4,117,355\",\"41,162\"\r\n",
            "南非,South Africa,\"4,020,142\",\"102,194\"\r\n",
            "菲律賓,Philippines,\"3,958,786\",\"63,111\"\r\n",
            "羅馬尼亞,Romania,\"3,273,069\",\"67,066\"\r\n",
            "丹麥,Denmark,\"3,162,945\",\"7,152\"\r\n",
            "瑞典,Sweden,\"2,588,441\",\"20,225\"\r\n",
            "伊拉克,Iraq,\"2,460,572\",\"25,356\"\r\n",
            "塞爾維亞,Serbia,\"2,371,474\",\"17,050\"\r\n",
            "匈牙利,Hungary,\"2,107,907\",\"47,576\"\r\n",
            "孟加拉,Bangladesh,\"2,028,114\",\"29,374\"\r\n",
            "新加坡,Singapore,\"1,930,062\",\"1,624\"\r\n",
            "斯洛伐克,Slovakia,\"1,845,590\",\"20,467\"\r\n",
            "香港,Hong Kong,\"1,783,337\",\"10,194\"\r\n",
            "喬治亞,Georgia,\"1,780,691\",\"16,900\"\r\n",
            "紐西蘭,New Zealand,\"1,772,016\",\"2,038\"\r\n",
            "約旦,Jordan,\"1,746,997\",\"14,122\"\r\n",
            "愛爾蘭,Ireland,\"1,666,048\",\"7,922\"\r\n",
            "巴基斯坦,Pakistan,\"1,572,835\",\"30,620\"\r\n",
            "挪威,Norway,\"1,462,738\",\"4,121\"\r\n",
            "哈薩克,Kazakhstan,\"1,393,779\",\"13,692\"\r\n",
            "芬蘭,Finland,\"1,292,940\",\"5,981\"\r\n",
            "摩洛哥,Morocco,\"1,265,032\",\"16,278\"\r\n",
            "保加利亞,Bulgaria,\"1,262,945\",\"37,737\"\r\n",
            "立陶宛,Lithuania,\"1,254,247\",\"9,330\"\r\n",
            "克羅埃西亞,Croatia,\"1,235,379\",\"16,937\"\r\n",
            "黎巴嫩,Lebanon,\"1,216,190\",\"10,681\"\r\n",
            "斯洛維尼亞,Slovenia,\"1,194,561\",\"6,829\"\r\n",
            "突尼西亞,Tunisia,\"1,145,829\",\"29,254\"\r\n",
            "瓜地馬拉,Guatemala,\"1,126,990\",\"19,814\"\r\n",
            "古巴,Cuba,\"1,111,218\",\"8,530\"\r\n",
            "玻利維亞,Bolivia,\"1,108,472\",\"22,237\"\r\n",
            "哥斯大黎加,Costa Rica,\"1,072,807\",\"8,913\"\r\n",
            "阿拉伯聯合大公國,UAE,\"1,029,426\",\"2,346\"\r\n",
            "厄瓜多,Ecuador,\"1,006,070\",\"35,900\"\r\n",
            "尼泊爾,Nepal,\"999,839\",\"12,018\"\r\n",
            "白俄羅斯,Belarus,\"994,037\",\"7,118\"\r\n",
            "巴拿馬,Panama,\"987,613\",\"8,502\"\r\n",
            "烏拉圭,Uruguay,\"986,446\",\"7,495\"\r\n",
            "拉脫維亞,Latvia,\"934,888\",\"6,008\"\r\n",
            "亞塞拜然,Azerbaijan,\"821,865\",\"9,925\"\r\n",
            "沙烏地阿拉伯,Saudi Arabia,\"817,127\",\"9,361\"\r\n",
            "巴拉圭,Paraguay,\"716,543\",\"19,591\"\r\n",
            "巴勒斯坦,Palestine,\"702,768\",\"5,707\"\r\n",
            "巴林,Bahrain,\"682,470\",\"1,520\"\r\n",
            "斯里蘭卡,Sri Lanka,\"670,820\",\"16,766\"\r\n",
            "科威特,Kuwait,\"658,520\",\"2,563\"\r\n",
            "多明尼加,Dominican,\"645,952\",\"4,384\"\r\n",
            "緬甸,Myanmar,\"622,802\",\"19,458\"\r\n",
            "愛沙尼亞,Estonia,\"603,185\",\"2,692\"\r\n",
            "摩爾多瓦,Moldova,\"590,752\",\"11,858\"\r\n",
            "賽普勒斯,Cyprus,\"587,994\",\"1,182\"\r\n",
            "委內瑞拉,Venezuela,\"544,884\",\"5,816\"\r\n",
            "蒙古,Mongolia,\"533,353\",\"2,131\"\r\n",
            "埃及,Egypt,\"515,645\",\"24,613\"\r\n",
            "利比亞,Libya,\"507,009\",\"6,437\"\r\n",
            "衣索比亞,Ethiopia,\"493,640\",\"7,572\"\r\n",
            "宏都拉斯,Honduras,\"456,391\",\"10,993\"\r\n",
            "卡達,Qatar,\"455,021\",682\r\n",
            "亞美尼亞,Armenia,\"443,785\",\"8,691\"\r\n",
            "波士尼亞與赫塞哥維納,Bosnia and Herzegovina,\"398,796\",\"16,138\"\r\n",
            "阿曼,Oman,\"398,424\",\"4,260\"\r\n",
            "北馬其頓,North Macedonia,\"343,208\",\"9,542\"\r\n",
            "肯亞,Kenya,\"338,463\",\"5,678\"\r\n",
            "尚比亞,Zambia,\"333,555\",\"4,017\"\r\n",
            "阿爾巴尼亞,Albania,\"332,372\",\"3,588\"\r\n",
            "波札那,Botswana,\"326,329\",\"2,789\"\r\n",
            "盧森堡,Luxembourg,\"288,658\",\"1,123\"\r\n",
            "蒙特內哥羅,Montenegro,\"280,822\",\"2,782\"\r\n",
            "科索沃,Kosovo,\"272,083\",\"3,200\"\r\n",
            "阿爾及利亞,Algeria,\"270,693\",\"6,879\"\r\n",
            "奈及利亞,Nigeria,\"265,505\",\"3,155\"\r\n",
            "模里西斯,Mauritius,\"262,648\",\"1,026\"\r\n",
            "辛巴威,Zimbabwe,\"257,568\",\"5,603\"\r\n",
            "中國大陸,China,\"251,854\",\"5,226\"\r\n",
            "烏茲別克,Uzbekistan,\"244,275\",\"1,637\"\r\n",
            "莫三比克,Mozambique,\"230,312\",\"2,222\"\r\n",
            "汶萊,Brunei,\"227,756\",242\r\n",
            "寮國,Laos,\"215,926\",758\r\n",
            "吉爾吉斯,Kyrgyzstan,\"206,160\",\"2,991\"\r\n",
            "冰島,Iceland,\"205,823\",213\r\n",
            "薩爾瓦多,El Salvador,\"201,785\",\"4,230\"\r\n",
            "阿富汗,Afghanistan,\"199,845\",\"7,804\"\r\n",
            "馬爾地夫,Maldives,\"185,082\",308\r\n",
            "千里達及托巴哥,Trinidad and Tobago,\"183,181\",\"4,207\"\r\n",
            "迦納,Ghana,\"169,685\",\"1,459\"\r\n",
            "烏干達,Uganda,\"169,396\",\"3,628\"\r\n",
            "納米比亞,Namibia,\"169,253\",\"4,065\"\r\n",
            "牙買加,Jamaica,\"151,931\",\"3,320\"\r\n",
            "柬埔寨,Cambodia,\"137,899\",\"3,056\"\r\n",
            "盧安達,Rwanda,\"132,505\",\"1,467\"\r\n",
            "喀麥隆,Cameroon,\"121,652\",\"1,935\"\r\n",
            "馬爾他,Malta,\"114,777\",806\r\n",
            "安哥拉,Angola,\"103,131\",\"1,917\"\r\n",
            "巴貝多,Barbados,\"102,580\",560\r\n",
            "剛果民主共和國,DR Congo,\"92,893\",\"1,443\"\r\n",
            "塞內加爾,Senegal,\"88,462\",\"1,968\"\r\n",
            "馬拉威,Malawi,\"88,035\",\"2,682\"\r\n",
            "象牙海岸,Ivory Coast,\"87,316\",826\r\n",
            "蘇利南,Suriname,\"81,114\",\"1,385\"\r\n",
            "史瓦帝尼,Eswatini,\"73,410\",\"1,422\"\r\n",
            "蓋亞那,Guyana,\"71,356\",\"1,281\"\r\n",
            "貝里斯,Belize,\"68,884\",686\r\n",
            "斐濟,Fiji,\"68,242\",878\r\n",
            "馬達加斯加,Madagascar,\"66,684\",\"1,410\"\r\n",
            "蘇丹,Sudan,\"63,285\",\"4,961\"\r\n",
            "茅利塔尼亞,Mauritania,\"62,847\",995\r\n",
            "維德角,Cape Verde,\"62,384\",410\r\n",
            "不丹,Bhutan,\"62,095\",21\r\n",
            "敘利亞,Syria,\"57,319\",\"3,163\"\r\n",
            "蒲隆地,Burundi,\"50,193\",38\r\n",
            "加彭,Gabon,\"48,713\",306\r\n",
            "塞席爾,Seychelles,\"47,141\",169\r\n",
            "安道爾,Andorra,\"46,227\",155\r\n",
            "巴布亞紐幾內亞,Papua New Guinea,\"45,010\",668\r\n",
            "坦尚尼亞,Tanzania,\"39,513\",845\r\n",
            "多哥,Togo,\"39,159\",286\r\n",
            "幾內亞,Guinea,\"37,909\",453\r\n",
            "巴哈馬,Bahamas,\"37,309\",833\r\n",
            "賴索托,Lesotho,\"34,490\",706\r\n",
            "海地,Haiti,\"33,756\",857\r\n",
            "馬利,Mali,\"32,689\",742\r\n",
            "聖露西亞,Saint Lucia,\"29,517\",400\r\n",
            "貝南,Benin,\"27,782\",163\r\n",
            "剛果共和國,Congo,\"24,837\",386\r\n",
            "東帝汶,East Timor,\"23,253\",138\r\n",
            "布吉納法索,Burkina Faso,\"21,631\",387\r\n",
            "索羅門群島,Solomon islands,\"21,544\",153\r\n",
            "聖馬利諾,San Marino,\"20,920\",118\r\n",
            "列支敦斯登,Liechtenstein,\"19,978\",86\r\n",
            "格瑞那達,Grenada,\"19,536\",237\r\n",
            "索馬利亞,Somalia,\"18,863\",930\r\n",
            "南蘇丹,South Sudan,\"17,823\",138\r\n",
            "塔吉克,Tajikistan,\"17,786\",125\r\n",
            "赤道幾內亞,Equatorial Guinea,\"17,025\",183\r\n",
            "東加,Tonga,\"16,182\",12\r\n",
            "薩摩亞,Samoa,\"15,941\",29\r\n",
            "多米尼克,Dominica,\"15,747\",74\r\n",
            "吉布地,Djibouti,\"15,690\",189\r\n",
            "馬紹爾群島,Marshall Islands,\"15,305\",17\r\n",
            "尼加拉瓜,Nicaragua,\"15,092\",245\r\n",
            "中非,Central Africa,\"14,923\",113\r\n",
            "摩納哥,Monaco,\"14,677\",63\r\n",
            "甘比亞,Gambia,\"12,508\",372\r\n",
            "葉門,Yemen,\"11,939\",\"2,158\"\r\n",
            "萬那杜,Vanuatu,\"11,933\",14\r\n",
            "索馬利蘭,Somaliland,\"10,577\",619\r\n",
            "厄利垂亞,Eritrea,\"10,175\",103\r\n",
            "密克羅尼西亞聯邦,Micronesia,\"10,083\",31\r\n",
            "尼日,Niger,\"9,931\",312\r\n",
            "安地卡及巴布達,Antigua and Barbuda,\"9,098\",146\r\n",
            "幾內亞比索,Guinea-Bissau,\"8,796\",175\r\n",
            "葛摩,Comoros,\"8,471\",161\r\n",
            "賴比瑞亞,Liberia,\"7,974\",294\r\n",
            "獅子山,Sierra Leone,\"7,751\",126\r\n",
            "查德,Chad,\"7,590\",193\r\n",
            "聖文森及格瑞那丁,Saint Vincent and the Grenadines,\"7,112\",115\r\n",
            "聖克里斯多福及尼維斯,Saint Kitts and Nevis,\"6,541\",46\r\n",
            "庫克群島,Cook Islands,\"6,389\",1\r\n",
            "聖多美普林西比,Sao Tome and Principe,\"6,230\",77\r\n",
            "帛琉,Palau,\"5,460\",6\r\n",
            "諾魯,Nauru,\"4,610\",1\r\n",
            "吉里巴斯,Kiribati,\"3,430\",13\r\n",
            "澳門,Macao,793,6\r\n",
            "國際運輸工具(鑽石公主號),Int'l conveyance (Japan),741,13\r\n",
            "紐埃,Niue,80,0\r\n",
            "教廷,Holy See,29,0\r\n",
            "吐瓦魯,Tuvalu,20,0\r\n",
            "北韓,North Korea,2,1\n"
          ]
        }
      ]
    },
    {
      "cell_type": "code",
      "execution_count": null,
      "metadata": {
        "id": "JzGvfR9dOdcO"
      },
      "outputs": [],
      "source": [
        "# 文字檔案下載\n",
        "with open('covid-19.csv', 'w') as f:\n",
        "    f.write(r.text)"
      ]
    },
    {
      "cell_type": "code",
      "execution_count": null,
      "metadata": {
        "id": "vobW0WLfNBsC"
      },
      "outputs": [],
      "source": [
        "# 圖片下載\n",
        "# https://youtu.be/qwTguCZdfpA → 影片網址, 重要的是最後的部份「qo3H-VgXmHE」\n",
        "# https://img.youtube.com/vi/qwTguCZdfpA/sddefault.jpg → 影片的縮圖, 重要的是中間的部份「qo3H-VgXmHE」\n",
        "# 欲取得某部影片的縮圖時, 將其網址的最後一個部份填入 https://img.youtube.com/vi/填到此處/sddefault.jpg 即可！\n",
        "import requests\n",
        "url = 'https://img.youtube.com/vi/qwTguCZdfpA/sddefault.jpg'\n",
        "r = requests.get(url) # r: 二進位的圖檔\n",
        "with open('ng.jpg', 'wb') as f: # w: write, b: binary\n",
        "    f.write(r.content) # 內容為二進位, 需使用 r.content, 而不是 r.text"
      ]
    },
    {
      "cell_type": "markdown",
      "metadata": {
        "id": "-GCWk-mGdoQc"
      },
      "source": [
        "### Colab專用：wget 指令"
      ]
    },
    {
      "cell_type": "code",
      "execution_count": null,
      "metadata": {
        "id": "OHiBhj4RR4ZJ",
        "colab": {
          "base_uri": "https://localhost:8080/"
        },
        "outputId": "ae6759dd-e0e5-4b48-8a5f-75cbbc8e3ffe"
      },
      "outputs": [
        {
          "output_type": "stream",
          "name": "stdout",
          "text": [
            "--2022-10-07 06:09:55--  https://www.google.com/images/branding/googlelogo/1x/googlelogo_color_272x92dp.png\n",
            "Resolving www.google.com (www.google.com)... 173.194.215.103, 173.194.215.106, 173.194.215.99, ...\n",
            "Connecting to www.google.com (www.google.com)|173.194.215.103|:443... connected.\n",
            "HTTP request sent, awaiting response... 200 OK\n",
            "Length: 5969 (5.8K) [image/png]\n",
            "Saving to: ‘google.png’\n",
            "\n",
            "\rgoogle.png            0%[                    ]       0  --.-KB/s               \rgoogle.png          100%[===================>]   5.83K  --.-KB/s    in 0s      \n",
            "\n",
            "2022-10-07 06:09:55 (65.2 MB/s) - ‘google.png’ saved [5969/5969]\n",
            "\n"
          ]
        }
      ],
      "source": [
        "# 用 wget 指令\n",
        "# !wget -O 檔名 網址 「! 代表執行系統的指令之意」 \n",
        "!wget -O google.png https://www.google.com/images/branding/googlelogo/1x/googlelogo_color_272x92dp.png"
      ]
    },
    {
      "cell_type": "markdown",
      "source": [
        "# 網頁資料解析"
      ],
      "metadata": {
        "id": "wCUrxB4GSsbq"
      }
    },
    {
      "cell_type": "markdown",
      "source": [
        "## 網頁資料解析：BeautifulSoup 模組\n"
      ],
      "metadata": {
        "id": "kPEURAL0S7ml"
      }
    },
    {
      "cell_type": "code",
      "source": [
        "# 基本練習\n",
        "# http://ehappy.tw/bsdemo1.htm\n",
        "import requests\n",
        "url = 'http://ehappy.tw/bsdemo1.htm'\n",
        "r = requests.get(url)\n",
        "r.encoding = 'utf-8'\n",
        "print(r)\n",
        "print(r.text)"
      ],
      "metadata": {
        "colab": {
          "base_uri": "https://localhost:8080/"
        },
        "id": "8BeffjCzTG31",
        "outputId": "60dc5f73-dfb3-4f18-9910-62617bd9edea"
      },
      "execution_count": null,
      "outputs": [
        {
          "output_type": "stream",
          "name": "stdout",
          "text": [
            "<Response [200]>\n",
            "<!doctype html>\r\n",
            "<html lang=\"zh\">\r\n",
            "  <head>\r\n",
            "    <meta charset=\"UTF-8\">\r\n",
            "    <title>我是網頁標題</title>\r\n",
            "  </head>\r\n",
            "  <body>\r\n",
            "    <h1 class=\"large\">我是標題</h1>\r\n",
            "    <div>\r\n",
            "      <p>我是段落</p>\r\n",
            "      <img src=\"https://www.w3.org/html/logo/downloads/HTML5_Logo_256.png\" alt=\"我是圖片\">\r\n",
            "      <a href=\"http://www.e-happy.com.tw\">我是超連結</a>\r\n",
            "    </div>\r\n",
            "  </body>\r\n",
            "</html>\n"
          ]
        }
      ]
    },
    {
      "cell_type": "code",
      "source": [
        "from bs4 import BeautifulSoup\n",
        "sp = BeautifulSoup(r.text, 'html.parser')\n",
        "print(sp.title)\n",
        "print(sp.title.text)\n",
        "print(sp.h1.text)\n",
        "print(sp.a.text)"
      ],
      "metadata": {
        "colab": {
          "base_uri": "https://localhost:8080/"
        },
        "id": "QuP71xE43Ck8",
        "outputId": "94a26153-54c9-482c-bc77-76e2315e7bb7"
      },
      "execution_count": null,
      "outputs": [
        {
          "output_type": "stream",
          "name": "stdout",
          "text": [
            "<title>我是網頁標題</title>\n",
            "我是網頁標題\n",
            "我是標題\n",
            "我是超連結\n"
          ]
        }
      ]
    },
    {
      "cell_type": "code",
      "source": [
        "# 練習 find() find_all()\n",
        "# http://ehappy.tw/bsdemo2.htm\n",
        "import requests\n",
        "from bs4 import BeautifulSoup\n",
        "\n",
        "url = 'http://ehappy.tw/bsdemo2.htm'\n",
        "r = requests.get(url)\n",
        "r.encoding = 'utf-8'\n",
        "sp = BeautifulSoup(r.text, 'html.parser')\n",
        "sp.title.text\n",
        "sp.h1.text\n",
        "sp.p.text"
      ],
      "metadata": {
        "colab": {
          "base_uri": "https://localhost:8080/",
          "height": 35
        },
        "id": "yvx1lKe7VNj8",
        "outputId": "8942cf65-7a29-482c-ef47-4ff5de5b9645"
      },
      "execution_count": null,
      "outputs": [
        {
          "output_type": "execute_result",
          "data": {
            "text/plain": [
              "'我是段落一'"
            ],
            "application/vnd.google.colaboratory.intrinsic+json": {
              "type": "string"
            }
          },
          "metadata": {},
          "execution_count": 2
        }
      ]
    },
    {
      "cell_type": "code",
      "source": [
        "# 找標籤 tag\n",
        "sp.find('p').text # 網頁中若有多個 <p> → 用 find() 只會找到第一個\n",
        "\n",
        "# <p id=\"p1\" class=\"large\">我是段落一</p>\n",
        "# <p id=\"p2\" style=\"font-size:16pt\">我是段落二</p> → 請輸出'我是段落二'\n",
        "# sp.find_all('p')[1].text # 此為方法一\n",
        "# sp.find('p', id='p2').text # 此為方法二\n",
        "\n",
        "# <a href=\"http://www.e-happy.com.tw\">我是超連結2</a> → 請輸出'我是超連結2'\n",
        "# sp.find_all('a')[1].text # 此為方法一\n",
        "# sp.find('a', href=\"http://www.e-happy.com.tw\").text # 此為方法二\n",
        "\n",
        "# 此為方法三.四.五 → 由上一層元素往下找 ★★ class 為保留字 → 需使用「class_」★★\n",
        "# sp.find('li', class_='even').find('a').text \n",
        "sp.find('li', class_='even').a.text\n",
        "# sp.find('li', class_='even').text"
      ],
      "metadata": {
        "colab": {
          "base_uri": "https://localhost:8080/",
          "height": 35
        },
        "id": "6YnDEbfKVhc_",
        "outputId": "a8a9bdc8-c55f-473a-d1e4-902a6b917e9f"
      },
      "execution_count": null,
      "outputs": [
        {
          "output_type": "execute_result",
          "data": {
            "text/plain": [
              "'我是超連結2'"
            ],
            "application/vnd.google.colaboratory.intrinsic+json": {
              "type": "string"
            }
          },
          "metadata": {},
          "execution_count": 10
        }
      ]
    },
    {
      "cell_type": "code",
      "source": [
        "# 取得屬性\n",
        "# <a href=\"http://www.e-happy.com.tw\">我是超連結2</a> → 請輸出'http://www.e-happy.com.tw'\n",
        "sp.find('li', class_='even').a['href']\n",
        "sp.find('li', class_='even').a.get('href')\n",
        "\n",
        "# <img src=\"https://www.w3.org/html/logo/downloads/HTML5_Logo_256.png\" alt=\"HTML5 logo\"> → 請輸出影像網址\n",
        "sp.find('img').get('src')\n",
        "sp.find_all('img')[0].get('src')\n",
        "sp.img.get('src')\n",
        "sp.img['src']\n"
      ],
      "metadata": {
        "colab": {
          "base_uri": "https://localhost:8080/",
          "height": 35
        },
        "id": "QIHvcgfoU09M",
        "outputId": "7fe1cc59-fbf4-4a20-e23f-6aa5e42148a6"
      },
      "execution_count": null,
      "outputs": [
        {
          "output_type": "execute_result",
          "data": {
            "text/plain": [
              "'https://www.w3.org/html/logo/downloads/HTML5_Logo_256.png'"
            ],
            "application/vnd.google.colaboratory.intrinsic+json": {
              "type": "string"
            }
          },
          "metadata": {},
          "execution_count": 17
        }
      ]
    },
    {
      "cell_type": "markdown",
      "source": [
        "## 專題：PTT 美食版"
      ],
      "metadata": {
        "id": "X9R8OPYmWYyV"
      }
    },
    {
      "cell_type": "code",
      "source": [
        "# PTT 基本版 https://www.ptt.cc/bbs/Food/index.html\n",
        "import requests\n",
        "from bs4 import BeautifulSoup\n",
        "url = 'https://www.ptt.cc/bbs/Food/index.html'\n",
        "r = requests.get(url)\n",
        "sp = BeautifulSoup(r.text, 'html.parser')\n",
        "sp.title.text"
      ],
      "metadata": {
        "colab": {
          "base_uri": "https://localhost:8080/",
          "height": 35
        },
        "id": "eYZ7CWztWfaR",
        "outputId": "61d4aed8-9445-4832-b115-cb1e9dcf23fc"
      },
      "execution_count": null,
      "outputs": [
        {
          "output_type": "execute_result",
          "data": {
            "text/plain": [
              "'看板 Food 文章列表 - 批踢踢實業坊'"
            ],
            "application/vnd.google.colaboratory.intrinsic+json": {
              "type": "string"
            }
          },
          "metadata": {},
          "execution_count": 25
        }
      ]
    },
    {
      "cell_type": "code",
      "source": [
        "datas = sp.find_all(\"div\", class_='r-ent')\n",
        "for data in datas:\n",
        "    print(data.find('div', class_='date').text, end=' ')\n",
        "    print('https://www.ptt.cc' + data.a.get('href'), end= ' ')\n",
        "    print(data.a.text)"
      ],
      "metadata": {
        "id": "gUZX4Bv8Qk9D",
        "colab": {
          "base_uri": "https://localhost:8080/"
        },
        "outputId": "b851ba8f-b402-4609-ff39-4519f26b7fe4"
      },
      "execution_count": null,
      "outputs": [
        {
          "output_type": "stream",
          "name": "stdout",
          "text": [
            "10/06 https://www.ptt.cc/bbs/Food/M.1665049443.A.198.html [食記] 台北晶華 Robin's 牛排\n",
            "10/06 https://www.ptt.cc/bbs/Food/M.1665056947.A.DC4.html [食記] 台中南屯區 屋馬燒肉文心店\n",
            "10/06 https://www.ptt.cc/bbs/Food/M.1665059116.A.5F8.html [食記] 新北三芝 小馬貝菈~可免費餵小馬莊園餐廳\n",
            "10/06 https://www.ptt.cc/bbs/Food/M.1665060392.A.2B1.html [食記] 宜蘭 TOAST MAN 吐司男\n",
            "10/06 https://www.ptt.cc/bbs/Food/M.1665061743.A.423.html [食記] 台南東區朝屋ASASHOKUDOU咖哩飯料理|葛瑪\n",
            "10/06 https://www.ptt.cc/bbs/Food/M.1665061812.A.0C6.html [食記] 新竹竹北市 斑馬騷莎美義餐廳竹北文興店\n",
            "10/06 https://www.ptt.cc/bbs/Food/M.1665064306.A.6B0.html [食記] 中壢 樂魚料亭 二訪\n",
            "10/06 https://www.ptt.cc/bbs/Food/M.1665066496.A.14E.html [食記] 花蓮 魚刺人雞蛋糕. 海鹽冰淇淋\n",
            "12/16 https://www.ptt.cc/bbs/Food/M.1355673582.A.5F7.html [公告] Food板 板規 V3.91\n",
            " 9/28 https://www.ptt.cc/bbs/Food/M.1190944426.A.E6C.html [公告] 發文請在標題加上地區及提供地址電話。^^\n",
            "10/01 https://www.ptt.cc/bbs/Food/M.1128132666.A.0FD.html [公告] 文章被刪除者請洽精華區的資源回收桶\n",
            " 6/04 https://www.ptt.cc/bbs/Food/M.1496532469.A.C36.html [公告] 新增板規22：發文禁附延伸閱讀連結\n"
          ]
        }
      ]
    },
    {
      "cell_type": "code",
      "source": [
        "# 爬 2 頁\n",
        "\"\"\"\n",
        "<div class=\"action-bar\">\n",
        "    ......\n",
        "    <div class=\"btn-group btn-group-paging\">\n",
        "        <a class=\"btn wide\" href=\"/bbs/Food/index1.html\">最舊</a>\n",
        "        <a class=\"btn wide disabled\">‹ 上頁</a>\n",
        "        <a class=\"btn wide\" href=\"/bbs/Food/index2.html\">下頁 ›</a>\n",
        "        <a class=\"btn wide\" href=\"/bbs/Food/index.html\">最新</a>\n",
        "    </div>\n",
        "</div>          \n",
        "\"\"\"\n",
        "import requests\n",
        "from bs4 import BeautifulSoup\n",
        "url = 'https://www.ptt.cc/bbs/Food/index.html'\n",
        "\n",
        "for i in range(2):\n",
        "    print(f\"第 {i+1} 頁\")\n",
        "    r = requests.get(url)\n",
        "    sp = BeautifulSoup(r.text, 'html.parser')\n",
        "    datas = sp.find_all(\"div\", class_='r-ent')\n",
        "    for data in datas:\n",
        "        if data.a:\n",
        "            print(data.find('div', class_='date').text, end=' ')\n",
        "            print('https://www.ptt.cc' + data.a.get('href'), end= ' ')\n",
        "            print(data.a.text)\n",
        "    url ='https://www.ptt.cc' + sp.find_all('a', class_='btn wide')[1].get('href')"
      ],
      "metadata": {
        "colab": {
          "base_uri": "https://localhost:8080/"
        },
        "id": "9H_cj--UYCLk",
        "outputId": "81e0fe93-2fd9-4c32-da9e-aeeddee0192c"
      },
      "execution_count": null,
      "outputs": [
        {
          "output_type": "stream",
          "name": "stdout",
          "text": [
            "第 1 頁\n",
            "10/08 https://www.ptt.cc/bbs/Food/M.1665209053.A.ABA.html [廣宣] 台北 追樂泰式火鍋 1099雙人套餐\n",
            "10/08 https://www.ptt.cc/bbs/Food/M.1665214555.A.3A1.html [食記] 高雄 鹽埕區│御澗章魚燒\n",
            "12/16 https://www.ptt.cc/bbs/Food/M.1355673582.A.5F7.html [公告] Food板 板規 V3.91\n",
            " 9/28 https://www.ptt.cc/bbs/Food/M.1190944426.A.E6C.html [公告] 發文請在標題加上地區及提供地址電話。^^\n",
            "10/01 https://www.ptt.cc/bbs/Food/M.1128132666.A.0FD.html [公告] 文章被刪除者請洽精華區的資源回收桶\n",
            " 6/04 https://www.ptt.cc/bbs/Food/M.1496532469.A.C36.html [公告] 新增板規22：發文禁附延伸閱讀連結\n",
            "第 2 頁\n",
            "10/07 https://www.ptt.cc/bbs/Food/M.1665126761.A.EEA.html [請益] Logy有接受一個人訂位嗎？\n",
            "10/07 https://www.ptt.cc/bbs/Food/M.1665126969.A.66F.html [食記] 台北 Gontran Cherrier 可頌麵包甜點店\n",
            "10/07 https://www.ptt.cc/bbs/Food/M.1665133298.A.776.html [食記] 新竹 宗初食堂日式無菜單料理~4.9高評分\n",
            "10/07 https://www.ptt.cc/bbs/Food/M.1665137933.A.2C8.html [食記] 台北民生社區 Shawn咖啡廳\n",
            "10/07 https://www.ptt.cc/bbs/Food/M.1665138471.A.515.html [食記] 台北西門 瞞著爹 壽司丼/預約制無菜單日\n",
            "10/07 https://www.ptt.cc/bbs/Food/M.1665140438.A.72B.html [食記] 新竹竹北伴手禮 春上布丁蛋糕竹北文興店\n",
            "10/07 https://www.ptt.cc/bbs/Food/M.1665143297.A.4CA.html [食記] 西六碼頭肉圓芋圓 基隆中山 芋頭香芋粿圓\n",
            "10/07 https://www.ptt.cc/bbs/Food/M.1665143391.A.F14.html [食記] 新北。新莊 樂虎牛排\n",
            "10/07 https://www.ptt.cc/bbs/Food/M.1665146393.A.9B5.html [食記] 高雄 春水堂和平店 小聚餐聊天好選擇\n",
            "10/07 https://www.ptt.cc/bbs/Food/M.1665148588.A.1B0.html [食記] 台北 N°168 PRIME 牛排館\n",
            "10/07 https://www.ptt.cc/bbs/Food/M.1665149857.A.404.html [食記] 中壢 TOBU 飛ぶ\n",
            "10/07 https://www.ptt.cc/bbs/Food/M.1665150064.A.022.html [食記] 台中 味市お料理｜想吃不一定吃的到，\n",
            "10/07 https://www.ptt.cc/bbs/Food/M.1665152956.A.6A4.html [食記] 南投 日月潭雲品酒店 丹彤 自助餐吃到飽 \n",
            "10/07 https://www.ptt.cc/bbs/Food/M.1665154177.A.661.html [食記] 桃園中壢區。金丰饌 平價鐵板燒\n",
            "10/07 https://www.ptt.cc/bbs/Food/M.1665154938.A.6FC.html [食記] 台北信義 饗饗 平日下午茶\n",
            "10/08 https://www.ptt.cc/bbs/Food/M.1665197587.A.541.html [請益] 台灣最好吃道地的紙包雞\n",
            "10/08 https://www.ptt.cc/bbs/Food/M.1665202215.A.9EC.html [食記] 台北。南京復興站-黑浮咖啡 JR東日本飯店\n",
            "10/08 https://www.ptt.cc/bbs/Food/M.1665207570.A.B4B.html [請益] 台灣有不用油麵的沙茶羊肉炒麵嗎?\n",
            "10/08 https://www.ptt.cc/bbs/Food/M.1665208264.A.D48.html [食記] 苗栗 傳香飯糰\n",
            "10/08 https://www.ptt.cc/bbs/Food/M.1665208430.A.BDC.html [食記] 台北信義 屠夫漢堡\n"
          ]
        }
      ]
    },
    {
      "cell_type": "code",
      "source": [
        "# PTT 八掛版 https://www.ptt.cc/bbs/Gossiping/index.html\n",
        "import requests\n",
        "from bs4 import BeautifulSoup\n",
        "url = 'https://www.ptt.cc/bbs/Gossiping/index.html'\n",
        "# 首次來訪此網站時, 會顯示兩顆按鈕「同意,我已年滿十八歲」,「未滿十八歲或不同意此條款」\n",
        "# 點擊「同意...」→ 伺服器在用戶端電腦內放置 Cookie「over18, 值為 1」→ 再度瀏覽時進行檢視, 通過則放行。\n",
        "cookies = {'over18':'1'}\n",
        "r = requests.get(url, cookies=cookies)\n",
        "sp = BeautifulSoup(r.text, 'html.parser')\n",
        "data = sp.find_all(\"div\", class_='r-ent')\n",
        "for datum in data:\n",
        "    if datum.a:\n",
        "        print(datum.find('div', class_='date').text, end=' ')\n",
        "        print('https://www.ptt.cc' + datum.a.get('href'), end= ' ')\n",
        "        print(datum.a.text)"
      ],
      "metadata": {
        "colab": {
          "base_uri": "https://localhost:8080/"
        },
        "id": "AfXaM_A-cOmc",
        "outputId": "f9df8e15-24da-4c8b-e5f8-bb980e4e5235"
      },
      "execution_count": null,
      "outputs": [
        {
          "output_type": "stream",
          "name": "stdout",
          "text": [
            "10/08 https://www.ptt.cc/bbs/Gossiping/M.1665216200.A.D55.html Re: [新聞] 馬斯克稱設特別行政區　陳時中這樣說 \n",
            "10/08 https://www.ptt.cc/bbs/Gossiping/M.1665216204.A.707.html [問卦] 牙醫師是不是遊走在法律邊緣的職業啊？\n",
            "10/08 https://www.ptt.cc/bbs/Gossiping/M.1665216344.A.B68.html [新聞] 艾成去世52天 王瞳重啟臉書發長文訴思念\n",
            "10/08 https://www.ptt.cc/bbs/Gossiping/M.1665216375.A.9FC.html Re: [新聞] 國泰世華網銀、ATM大當機！民眾哀領不到\n",
            "10/08 https://www.ptt.cc/bbs/Gossiping/M.1665216392.A.B9C.html [問卦] 刺龍刺鳳的兄弟是不是越來越多了？\n",
            "10/08 https://www.ptt.cc/bbs/Gossiping/M.1665216476.A.635.html [問卦] 台積電員工是不是很爽\n",
            "10/08 https://www.ptt.cc/bbs/Gossiping/M.1665216481.A.38D.html Re: [問卦] 八卦版越來越能接受兩岸統一了\n",
            "10/08 https://www.ptt.cc/bbs/Gossiping/M.1665216639.A.5E1.html [問卦] 那間吃到飽改單點，你還會去？\n",
            "10/08 https://www.ptt.cc/bbs/Gossiping/M.1665216649.A.990.html [新聞] 豬肉攤壯伯右手指不慎被絞肉機絞斷 送醫\n",
            "10/08 https://www.ptt.cc/bbs/Gossiping/M.1665216745.A.FCD.html [新聞] 俄建克里米亞大橋爆炸火勢猛烈　烏克蘭\n",
            "10/08 https://www.ptt.cc/bbs/Gossiping/M.1665216796.A.A40.html Re: [新聞] 烏克蘭認同北方領土屬日本 日媒：有意聯\n",
            "10/08 https://www.ptt.cc/bbs/Gossiping/M.1665216802.A.C1D.html [問卦] 領到獎金15萬怎麼慶祝\n",
            "10/08 https://www.ptt.cc/bbs/Gossiping/M.1665216931.A.916.html [新聞] 影／解決低薪 范雲呼籲捍衛勞動尊嚴、實\n",
            "10/08 https://www.ptt.cc/bbs/Gossiping/M.1665217075.A.BD2.html Re: [問卦]台灣如果辦F1要辦在哪？\n",
            " 2/21 https://www.ptt.cc/bbs/Gossiping/M.1645455874.A.65E.html [公告] 八卦板板規(2022.02.21)\n",
            " 9/16 https://www.ptt.cc/bbs/Gossiping/M.1663317236.A.C44.html [協尋] 新北市永和區環河東路三段76號，往秀朗\n",
            " 9/29 https://www.ptt.cc/bbs/Gossiping/M.1664456431.A.4C2.html [協尋] 9月12日晚間11：10-11：2台中大道七段與\n",
            "10/04 https://www.ptt.cc/bbs/Gossiping/M.1664889722.A.95C.html Re: [問卦] 有沒有詐騙集團女成員都長得很正的八\n",
            "10/06 https://www.ptt.cc/bbs/Gossiping/M.1665051824.A.84D.html [公告] 帳號定時改密碼 PTT禁止買賣帳號蛤 水桶\n"
          ]
        }
      ]
    },
    {
      "cell_type": "markdown",
      "source": [
        "## 專題：台灣運彩"
      ],
      "metadata": {
        "id": "MsKUXzjf9CVm"
      }
    },
    {
      "cell_type": "code",
      "source": [
        "# 台灣運彩 https://www.taiwanlottery.com.tw/index_new.aspx\n",
        "import requests\n",
        "from bs4 import BeautifulSoup\n",
        "url = 'https://www.taiwanlottery.com.tw/index_new.aspx'\n",
        "r = requests.get(url)\n",
        "sp = BeautifulSoup(r.text, 'html.parser')\n",
        "sp.title.text.strip() # \\r\\n\\t台灣彩券 taiwanlottery\\r\\n"
      ],
      "metadata": {
        "colab": {
          "base_uri": "https://localhost:8080/",
          "height": 35
        },
        "id": "PtkYTSIAf9Do",
        "outputId": "c40383b8-c589-4e1c-e6d9-167b06c44808"
      },
      "execution_count": null,
      "outputs": [
        {
          "output_type": "execute_result",
          "data": {
            "text/plain": [
              "'台灣彩券 taiwanlottery'"
            ],
            "application/vnd.google.colaboratory.intrinsic+json": {
              "type": "string"
            }
          },
          "metadata": {},
          "execution_count": 2
        }
      ]
    },
    {
      "cell_type": "code",
      "source": [
        "# 威力彩\n",
        "威力彩 = sp.find('div', class_='contents_box02')\n",
        "期號 = 威力彩.find('span', class_='font_black15').text\n",
        "print(f\"期號:{期號}\")\n",
        "\n",
        "balls = 威力彩.find_all('div', class_='ball_tx ball_green')\n",
        "print(\"開出順序:\", end=' ')\n",
        "for i in range(6):\n",
        "    print(balls[i].text, end=' ')\n",
        "print(\"\\n大小順序:\", end= ' ')\n",
        "for i in range(6, 12):\n",
        "    print(balls[i].text, end=' ') \n",
        "print(\"\\n第二區:\", end= ' ')    \n",
        "print(威力彩.find('div', class_='ball_red').text)"
      ],
      "metadata": {
        "colab": {
          "base_uri": "https://localhost:8080/"
        },
        "id": "3MD_pIx5hzsl",
        "outputId": "9e58c170-fedf-41eb-b0c9-83e0587fb549"
      },
      "execution_count": null,
      "outputs": [
        {
          "output_type": "stream",
          "name": "stdout",
          "text": [
            "期號:111/10/6 第111000080期 \n",
            "開出順序: 10  26  36  23  15  21  \n",
            "大小順序: 10  15  21  23  26  36  \n",
            "第二區: 04 \n"
          ]
        }
      ]
    },
    {
      "cell_type": "code",
      "source": [
        "# 大樂透\n",
        "大樂透 = sp.find_all('div', class_='contents_box02')[2]\n",
        "期號 = 大樂透.find('span', class_='font_black15').text\n",
        "print(f\"期號:{期號}\")\n",
        "\n",
        "balls = 大樂透.find_all('div', class_='ball_tx ball_yellow')\n",
        "print(\"開出順序:\", end=' ')\n",
        "for i in range(6):\n",
        "    print(balls[i].text, end=' ')\n",
        "print(\"\\n大小順序:\", end= ' ')\n",
        "for i in range(6, 12):\n",
        "    print(balls[i].text, end=' ') \n",
        "print(\"\\n特別號:\", end= ' ')    \n",
        "print(大樂透.find('div', class_='ball_red').text)"
      ],
      "metadata": {
        "colab": {
          "base_uri": "https://localhost:8080/"
        },
        "id": "USqWt8kBlTWV",
        "outputId": "96ba2e45-8bfe-49c1-b8a3-5815abf0b74b"
      },
      "execution_count": null,
      "outputs": [
        {
          "output_type": "stream",
          "name": "stdout",
          "text": [
            "期號:111/10/7 第111000090期 \n",
            "開出順序: 26  15  16  05  30  10  \n",
            "大小順序: 05  10  15  16  26  30  \n",
            "特別號: 12 \n"
          ]
        }
      ]
    },
    {
      "cell_type": "markdown",
      "source": [
        "## 專題：影城電影資料爬蟲\n",
        "網址：[日日新影城-熱映電影](https://srm.com.tw/%e9%9b%bb%e5%bd%b1%e7%b0%a1%e4%bb%8b/%e7%86%b1%e6%98%a0%e4%b8%ad/ '熱映電影')\n",
        "\n",
        "任務：\n",
        "- 請收集電影名稱、說明網址及上映時間\n",
        "- 請下載電影海報照片儲存在`photos`資料夾"
      ],
      "metadata": {
        "id": "d-K1CbG1JMfA"
      }
    },
    {
      "cell_type": "code",
      "execution_count": null,
      "metadata": {
        "id": "o5tWm8oN6rz3",
        "colab": {
          "base_uri": "https://localhost:8080/"
        },
        "outputId": "43543f05-d42d-4c56-adea-450ecd6bc942"
      },
      "outputs": [
        {
          "output_type": "execute_result",
          "data": {
            "text/plain": [
              "11"
            ]
          },
          "metadata": {},
          "execution_count": 10
        }
      ],
      "source": [
        "# 影城電影資料爬蟲\n",
        "import requests\n",
        "from bs4 import BeautifulSoup\n",
        "url = 'https://srm.com.tw/%e9%9b%bb%e5%bd%b1%e7%b0%a1%e4%bb%8b/%e7%86%b1%e6%98%a0%e4%b8%ad/'\n",
        "r = requests.get(url)\n",
        "sp = BeautifulSoup(r.text, 'html.parser')\n",
        "sp.title.text\n",
        "# len(sp.find_all('article')) # 幫助除錯的好方法 → len 的值即為網站中的電影數量"
      ]
    },
    {
      "cell_type": "code",
      "source": [
        "import os\n",
        "if not os.path.exists('photos'):\n",
        "    os.mkdir('photos')\n",
        "\n",
        "movies = sp.find_all('article')\n",
        "print(f\"本期上映電影數:{len(movies)}\", end='\\n\\n')\n",
        "for i in range(len(movies)):\n",
        "    title = movies[i].find('h3').a.text\n",
        "    print(title, end=' ')\n",
        "    print(movies[i].find('h3').a.get('href'))\n",
        "    print(movies[i].find('div', itemprop=\"text\").text)\n",
        "    img_src = movies[i].img['src']\n",
        "    print(img_src)\n",
        "    with open('photos/' + title + '.jpg', 'wb') as f:\n",
        "        f.write(requests.get(img_src).content)\n",
        "    print()"
      ],
      "metadata": {
        "colab": {
          "base_uri": "https://localhost:8080/"
        },
        "id": "SDzxQGdmqqhf",
        "outputId": "3512d93e-dda4-4ea0-ea7e-bfc8e5b38c51"
      },
      "execution_count": null,
      "outputs": [
        {
          "output_type": "stream",
          "name": "stdout",
          "text": [
            "本期上映電影數:11\n",
            "\n",
            "阿姆斯特丹 https://srm.com.tw/portfolio-item/%e9%98%bf%e5%a7%86%e6%96%af%e7%89%b9%e4%b8%b9/\n",
            "上映日期：2022.10.07\n",
            "https://srm.com.tw/wp-content/uploads/2022/09/Amsterdam.jpg\n",
            "\n",
            "幸福入場券 https://srm.com.tw/portfolio-item/%e5%b9%b8%e7%a6%8f%e5%85%a5%e5%a0%b4%e5%88%b8/\n",
            "上映日期：2022.10.07\n",
            "https://srm.com.tw/wp-content/uploads/2022/09/Ticket-to-Paradise..jpg\n",
            "\n",
            "沼澤謀殺案 https://srm.com.tw/portfolio-item/%e6%b2%bc%e6%be%a4%e8%ac%80%e6%ae%ba%e6%a1%88/\n",
            "上映日期：2022.10.07\n",
            "https://srm.com.tw/wp-content/uploads/2022/09/Where-the-Crawdads-Sing..jpg\n",
            "\n",
            "樂透大作戰 https://srm.com.tw/portfolio-item/%e6%a8%82%e9%80%8f%e5%a4%a7%e4%bd%9c%e6%88%b0/\n",
            "上映日期：2022.09.30\n",
            "https://srm.com.tw/wp-content/uploads/2022/08/6.45-1.jpg\n",
            "\n",
            "行動代號：狼狩獵 https://srm.com.tw/portfolio-item/%e8%a1%8c%e5%8b%95%e4%bb%a3%e8%99%9f%ef%bc%9a%e7%8b%bc%e7%8b%a9%e7%8d%b5/\n",
            "上映日期：2022.09.30\n",
            "https://srm.com.tw/wp-content/uploads/2022/09/Project-Wolf-Hunting.jpg\n",
            "\n",
            "微笑 https://srm.com.tw/portfolio-item/%e5%be%ae%e7%ac%91/\n",
            "上映日期：2022.09.30\n",
            "https://srm.com.tw/wp-content/uploads/2022/08/Smile.jpg\n",
            "\n",
            "阿凡達（重映版） https://srm.com.tw/portfolio-item/%e9%98%bf%e5%87%a1%e9%81%94%ef%bc%88%e9%87%8d%e6%98%a0%e7%89%88%ef%bc%89/\n",
            "上映日期：2022.09.23\n",
            "https://srm.com.tw/wp-content/uploads/2022/08/Avatar-Re-Release.jpg\n",
            "\n",
            "別擔心親愛的 https://srm.com.tw/portfolio-item/%e5%88%a5%e6%93%94%e5%bf%83%e8%a6%aa%e6%84%9b%e7%9a%84/\n",
            "上映日期：2022.09.22\n",
            "https://srm.com.tw/wp-content/uploads/2022/08/Dont-Worry-Darling.jpg\n",
            "\n",
            "機密同盟2 https://srm.com.tw/portfolio-item/%e6%a9%9f%e5%af%86%e5%90%8c%e7%9b%9f2/\n",
            "上映日期：2022.09.08\n",
            "https://srm.com.tw/wp-content/uploads/2022/08/Confidential-Assignment-2.jpg\n",
            "\n",
            "航海王劇場版：紅髮歌姬 https://srm.com.tw/portfolio-item/%e8%88%aa%e6%b5%b7%e7%8e%8b%e5%8a%87%e5%a0%b4%e7%89%88%ef%bc%9a%e7%b4%85%e9%ab%ae%e6%ad%8c%e5%a7%ac/\n",
            "上映日期：2022.08.19\n",
            "https://srm.com.tw/wp-content/uploads/2022/07/One-Piece-Film-Red.jpg\n",
            "\n",
            "子彈列車 https://srm.com.tw/portfolio-item/%e5%ad%90%e5%bd%88%e5%88%97%e8%bb%8a/\n",
            "上映日期：2022.08.03\n",
            "https://srm.com.tw/wp-content/uploads/2022/07/Bullet-Train.jpg\n",
            "\n"
          ]
        }
      ]
    },
    {
      "cell_type": "markdown",
      "source": [
        "# 非同步載入爬蟲 Ajax\n",
        "網站\n",
        "https://sites.google.com/cdc.gov.tw/2019ncov/taiwan\n",
        ">第一次請求 → 回應「不帶資料的 HTML」<br>\n",
        "第二次請求 → 取得「資料更新的 HTML」"
      ],
      "metadata": {
        "id": "RMt9fNpe6G04"
      }
    },
    {
      "cell_type": "code",
      "source": [
        "import requests\n",
        "from bs4 import BeautifulSoup\n",
        "url = 'https://sites.google.com/cdc.gov.tw/2019ncov/taiwan'\n",
        "r = requests.get(url)\n",
        "sp = BeautifulSoup(r.text, 'html.parser')\n",
        "\n",
        "# #####################################################################################################\n",
        "# requests 讀取網頁, BeautifulSoup 解析網頁後, 竟然找不到 <通報數 18,363,146> 的 div 標籤 → 如下\n",
        "div = sp.find('div', class_='outbreak_info_class')\n",
        "# print(len(div)) # 執行時期錯誤 TypeError: object of type 'NoneType' has no len() → 原因:「非同步載入」\n",
        "# 開發人員模式 / 網路 / FetchXHR → 重新整理網頁 → 點擊「名稱」下任一項目, 如 dash3 → \n",
        "#「標頭」顯示: 申請網址: https://covid19dashboard.cdc.gov.tw/dash3, 要求方法: GET\n",
        "#「預覽」顯示: {確診: \"6,871,538\", 死亡: 11527, 送驗: \"18,363,146\", 排除: \"11,488,875\", …}\n",
        "# 目前的網頁製作, 愈來愈多採用非同步載入的方式, 要熟用爬取資料的方式！。\n",
        "# ######################################################################################################"
      ],
      "metadata": {
        "id": "77wwSyqj2ZNM"
      },
      "execution_count": null,
      "outputs": []
    },
    {
      "cell_type": "code",
      "source": [
        "# 將上述的網址(非同步載入的網址)指派給 url\n",
        "url = 'https://covid19dashboard.cdc.gov.tw/dash3'\n",
        "r = requests.get(url)\n",
        "r.text # 資料爬蟲完成 (JSON 格式)\n",
        "data = r.json()\n",
        "data"
      ],
      "metadata": {
        "colab": {
          "base_uri": "https://localhost:8080/"
        },
        "id": "sCFNzIVAvc44",
        "outputId": "18b25414-800a-48b9-deba-80649344cc2a"
      },
      "execution_count": null,
      "outputs": [
        {
          "output_type": "execute_result",
          "data": {
            "text/plain": [
              "{'0': {'確診': '6,871,538',\n",
              "  '死亡': 11527,\n",
              "  '送驗': '18,363,146',\n",
              "  '排除': '11,488,875',\n",
              "  '昨日確診': 44534,\n",
              "  '昨日排除': '8,463',\n",
              "  '昨日送驗': '53,010'}}"
            ]
          },
          "metadata": {},
          "execution_count": 8
        }
      ]
    },
    {
      "cell_type": "code",
      "source": [
        "data['0']['確診']"
      ],
      "metadata": {
        "colab": {
          "base_uri": "https://localhost:8080/",
          "height": 35
        },
        "id": "a11njMmp0m66",
        "outputId": "3636645e-71b0-4c0d-b9e4-85912c55518b"
      },
      "execution_count": null,
      "outputs": [
        {
          "output_type": "execute_result",
          "data": {
            "text/plain": [
              "'6,871,538'"
            ],
            "application/vnd.google.colaboratory.intrinsic+json": {
              "type": "string"
            }
          },
          "metadata": {},
          "execution_count": 9
        }
      ]
    },
    {
      "cell_type": "markdown",
      "source": [
        "# 寫入 Google 試算表\n",
        "## 步驟\n",
        "* 登入Google Cloud Console網站\n",
        "    * \u000bhttps://console.cloud.google.com\n",
        "* 新增專案(免費使用者只能開12個專案)\n",
        "* 加入要使用的API並啟用(此處啟用Google Sheet API)\n",
        "* 建立憑證(JSON類型)\n",
        "    * 選擇建立憑證/服務帳戶金鑰\n",
        "    * 設定服務帳戶ID(可用預設或自訂，全ID會組合成電子郵件格式)\n",
        "* 選擇JSON金鑰類型\n",
        "* 建立後瀏覽器會下載.json格式金鑰檔到本機，請與Python程式放在一起"
      ],
      "metadata": {
        "id": "OZuiKIlHzuAE"
      }
    },
    {
      "cell_type": "code",
      "source": [
        "!pip install gspread oauth2client\n",
        "# Google Cloud Account: kevin-account@yt-minxin-data-science.iam.gserviceaccount.com\n",
        "# Google 網路硬碟, 新增試算表\n",
        "# 網址 https://docs.google.com/spreadsheets/d/1Yky2Zc_LOUwS8W0mBIRqEf-JuwWInUe67gg-PxiYCCA/edit#gid=0\n",
        "# 其中「1Yky2Zc_LOUwS8W0mBIRqEf-JuwWInUe67gg-PxiYCCA」即為該試算表的編號\n",
        "# Google Cloud 下載的 yt-minxin-data-science-b193e75bc7c1 上傳到 Colab Files 目錄下"
      ],
      "metadata": {
        "id": "nUcNKB-6hDmD",
        "colab": {
          "base_uri": "https://localhost:8080/"
        },
        "outputId": "5a4c306f-7298-43bf-cc42-6657aa36ca8d"
      },
      "execution_count": null,
      "outputs": [
        {
          "output_type": "stream",
          "name": "stdout",
          "text": [
            "Looking in indexes: https://pypi.org/simple, https://us-python.pkg.dev/colab-wheels/public/simple/\n",
            "Requirement already satisfied: gspread in /usr/local/lib/python3.7/dist-packages (3.4.2)\n",
            "Requirement already satisfied: oauth2client in /usr/local/lib/python3.7/dist-packages (4.1.3)\n",
            "Requirement already satisfied: google-auth in /usr/local/lib/python3.7/dist-packages (from gspread) (1.35.0)\n",
            "Requirement already satisfied: requests>=2.2.1 in /usr/local/lib/python3.7/dist-packages (from gspread) (2.23.0)\n",
            "Requirement already satisfied: idna<3,>=2.5 in /usr/local/lib/python3.7/dist-packages (from requests>=2.2.1->gspread) (2.10)\n",
            "Requirement already satisfied: certifi>=2017.4.17 in /usr/local/lib/python3.7/dist-packages (from requests>=2.2.1->gspread) (2022.9.24)\n",
            "Requirement already satisfied: chardet<4,>=3.0.2 in /usr/local/lib/python3.7/dist-packages (from requests>=2.2.1->gspread) (3.0.4)\n",
            "Requirement already satisfied: urllib3!=1.25.0,!=1.25.1,<1.26,>=1.21.1 in /usr/local/lib/python3.7/dist-packages (from requests>=2.2.1->gspread) (1.24.3)\n",
            "Requirement already satisfied: pyasn1-modules>=0.0.5 in /usr/local/lib/python3.7/dist-packages (from oauth2client) (0.2.8)\n",
            "Requirement already satisfied: six>=1.6.1 in /usr/local/lib/python3.7/dist-packages (from oauth2client) (1.15.0)\n",
            "Requirement already satisfied: rsa>=3.1.4 in /usr/local/lib/python3.7/dist-packages (from oauth2client) (4.9)\n",
            "Requirement already satisfied: httplib2>=0.9.1 in /usr/local/lib/python3.7/dist-packages (from oauth2client) (0.17.4)\n",
            "Requirement already satisfied: pyasn1>=0.1.7 in /usr/local/lib/python3.7/dist-packages (from oauth2client) (0.4.8)\n",
            "Requirement already satisfied: setuptools>=40.3.0 in /usr/local/lib/python3.7/dist-packages (from google-auth->gspread) (57.4.0)\n",
            "Requirement already satisfied: cachetools<5.0,>=2.0.0 in /usr/local/lib/python3.7/dist-packages (from google-auth->gspread) (4.2.4)\n"
          ]
        }
      ]
    },
    {
      "cell_type": "code",
      "source": [
        "# https://console.developers.google.com\n",
        "import gspread, time\n",
        "from oauth2client.service_account import ServiceAccountCredentials as sac\n",
        "# 設定金鑰檔路徑及驗證範圍\n",
        "auth_json = 'yt-minxin-data-science-b193e75bc7c1.json' # ★★ 填入資料 ★★\n",
        "gs_scopes = ['https://spreadsheets.google.com/feeds']\n",
        "# 連線資料表\n",
        "cr = sac.from_json_keyfile_name(auth_json, gs_scopes)\n",
        "gc = gspread.authorize(cr) \n",
        "# 開啟資料表\n",
        "spreadsheet_key = '1Yky2Zc_LOUwS8W0mBIRqEf-JuwWInUe67gg-PxiYCCA' # ★★ 填入資料 ★★\n",
        "sheet = gc.open_by_key(spreadsheet_key)\n",
        "\n",
        "# 開啟工作表\n",
        "wks = sheet.sheet1\n",
        "# 清除所有內容\n",
        "wks.clear()\n",
        "\n",
        "# 用 wks.append_row()寫入資料\n",
        "fruits = ['Apple', 'Banana', 'Cherry']\n",
        "wks.append_row(fruits)"
      ],
      "metadata": {
        "id": "KFqhxCCshy1c",
        "colab": {
          "base_uri": "https://localhost:8080/"
        },
        "outputId": "d15ca467-1ed9-4e1c-b524-c86d7da7ee3b"
      },
      "execution_count": null,
      "outputs": [
        {
          "output_type": "execute_result",
          "data": {
            "text/plain": [
              "{'spreadsheetId': '1Yky2Zc_LOUwS8W0mBIRqEf-JuwWInUe67gg-PxiYCCA',\n",
              " 'updates': {'spreadsheetId': '1Yky2Zc_LOUwS8W0mBIRqEf-JuwWInUe67gg-PxiYCCA',\n",
              "  'updatedRange': \"'工作表1'!A1:C1\",\n",
              "  'updatedRows': 1,\n",
              "  'updatedColumns': 3,\n",
              "  'updatedCells': 3}}"
            ]
          },
          "metadata": {},
          "execution_count": 7
        }
      ]
    },
    {
      "cell_type": "code",
      "source": [
        "wks = sheet.sheet1 # 開啟工作表\n",
        "wks.clear() # 清除所有內容\n",
        "import csv, time\n",
        "with open('covid-19.csv', 'r') as f: # 用 wks.append_row() 寫入資料\n",
        "    data = csv.reader(f)\n",
        "    for item in data:\n",
        "        wks.append_row(item)\n",
        "        time.sleep(1) \n",
        "# Google 雲端文件之限制: 每秒鍾只能寫入一次！執行時發生執行時期錯誤, 如下:\n",
        "# APIError: {'code': 429, 'message': \"Quota exceeded for quota metric 'Write requests' and limit 'Write requests\n",
        "# per minute per user' of service 'sheets.googleapis.com' for consumer 'project_number:572568271994'.\", \n",
        "# 'status': 'RESOURCE_EXHAUSTED', .......\n",
        "# 加上「time.sleep(1) 」→ 再度執行時, 由於谷歌會鎖定一小段時間, 可能要等個三分鍾吧 ..。"
      ],
      "metadata": {
        "id": "2n-bockesrwL"
      },
      "execution_count": null,
      "outputs": []
    },
    {
      "cell_type": "code",
      "source": [
        "# https://console.developers.google.com\n",
        "import gspread, time\n",
        "from oauth2client.service_account import ServiceAccountCredentials as sac\n",
        "# 設定金鑰檔路徑及驗證範圍\n",
        "auth_json = 'main-sphere-357801-8ef41e6476ee.json'\n",
        "gs_scopes = ['https://spreadsheets.google.com/feeds']\n",
        "# 連線資料表\n",
        "cr = sac.from_json_keyfile_name(auth_json, gs_scopes)\n",
        "gc = gspread.authorize(cr) \n",
        "# 開啟資料表\n",
        "spreadsheet_key = '1ue9bbIwlSkMoamlYY53OlFN3y7AvH755Lww1bS_Dkr0' \n",
        "sheet = gc.open_by_key(spreadsheet_key)\n",
        "\n",
        "# 開啟工作表\n",
        "wks = sheet.sheet1\n",
        "# wks = sheet.sheet1\n",
        "# wks = sheet.get_worksheet(0)\n",
        "# wks = sheet.worksheet(\"自訂工作表名稱\")\n",
        "\n",
        "# 清除所有內容\n",
        "wks.clear()\n",
        "\n",
        "# 用 wks.append_row()寫入資料\n",
        "fruits = ['Apple', 'Banana', 'Cherry']\n",
        "wks.append_row(fruits)"
      ],
      "metadata": {
        "colab": {
          "base_uri": "https://localhost:8080/"
        },
        "id": "25L6ZkA_zh7a",
        "outputId": "ab762ced-609d-4dbc-e8d7-e11061e0e902"
      },
      "execution_count": null,
      "outputs": [
        {
          "output_type": "execute_result",
          "data": {
            "text/plain": [
              "{'spreadsheetId': '1ue9bbIwlSkMoamlYY53OlFN3y7AvH755Lww1bS_Dkr0',\n",
              " 'updates': {'spreadsheetId': '1ue9bbIwlSkMoamlYY53OlFN3y7AvH755Lww1bS_Dkr0',\n",
              "  'updatedCells': 3,\n",
              "  'updatedColumns': 3,\n",
              "  'updatedRange': \"'工作表1'!A1:C1\",\n",
              "  'updatedRows': 1}}"
            ]
          },
          "metadata": {},
          "execution_count": 20
        }
      ]
    }
  ]
}