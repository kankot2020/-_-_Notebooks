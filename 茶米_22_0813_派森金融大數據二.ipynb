{
  "nbformat": 4,
  "nbformat_minor": 0,
  "metadata": {
    "colab": {
      "provenance": [],
      "collapsed_sections": [],
      "include_colab_link": true
    },
    "kernelspec": {
      "name": "python3",
      "display_name": "Python 3"
    },
    "language_info": {
      "name": "python"
    }
  },
  "cells": [
    {
      "cell_type": "markdown",
      "metadata": {
        "id": "view-in-github",
        "colab_type": "text"
      },
      "source": [
        "<a href=\"https://colab.research.google.com/github/kankot2020/-_-_Notebooks/blob/main/%E8%8C%B6%E7%B1%B3_22_0813_%E6%B4%BE%E6%A3%AE%E9%87%91%E8%9E%8D%E5%A4%A7%E6%95%B8%E6%93%9A%E4%BA%8C.ipynb\" target=\"_parent\"><img src=\"https://colab.research.google.com/assets/colab-badge.svg\" alt=\"Open In Colab\"/></a>"
      ]
    },
    {
      "cell_type": "markdown",
      "metadata": {
        "id": "NWH5JdU_4Bzd"
      },
      "source": [
        "# 台灣股市資訊收集"
      ]
    },
    {
      "cell_type": "markdown",
      "metadata": {
        "id": "dVnsX8wR_coe"
      },
      "source": [
        "##twstock模組：台灣股市資訊模組\n",
        "\n",
        "1. 官網 https://github.com/mlouielu/twstock\n",
        "2. 文件 https://twstock.readthedocs.io/zh_TW/latest/\n",
        "\n",
        ">**【注意】**  \n",
        "TWSE 有 request limit, 每 5 秒鐘 3 個 request, 超過的話會被 ban 掉, 請自行注意"
      ]
    },
    {
      "cell_type": "code",
      "execution_count": null,
      "metadata": {
        "id": "GZJv6dMz_dIM",
        "colab": {
          "base_uri": "https://localhost:8080/"
        },
        "outputId": "2195271d-7de2-46f8-99f3-007d079a2cea"
      },
      "outputs": [
        {
          "output_type": "stream",
          "name": "stdout",
          "text": [
            "Looking in indexes: https://pypi.org/simple, https://us-python.pkg.dev/colab-wheels/public/simple/\n",
            "Collecting twstock\n",
            "  Downloading twstock-1.3.1-py3-none-any.whl (1.9 MB)\n",
            "\u001b[K     |████████████████████████████████| 1.9 MB 24.8 MB/s \n",
            "\u001b[?25hRequirement already satisfied: requests in /usr/local/lib/python3.7/dist-packages (from twstock) (2.23.0)\n",
            "Requirement already satisfied: urllib3!=1.25.0,!=1.25.1,<1.26,>=1.21.1 in /usr/local/lib/python3.7/dist-packages (from requests->twstock) (1.24.3)\n",
            "Requirement already satisfied: idna<3,>=2.5 in /usr/local/lib/python3.7/dist-packages (from requests->twstock) (2.10)\n",
            "Requirement already satisfied: chardet<4,>=3.0.2 in /usr/local/lib/python3.7/dist-packages (from requests->twstock) (3.0.4)\n",
            "Requirement already satisfied: certifi>=2017.4.17 in /usr/local/lib/python3.7/dist-packages (from requests->twstock) (2022.9.24)\n",
            "Installing collected packages: twstock\n",
            "Successfully installed twstock-1.3.1\n"
          ]
        }
      ],
      "source": [
        "# 安裝\n",
        "!pip install twstock"
      ]
    },
    {
      "cell_type": "code",
      "source": [
        "!pip show twstock"
      ],
      "metadata": {
        "colab": {
          "base_uri": "https://localhost:8080/"
        },
        "id": "EnWWIRWw_W9U",
        "outputId": "db5be72b-7a11-4ee9-eff5-0a4e14132a6c"
      },
      "execution_count": null,
      "outputs": [
        {
          "output_type": "stream",
          "name": "stdout",
          "text": [
            "Name: twstock\n",
            "Version: 1.3.1\n",
            "Summary: Taiwan Stock Opendata with realtime - twstock\n",
            "Home-page: https://github.com/mlouielu/twstock\n",
            "Author: Louie Lu\n",
            "Author-email: git@louie.lu\n",
            "License: UNKNOWN\n",
            "Location: /usr/local/lib/python3.7/dist-packages\n",
            "Requires: requests\n",
            "Required-by: \n"
          ]
        }
      ]
    },
    {
      "cell_type": "markdown",
      "source": [
        "### 查詢個股股票資訊"
      ],
      "metadata": {
        "id": "fRN33CAJq1Db"
      }
    },
    {
      "cell_type": "code",
      "execution_count": null,
      "metadata": {
        "id": "9XUFY81i_dL7"
      },
      "outputs": [],
      "source": [
        "# 查詢網址：https://www.twse.com.tw/zh/page/trading/exchange/STOCK_DAY.html\n",
        "# 使用模組\n",
        "import twstock\n",
        "stock = twstock.Stock('2330')"
      ]
    },
    {
      "cell_type": "code",
      "source": [
        "# 原始資料 stock.raw_data\n",
        "raw = stock.raw_data\n",
        "print(f\"資料格式:{type(raw)}, 資料筆數:{len(raw)}\")\n",
        "# raw\n",
        "# raw[0].keys() #['stat', 'date', 'title', 'fields', 'data', 'notes']\n",
        "# raw[0]['title']\n",
        "# raw[0]['fields'] #['日期', '成交股數', '成交金額', '開盤價', '最高價', '最低價', '收盤價', '漲跌價差', '成交筆數']\n",
        "raw[0]['data']"
      ],
      "metadata": {
        "id": "K_7_HKihBEx9",
        "colab": {
          "base_uri": "https://localhost:8080/"
        },
        "outputId": "a9b6a391-349c-4222-932a-cdad3c5edaef"
      },
      "execution_count": null,
      "outputs": [
        {
          "output_type": "stream",
          "name": "stdout",
          "text": [
            "資料格式:<class 'list'>, 資料筆數:6\n"
          ]
        },
        {
          "output_type": "execute_result",
          "data": {
            "text/plain": [
              "[Data(date=datetime.datetime(2021, 10, 1, 0, 0), capacity=39006124, turnover=22368447571, open=579.0, high=579.0, low=571.0, close=574.0, change=-6.0, transaction=78088),\n",
              " Data(date=datetime.datetime(2021, 10, 4, 0, 0), capacity=22288138, turnover=12741914919, open=574.0, high=575.0, low=569.0, close=572.0, change=-2.0, transaction=42147),\n",
              " Data(date=datetime.datetime(2021, 10, 5, 0, 0), capacity=36063650, turnover=20406526124, open=562.0, high=572.0, low=560.0, close=572.0, change=0.0, transaction=56678),\n",
              " Data(date=datetime.datetime(2021, 10, 6, 0, 0), capacity=33989379, turnover=19345468774, open=573.0, high=574.0, low=565.0, close=571.0, change=-1.0, transaction=53606),\n",
              " Data(date=datetime.datetime(2021, 10, 7, 0, 0), capacity=28480400, turnover=16458019782, open=575.0, high=582.0, low=572.0, close=580.0, change=9.0, transaction=23304),\n",
              " Data(date=datetime.datetime(2021, 10, 8, 0, 0), capacity=22601904, turnover=13051944932, open=582.0, high=583.0, low=573.0, close=575.0, change=-5.0, transaction=24157),\n",
              " Data(date=datetime.datetime(2021, 10, 12, 0, 0), capacity=27126088, turnover=15455194493, open=570.0, high=575.0, low=564.0, close=575.0, change=0.0, transaction=32210),\n",
              " Data(date=datetime.datetime(2021, 10, 13, 0, 0), capacity=19267437, turnover=11006807040, open=572.0, high=575.0, low=570.0, close=571.0, change=-4.0, transaction=18050),\n",
              " Data(date=datetime.datetime(2021, 10, 14, 0, 0), capacity=14270641, turnover=8213170376, open=579.0, high=579.0, low=573.0, close=573.0, change=2.0, transaction=14814),\n",
              " Data(date=datetime.datetime(2021, 10, 15, 0, 0), capacity=55305252, turnover=32878638999, open=592.0, high=600.0, low=586.0, close=600.0, change=27.0, transaction=61088),\n",
              " Data(date=datetime.datetime(2021, 10, 18, 0, 0), capacity=19753943, turnover=11802365489, open=604.0, high=604.0, low=590.0, close=590.0, change=-10.0, transaction=21353),\n",
              " Data(date=datetime.datetime(2021, 10, 19, 0, 0), capacity=18709936, turnover=11196540994, open=598.0, high=600.0, low=593.0, close=600.0, change=10.0, transaction=20482),\n",
              " Data(date=datetime.datetime(2021, 10, 20, 0, 0), capacity=17537878, turnover=10527701553, open=603.0, high=604.0, low=597.0, close=598.0, change=-2.0, transaction=16410),\n",
              " Data(date=datetime.datetime(2021, 10, 21, 0, 0), capacity=16882324, turnover=10116911921, open=602.0, high=603.0, low=595.0, close=596.0, change=-2.0, transaction=17599),\n",
              " Data(date=datetime.datetime(2021, 10, 22, 0, 0), capacity=14236279, turnover=8520299817, open=600.0, high=602.0, low=594.0, close=600.0, change=4.0, transaction=12812),\n",
              " Data(date=datetime.datetime(2021, 10, 25, 0, 0), capacity=17724968, turnover=10518554968, open=597.0, high=597.0, low=590.0, close=593.0, change=-7.0, transaction=16139),\n",
              " Data(date=datetime.datetime(2021, 10, 26, 0, 0), capacity=27047187, turnover=16169131795, open=595.0, high=600.0, low=593.0, close=599.0, change=6.0, transaction=13081),\n",
              " Data(date=datetime.datetime(2021, 10, 27, 0, 0), capacity=16260278, turnover=9708715733, open=598.0, high=599.0, low=594.0, close=599.0, change=0.0, transaction=12042),\n",
              " Data(date=datetime.datetime(2021, 10, 28, 0, 0), capacity=16927154, turnover=10066068774, open=598.0, high=598.0, low=591.0, close=595.0, change=-4.0, transaction=15065),\n",
              " Data(date=datetime.datetime(2021, 10, 29, 0, 0), capacity=27684673, turnover=16352758906, open=595.0, high=596.0, low=589.0, close=590.0, change=-5.0, transaction=19937)]"
            ]
          },
          "metadata": {},
          "execution_count": 15
        }
      ]
    },
    {
      "cell_type": "code",
      "source": [
        "import pandas as pd\n",
        "資料欄位 = raw[0]['fields']\n",
        "pd.DataFrame(raw[0]['data'], columns=資料欄位)"
      ],
      "metadata": {
        "colab": {
          "base_uri": "https://localhost:8080/",
          "height": 771
        },
        "id": "FhyVw-FISnpR",
        "outputId": "40df619a-c0ff-4e50-d3ee-fd9b2f8f72fa"
      },
      "execution_count": null,
      "outputs": [
        {
          "output_type": "execute_result",
          "data": {
            "text/plain": [
              "           日期      成交股數         成交金額    開盤價    最高價    最低價    收盤價  漲跌價差   成交筆數\n",
              "0  2022-08-01  24991291  12569771761  506.0  508.0  500.0  504.0  -5.0  26792\n",
              "1  2022-08-02  42669591  20973293337  494.0  496.0  488.5  492.0 -12.0  63879\n",
              "2  2022-08-03  29838832  14823224632  494.0  501.0  493.0  501.0   9.0  25570\n",
              "3  2022-08-04  26589086  13279624282  499.0  503.0  495.0  500.0  -1.0  27173\n",
              "4  2022-08-05  35052642  17966410242  509.0  516.0  507.0  516.0  16.0  49928\n",
              "5  2022-08-08  20568971  10531710250  510.0  515.0  509.0  512.0  -4.0  18131\n",
              "6  2022-08-09  24370709  12372442661  507.0  511.0  504.0  510.0  -2.0  25433\n",
              "7  2022-08-10  22112239  11075581424  500.0  503.0  499.5  500.0 -10.0  35188\n",
              "8  2022-08-11  24906177  12771121611  513.0  514.0  510.0  514.0  14.0  23949\n",
              "9  2022-08-12  21343450  11016097043  515.0  518.0  514.0  517.0   3.0  21701\n",
              "10 2022-08-15  22519886  11755494600  520.0  524.0  519.0  523.0   6.0  27372\n",
              "11 2022-08-16  21234122  11141160337  526.0  526.0  523.0  525.0   2.0  20628\n",
              "12 2022-08-17  28461939  14943047011  524.0  527.0  521.0  527.0   2.0  26466\n",
              "13 2022-08-18  18721898   9734756997  520.0  521.0  519.0  520.0  -7.0  24209\n",
              "14 2022-08-19  14235983   7403584002  519.0  523.0  517.0  519.0  -1.0  14069\n",
              "15 2022-08-22  23175820  11849427903  511.0  514.0  510.0  510.0  -9.0  32130\n",
              "16 2022-08-23  20997847  10580935860  503.0  506.0  502.0  504.0  -6.0  34243\n",
              "17 2022-08-24  14995494   7560487746  504.0  508.0  503.0  503.0  -1.0  20031\n",
              "18 2022-08-25  10254367   5208471523  505.0  510.0  504.0  508.0   5.0  11664\n",
              "19 2022-08-26  13268148   6805419690  513.0  515.0  511.0  512.0   4.0  14862\n",
              "20 2022-08-29  28217313  14055439771  497.0  502.0  496.0  498.5 -13.5  60889\n",
              "21 2022-08-30  25699463  12787938496  497.5  500.0  496.0  496.0  -2.5  43669\n",
              "22 2022-08-31  50999514  25630339779  492.0  505.0  492.0  505.0   9.0  24054"
            ],
            "text/html": [
              "\n",
              "  <div id=\"df-53dc3d64-f479-4dac-b882-1a8b49606c57\">\n",
              "    <div class=\"colab-df-container\">\n",
              "      <div>\n",
              "<style scoped>\n",
              "    .dataframe tbody tr th:only-of-type {\n",
              "        vertical-align: middle;\n",
              "    }\n",
              "\n",
              "    .dataframe tbody tr th {\n",
              "        vertical-align: top;\n",
              "    }\n",
              "\n",
              "    .dataframe thead th {\n",
              "        text-align: right;\n",
              "    }\n",
              "</style>\n",
              "<table border=\"1\" class=\"dataframe\">\n",
              "  <thead>\n",
              "    <tr style=\"text-align: right;\">\n",
              "      <th></th>\n",
              "      <th>日期</th>\n",
              "      <th>成交股數</th>\n",
              "      <th>成交金額</th>\n",
              "      <th>開盤價</th>\n",
              "      <th>最高價</th>\n",
              "      <th>最低價</th>\n",
              "      <th>收盤價</th>\n",
              "      <th>漲跌價差</th>\n",
              "      <th>成交筆數</th>\n",
              "    </tr>\n",
              "  </thead>\n",
              "  <tbody>\n",
              "    <tr>\n",
              "      <th>0</th>\n",
              "      <td>2022-08-01</td>\n",
              "      <td>24991291</td>\n",
              "      <td>12569771761</td>\n",
              "      <td>506.0</td>\n",
              "      <td>508.0</td>\n",
              "      <td>500.0</td>\n",
              "      <td>504.0</td>\n",
              "      <td>-5.0</td>\n",
              "      <td>26792</td>\n",
              "    </tr>\n",
              "    <tr>\n",
              "      <th>1</th>\n",
              "      <td>2022-08-02</td>\n",
              "      <td>42669591</td>\n",
              "      <td>20973293337</td>\n",
              "      <td>494.0</td>\n",
              "      <td>496.0</td>\n",
              "      <td>488.5</td>\n",
              "      <td>492.0</td>\n",
              "      <td>-12.0</td>\n",
              "      <td>63879</td>\n",
              "    </tr>\n",
              "    <tr>\n",
              "      <th>2</th>\n",
              "      <td>2022-08-03</td>\n",
              "      <td>29838832</td>\n",
              "      <td>14823224632</td>\n",
              "      <td>494.0</td>\n",
              "      <td>501.0</td>\n",
              "      <td>493.0</td>\n",
              "      <td>501.0</td>\n",
              "      <td>9.0</td>\n",
              "      <td>25570</td>\n",
              "    </tr>\n",
              "    <tr>\n",
              "      <th>3</th>\n",
              "      <td>2022-08-04</td>\n",
              "      <td>26589086</td>\n",
              "      <td>13279624282</td>\n",
              "      <td>499.0</td>\n",
              "      <td>503.0</td>\n",
              "      <td>495.0</td>\n",
              "      <td>500.0</td>\n",
              "      <td>-1.0</td>\n",
              "      <td>27173</td>\n",
              "    </tr>\n",
              "    <tr>\n",
              "      <th>4</th>\n",
              "      <td>2022-08-05</td>\n",
              "      <td>35052642</td>\n",
              "      <td>17966410242</td>\n",
              "      <td>509.0</td>\n",
              "      <td>516.0</td>\n",
              "      <td>507.0</td>\n",
              "      <td>516.0</td>\n",
              "      <td>16.0</td>\n",
              "      <td>49928</td>\n",
              "    </tr>\n",
              "    <tr>\n",
              "      <th>5</th>\n",
              "      <td>2022-08-08</td>\n",
              "      <td>20568971</td>\n",
              "      <td>10531710250</td>\n",
              "      <td>510.0</td>\n",
              "      <td>515.0</td>\n",
              "      <td>509.0</td>\n",
              "      <td>512.0</td>\n",
              "      <td>-4.0</td>\n",
              "      <td>18131</td>\n",
              "    </tr>\n",
              "    <tr>\n",
              "      <th>6</th>\n",
              "      <td>2022-08-09</td>\n",
              "      <td>24370709</td>\n",
              "      <td>12372442661</td>\n",
              "      <td>507.0</td>\n",
              "      <td>511.0</td>\n",
              "      <td>504.0</td>\n",
              "      <td>510.0</td>\n",
              "      <td>-2.0</td>\n",
              "      <td>25433</td>\n",
              "    </tr>\n",
              "    <tr>\n",
              "      <th>7</th>\n",
              "      <td>2022-08-10</td>\n",
              "      <td>22112239</td>\n",
              "      <td>11075581424</td>\n",
              "      <td>500.0</td>\n",
              "      <td>503.0</td>\n",
              "      <td>499.5</td>\n",
              "      <td>500.0</td>\n",
              "      <td>-10.0</td>\n",
              "      <td>35188</td>\n",
              "    </tr>\n",
              "    <tr>\n",
              "      <th>8</th>\n",
              "      <td>2022-08-11</td>\n",
              "      <td>24906177</td>\n",
              "      <td>12771121611</td>\n",
              "      <td>513.0</td>\n",
              "      <td>514.0</td>\n",
              "      <td>510.0</td>\n",
              "      <td>514.0</td>\n",
              "      <td>14.0</td>\n",
              "      <td>23949</td>\n",
              "    </tr>\n",
              "    <tr>\n",
              "      <th>9</th>\n",
              "      <td>2022-08-12</td>\n",
              "      <td>21343450</td>\n",
              "      <td>11016097043</td>\n",
              "      <td>515.0</td>\n",
              "      <td>518.0</td>\n",
              "      <td>514.0</td>\n",
              "      <td>517.0</td>\n",
              "      <td>3.0</td>\n",
              "      <td>21701</td>\n",
              "    </tr>\n",
              "    <tr>\n",
              "      <th>10</th>\n",
              "      <td>2022-08-15</td>\n",
              "      <td>22519886</td>\n",
              "      <td>11755494600</td>\n",
              "      <td>520.0</td>\n",
              "      <td>524.0</td>\n",
              "      <td>519.0</td>\n",
              "      <td>523.0</td>\n",
              "      <td>6.0</td>\n",
              "      <td>27372</td>\n",
              "    </tr>\n",
              "    <tr>\n",
              "      <th>11</th>\n",
              "      <td>2022-08-16</td>\n",
              "      <td>21234122</td>\n",
              "      <td>11141160337</td>\n",
              "      <td>526.0</td>\n",
              "      <td>526.0</td>\n",
              "      <td>523.0</td>\n",
              "      <td>525.0</td>\n",
              "      <td>2.0</td>\n",
              "      <td>20628</td>\n",
              "    </tr>\n",
              "    <tr>\n",
              "      <th>12</th>\n",
              "      <td>2022-08-17</td>\n",
              "      <td>28461939</td>\n",
              "      <td>14943047011</td>\n",
              "      <td>524.0</td>\n",
              "      <td>527.0</td>\n",
              "      <td>521.0</td>\n",
              "      <td>527.0</td>\n",
              "      <td>2.0</td>\n",
              "      <td>26466</td>\n",
              "    </tr>\n",
              "    <tr>\n",
              "      <th>13</th>\n",
              "      <td>2022-08-18</td>\n",
              "      <td>18721898</td>\n",
              "      <td>9734756997</td>\n",
              "      <td>520.0</td>\n",
              "      <td>521.0</td>\n",
              "      <td>519.0</td>\n",
              "      <td>520.0</td>\n",
              "      <td>-7.0</td>\n",
              "      <td>24209</td>\n",
              "    </tr>\n",
              "    <tr>\n",
              "      <th>14</th>\n",
              "      <td>2022-08-19</td>\n",
              "      <td>14235983</td>\n",
              "      <td>7403584002</td>\n",
              "      <td>519.0</td>\n",
              "      <td>523.0</td>\n",
              "      <td>517.0</td>\n",
              "      <td>519.0</td>\n",
              "      <td>-1.0</td>\n",
              "      <td>14069</td>\n",
              "    </tr>\n",
              "    <tr>\n",
              "      <th>15</th>\n",
              "      <td>2022-08-22</td>\n",
              "      <td>23175820</td>\n",
              "      <td>11849427903</td>\n",
              "      <td>511.0</td>\n",
              "      <td>514.0</td>\n",
              "      <td>510.0</td>\n",
              "      <td>510.0</td>\n",
              "      <td>-9.0</td>\n",
              "      <td>32130</td>\n",
              "    </tr>\n",
              "    <tr>\n",
              "      <th>16</th>\n",
              "      <td>2022-08-23</td>\n",
              "      <td>20997847</td>\n",
              "      <td>10580935860</td>\n",
              "      <td>503.0</td>\n",
              "      <td>506.0</td>\n",
              "      <td>502.0</td>\n",
              "      <td>504.0</td>\n",
              "      <td>-6.0</td>\n",
              "      <td>34243</td>\n",
              "    </tr>\n",
              "    <tr>\n",
              "      <th>17</th>\n",
              "      <td>2022-08-24</td>\n",
              "      <td>14995494</td>\n",
              "      <td>7560487746</td>\n",
              "      <td>504.0</td>\n",
              "      <td>508.0</td>\n",
              "      <td>503.0</td>\n",
              "      <td>503.0</td>\n",
              "      <td>-1.0</td>\n",
              "      <td>20031</td>\n",
              "    </tr>\n",
              "    <tr>\n",
              "      <th>18</th>\n",
              "      <td>2022-08-25</td>\n",
              "      <td>10254367</td>\n",
              "      <td>5208471523</td>\n",
              "      <td>505.0</td>\n",
              "      <td>510.0</td>\n",
              "      <td>504.0</td>\n",
              "      <td>508.0</td>\n",
              "      <td>5.0</td>\n",
              "      <td>11664</td>\n",
              "    </tr>\n",
              "    <tr>\n",
              "      <th>19</th>\n",
              "      <td>2022-08-26</td>\n",
              "      <td>13268148</td>\n",
              "      <td>6805419690</td>\n",
              "      <td>513.0</td>\n",
              "      <td>515.0</td>\n",
              "      <td>511.0</td>\n",
              "      <td>512.0</td>\n",
              "      <td>4.0</td>\n",
              "      <td>14862</td>\n",
              "    </tr>\n",
              "    <tr>\n",
              "      <th>20</th>\n",
              "      <td>2022-08-29</td>\n",
              "      <td>28217313</td>\n",
              "      <td>14055439771</td>\n",
              "      <td>497.0</td>\n",
              "      <td>502.0</td>\n",
              "      <td>496.0</td>\n",
              "      <td>498.5</td>\n",
              "      <td>-13.5</td>\n",
              "      <td>60889</td>\n",
              "    </tr>\n",
              "    <tr>\n",
              "      <th>21</th>\n",
              "      <td>2022-08-30</td>\n",
              "      <td>25699463</td>\n",
              "      <td>12787938496</td>\n",
              "      <td>497.5</td>\n",
              "      <td>500.0</td>\n",
              "      <td>496.0</td>\n",
              "      <td>496.0</td>\n",
              "      <td>-2.5</td>\n",
              "      <td>43669</td>\n",
              "    </tr>\n",
              "    <tr>\n",
              "      <th>22</th>\n",
              "      <td>2022-08-31</td>\n",
              "      <td>50999514</td>\n",
              "      <td>25630339779</td>\n",
              "      <td>492.0</td>\n",
              "      <td>505.0</td>\n",
              "      <td>492.0</td>\n",
              "      <td>505.0</td>\n",
              "      <td>9.0</td>\n",
              "      <td>24054</td>\n",
              "    </tr>\n",
              "  </tbody>\n",
              "</table>\n",
              "</div>\n",
              "      <button class=\"colab-df-convert\" onclick=\"convertToInteractive('df-53dc3d64-f479-4dac-b882-1a8b49606c57')\"\n",
              "              title=\"Convert this dataframe to an interactive table.\"\n",
              "              style=\"display:none;\">\n",
              "        \n",
              "  <svg xmlns=\"http://www.w3.org/2000/svg\" height=\"24px\"viewBox=\"0 0 24 24\"\n",
              "       width=\"24px\">\n",
              "    <path d=\"M0 0h24v24H0V0z\" fill=\"none\"/>\n",
              "    <path d=\"M18.56 5.44l.94 2.06.94-2.06 2.06-.94-2.06-.94-.94-2.06-.94 2.06-2.06.94zm-11 1L8.5 8.5l.94-2.06 2.06-.94-2.06-.94L8.5 2.5l-.94 2.06-2.06.94zm10 10l.94 2.06.94-2.06 2.06-.94-2.06-.94-.94-2.06-.94 2.06-2.06.94z\"/><path d=\"M17.41 7.96l-1.37-1.37c-.4-.4-.92-.59-1.43-.59-.52 0-1.04.2-1.43.59L10.3 9.45l-7.72 7.72c-.78.78-.78 2.05 0 2.83L4 21.41c.39.39.9.59 1.41.59.51 0 1.02-.2 1.41-.59l7.78-7.78 2.81-2.81c.8-.78.8-2.07 0-2.86zM5.41 20L4 18.59l7.72-7.72 1.47 1.35L5.41 20z\"/>\n",
              "  </svg>\n",
              "      </button>\n",
              "      \n",
              "  <style>\n",
              "    .colab-df-container {\n",
              "      display:flex;\n",
              "      flex-wrap:wrap;\n",
              "      gap: 12px;\n",
              "    }\n",
              "\n",
              "    .colab-df-convert {\n",
              "      background-color: #E8F0FE;\n",
              "      border: none;\n",
              "      border-radius: 50%;\n",
              "      cursor: pointer;\n",
              "      display: none;\n",
              "      fill: #1967D2;\n",
              "      height: 32px;\n",
              "      padding: 0 0 0 0;\n",
              "      width: 32px;\n",
              "    }\n",
              "\n",
              "    .colab-df-convert:hover {\n",
              "      background-color: #E2EBFA;\n",
              "      box-shadow: 0px 1px 2px rgba(60, 64, 67, 0.3), 0px 1px 3px 1px rgba(60, 64, 67, 0.15);\n",
              "      fill: #174EA6;\n",
              "    }\n",
              "\n",
              "    [theme=dark] .colab-df-convert {\n",
              "      background-color: #3B4455;\n",
              "      fill: #D2E3FC;\n",
              "    }\n",
              "\n",
              "    [theme=dark] .colab-df-convert:hover {\n",
              "      background-color: #434B5C;\n",
              "      box-shadow: 0px 1px 3px 1px rgba(0, 0, 0, 0.15);\n",
              "      filter: drop-shadow(0px 1px 2px rgba(0, 0, 0, 0.3));\n",
              "      fill: #FFFFFF;\n",
              "    }\n",
              "  </style>\n",
              "\n",
              "      <script>\n",
              "        const buttonEl =\n",
              "          document.querySelector('#df-53dc3d64-f479-4dac-b882-1a8b49606c57 button.colab-df-convert');\n",
              "        buttonEl.style.display =\n",
              "          google.colab.kernel.accessAllowed ? 'block' : 'none';\n",
              "\n",
              "        async function convertToInteractive(key) {\n",
              "          const element = document.querySelector('#df-53dc3d64-f479-4dac-b882-1a8b49606c57');\n",
              "          const dataTable =\n",
              "            await google.colab.kernel.invokeFunction('convertToInteractive',\n",
              "                                                     [key], {});\n",
              "          if (!dataTable) return;\n",
              "\n",
              "          const docLinkHtml = 'Like what you see? Visit the ' +\n",
              "            '<a target=\"_blank\" href=https://colab.research.google.com/notebooks/data_table.ipynb>data table notebook</a>'\n",
              "            + ' to learn more about interactive tables.';\n",
              "          element.innerHTML = '';\n",
              "          dataTable['output_type'] = 'display_data';\n",
              "          await google.colab.output.renderOutput(dataTable, element);\n",
              "          const docLink = document.createElement('div');\n",
              "          docLink.innerHTML = docLinkHtml;\n",
              "          element.appendChild(docLink);\n",
              "        }\n",
              "      </script>\n",
              "    </div>\n",
              "  </div>\n",
              "  "
            ]
          },
          "metadata": {},
          "execution_count": 13
        }
      ]
    },
    {
      "cell_type": "code",
      "source": [
        "import pandas as pd\n",
        "\n",
        "dfall = pd.DataFrame()\n",
        "for data in raw:\n",
        "    df = pd.DataFrame(data['data'], columns=data['fields'])\n",
        "    dfall = pd.concat([dfall, df], ignore_index=True)\n",
        "dfall    "
      ],
      "metadata": {
        "id": "MpYZ8v1bTVzk"
      },
      "execution_count": null,
      "outputs": []
    },
    {
      "cell_type": "code",
      "execution_count": null,
      "metadata": {
        "id": "7xUPEn3E_7Rs"
      },
      "outputs": [],
      "source": [
        "# 顯示最近一日之「開盤價, 最高價, 最低價, 收盤價」\n",
        "print(stock.date[-1])\n",
        "print(stock.open[-1])\n",
        "print(stock.high[-1])\n",
        "print(stock.low[-1])\n",
        "print(stock.price[-1])"
      ]
    },
    {
      "cell_type": "code",
      "execution_count": null,
      "metadata": {
        "id": "Oq0rnRtk_7U0",
        "colab": {
          "base_uri": "https://localhost:8080/",
          "height": 694
        },
        "outputId": "f448e8a6-d5ae-4e1e-990e-3155fc3d4f21"
      },
      "outputs": [
        {
          "output_type": "error",
          "ename": "ConnectionError",
          "evalue": "ignored",
          "traceback": [
            "\u001b[0;31m---------------------------------------------------------------------------\u001b[0m",
            "\u001b[0;31mTimeoutError\u001b[0m                              Traceback (most recent call last)",
            "\u001b[0;32m/usr/local/lib/python3.7/dist-packages/urllib3/connection.py\u001b[0m in \u001b[0;36m_new_conn\u001b[0;34m(self)\u001b[0m\n\u001b[1;32m    158\u001b[0m             conn = connection.create_connection(\n\u001b[0;32m--> 159\u001b[0;31m                 (self._dns_host, self.port), self.timeout, **extra_kw)\n\u001b[0m\u001b[1;32m    160\u001b[0m \u001b[0;34m\u001b[0m\u001b[0m\n",
            "\u001b[0;32m/usr/local/lib/python3.7/dist-packages/urllib3/util/connection.py\u001b[0m in \u001b[0;36mcreate_connection\u001b[0;34m(address, timeout, source_address, socket_options)\u001b[0m\n\u001b[1;32m     79\u001b[0m     \u001b[0;32mif\u001b[0m \u001b[0merr\u001b[0m \u001b[0;32mis\u001b[0m \u001b[0;32mnot\u001b[0m \u001b[0;32mNone\u001b[0m\u001b[0;34m:\u001b[0m\u001b[0;34m\u001b[0m\u001b[0;34m\u001b[0m\u001b[0m\n\u001b[0;32m---> 80\u001b[0;31m         \u001b[0;32mraise\u001b[0m \u001b[0merr\u001b[0m\u001b[0;34m\u001b[0m\u001b[0;34m\u001b[0m\u001b[0m\n\u001b[0m\u001b[1;32m     81\u001b[0m \u001b[0;34m\u001b[0m\u001b[0m\n",
            "\u001b[0;32m/usr/local/lib/python3.7/dist-packages/urllib3/util/connection.py\u001b[0m in \u001b[0;36mcreate_connection\u001b[0;34m(address, timeout, source_address, socket_options)\u001b[0m\n\u001b[1;32m     69\u001b[0m                 \u001b[0msock\u001b[0m\u001b[0;34m.\u001b[0m\u001b[0mbind\u001b[0m\u001b[0;34m(\u001b[0m\u001b[0msource_address\u001b[0m\u001b[0;34m)\u001b[0m\u001b[0;34m\u001b[0m\u001b[0;34m\u001b[0m\u001b[0m\n\u001b[0;32m---> 70\u001b[0;31m             \u001b[0msock\u001b[0m\u001b[0;34m.\u001b[0m\u001b[0mconnect\u001b[0m\u001b[0;34m(\u001b[0m\u001b[0msa\u001b[0m\u001b[0;34m)\u001b[0m\u001b[0;34m\u001b[0m\u001b[0;34m\u001b[0m\u001b[0m\n\u001b[0m\u001b[1;32m     71\u001b[0m             \u001b[0;32mreturn\u001b[0m \u001b[0msock\u001b[0m\u001b[0;34m\u001b[0m\u001b[0;34m\u001b[0m\u001b[0m\n",
            "\u001b[0;31mTimeoutError\u001b[0m: [Errno 110] Connection timed out",
            "\nDuring handling of the above exception, another exception occurred:\n",
            "\u001b[0;31mNewConnectionError\u001b[0m                        Traceback (most recent call last)",
            "\u001b[0;32m/usr/local/lib/python3.7/dist-packages/urllib3/connectionpool.py\u001b[0m in \u001b[0;36murlopen\u001b[0;34m(self, method, url, body, headers, retries, redirect, assert_same_host, timeout, pool_timeout, release_conn, chunked, body_pos, **response_kw)\u001b[0m\n\u001b[1;32m    599\u001b[0m                                                   \u001b[0mbody\u001b[0m\u001b[0;34m=\u001b[0m\u001b[0mbody\u001b[0m\u001b[0;34m,\u001b[0m \u001b[0mheaders\u001b[0m\u001b[0;34m=\u001b[0m\u001b[0mheaders\u001b[0m\u001b[0;34m,\u001b[0m\u001b[0;34m\u001b[0m\u001b[0;34m\u001b[0m\u001b[0m\n\u001b[0;32m--> 600\u001b[0;31m                                                   chunked=chunked)\n\u001b[0m\u001b[1;32m    601\u001b[0m \u001b[0;34m\u001b[0m\u001b[0m\n",
            "\u001b[0;32m/usr/local/lib/python3.7/dist-packages/urllib3/connectionpool.py\u001b[0m in \u001b[0;36m_make_request\u001b[0;34m(self, conn, method, url, timeout, chunked, **httplib_request_kw)\u001b[0m\n\u001b[1;32m    353\u001b[0m         \u001b[0;32melse\u001b[0m\u001b[0;34m:\u001b[0m\u001b[0;34m\u001b[0m\u001b[0;34m\u001b[0m\u001b[0m\n\u001b[0;32m--> 354\u001b[0;31m             \u001b[0mconn\u001b[0m\u001b[0;34m.\u001b[0m\u001b[0mrequest\u001b[0m\u001b[0;34m(\u001b[0m\u001b[0mmethod\u001b[0m\u001b[0;34m,\u001b[0m \u001b[0murl\u001b[0m\u001b[0;34m,\u001b[0m \u001b[0;34m**\u001b[0m\u001b[0mhttplib_request_kw\u001b[0m\u001b[0;34m)\u001b[0m\u001b[0;34m\u001b[0m\u001b[0;34m\u001b[0m\u001b[0m\n\u001b[0m\u001b[1;32m    355\u001b[0m \u001b[0;34m\u001b[0m\u001b[0m\n",
            "\u001b[0;32m/usr/lib/python3.7/http/client.py\u001b[0m in \u001b[0;36mrequest\u001b[0;34m(self, method, url, body, headers, encode_chunked)\u001b[0m\n\u001b[1;32m   1280\u001b[0m         \u001b[0;34m\"\"\"Send a complete request to the server.\"\"\"\u001b[0m\u001b[0;34m\u001b[0m\u001b[0;34m\u001b[0m\u001b[0m\n\u001b[0;32m-> 1281\u001b[0;31m         \u001b[0mself\u001b[0m\u001b[0;34m.\u001b[0m\u001b[0m_send_request\u001b[0m\u001b[0;34m(\u001b[0m\u001b[0mmethod\u001b[0m\u001b[0;34m,\u001b[0m \u001b[0murl\u001b[0m\u001b[0;34m,\u001b[0m \u001b[0mbody\u001b[0m\u001b[0;34m,\u001b[0m \u001b[0mheaders\u001b[0m\u001b[0;34m,\u001b[0m \u001b[0mencode_chunked\u001b[0m\u001b[0;34m)\u001b[0m\u001b[0;34m\u001b[0m\u001b[0;34m\u001b[0m\u001b[0m\n\u001b[0m\u001b[1;32m   1282\u001b[0m \u001b[0;34m\u001b[0m\u001b[0m\n",
            "\u001b[0;32m/usr/lib/python3.7/http/client.py\u001b[0m in \u001b[0;36m_send_request\u001b[0;34m(self, method, url, body, headers, encode_chunked)\u001b[0m\n\u001b[1;32m   1326\u001b[0m             \u001b[0mbody\u001b[0m \u001b[0;34m=\u001b[0m \u001b[0m_encode\u001b[0m\u001b[0;34m(\u001b[0m\u001b[0mbody\u001b[0m\u001b[0;34m,\u001b[0m \u001b[0;34m'body'\u001b[0m\u001b[0;34m)\u001b[0m\u001b[0;34m\u001b[0m\u001b[0;34m\u001b[0m\u001b[0m\n\u001b[0;32m-> 1327\u001b[0;31m         \u001b[0mself\u001b[0m\u001b[0;34m.\u001b[0m\u001b[0mendheaders\u001b[0m\u001b[0;34m(\u001b[0m\u001b[0mbody\u001b[0m\u001b[0;34m,\u001b[0m \u001b[0mencode_chunked\u001b[0m\u001b[0;34m=\u001b[0m\u001b[0mencode_chunked\u001b[0m\u001b[0;34m)\u001b[0m\u001b[0;34m\u001b[0m\u001b[0;34m\u001b[0m\u001b[0m\n\u001b[0m\u001b[1;32m   1328\u001b[0m \u001b[0;34m\u001b[0m\u001b[0m\n",
            "\u001b[0;32m/usr/lib/python3.7/http/client.py\u001b[0m in \u001b[0;36mendheaders\u001b[0;34m(self, message_body, encode_chunked)\u001b[0m\n\u001b[1;32m   1275\u001b[0m             \u001b[0;32mraise\u001b[0m \u001b[0mCannotSendHeader\u001b[0m\u001b[0;34m(\u001b[0m\u001b[0;34m)\u001b[0m\u001b[0;34m\u001b[0m\u001b[0;34m\u001b[0m\u001b[0m\n\u001b[0;32m-> 1276\u001b[0;31m         \u001b[0mself\u001b[0m\u001b[0;34m.\u001b[0m\u001b[0m_send_output\u001b[0m\u001b[0;34m(\u001b[0m\u001b[0mmessage_body\u001b[0m\u001b[0;34m,\u001b[0m \u001b[0mencode_chunked\u001b[0m\u001b[0;34m=\u001b[0m\u001b[0mencode_chunked\u001b[0m\u001b[0;34m)\u001b[0m\u001b[0;34m\u001b[0m\u001b[0;34m\u001b[0m\u001b[0m\n\u001b[0m\u001b[1;32m   1277\u001b[0m \u001b[0;34m\u001b[0m\u001b[0m\n",
            "\u001b[0;32m/usr/lib/python3.7/http/client.py\u001b[0m in \u001b[0;36m_send_output\u001b[0;34m(self, message_body, encode_chunked)\u001b[0m\n\u001b[1;32m   1035\u001b[0m         \u001b[0;32mdel\u001b[0m \u001b[0mself\u001b[0m\u001b[0;34m.\u001b[0m\u001b[0m_buffer\u001b[0m\u001b[0;34m[\u001b[0m\u001b[0;34m:\u001b[0m\u001b[0;34m]\u001b[0m\u001b[0;34m\u001b[0m\u001b[0;34m\u001b[0m\u001b[0m\n\u001b[0;32m-> 1036\u001b[0;31m         \u001b[0mself\u001b[0m\u001b[0;34m.\u001b[0m\u001b[0msend\u001b[0m\u001b[0;34m(\u001b[0m\u001b[0mmsg\u001b[0m\u001b[0;34m)\u001b[0m\u001b[0;34m\u001b[0m\u001b[0;34m\u001b[0m\u001b[0m\n\u001b[0m\u001b[1;32m   1037\u001b[0m \u001b[0;34m\u001b[0m\u001b[0m\n",
            "\u001b[0;32m/usr/lib/python3.7/http/client.py\u001b[0m in \u001b[0;36msend\u001b[0;34m(self, data)\u001b[0m\n\u001b[1;32m    975\u001b[0m             \u001b[0;32mif\u001b[0m \u001b[0mself\u001b[0m\u001b[0;34m.\u001b[0m\u001b[0mauto_open\u001b[0m\u001b[0;34m:\u001b[0m\u001b[0;34m\u001b[0m\u001b[0;34m\u001b[0m\u001b[0m\n\u001b[0;32m--> 976\u001b[0;31m                 \u001b[0mself\u001b[0m\u001b[0;34m.\u001b[0m\u001b[0mconnect\u001b[0m\u001b[0;34m(\u001b[0m\u001b[0;34m)\u001b[0m\u001b[0;34m\u001b[0m\u001b[0;34m\u001b[0m\u001b[0m\n\u001b[0m\u001b[1;32m    977\u001b[0m             \u001b[0;32melse\u001b[0m\u001b[0;34m:\u001b[0m\u001b[0;34m\u001b[0m\u001b[0;34m\u001b[0m\u001b[0m\n",
            "\u001b[0;32m/usr/local/lib/python3.7/dist-packages/urllib3/connection.py\u001b[0m in \u001b[0;36mconnect\u001b[0;34m(self)\u001b[0m\n\u001b[1;32m    180\u001b[0m     \u001b[0;32mdef\u001b[0m \u001b[0mconnect\u001b[0m\u001b[0;34m(\u001b[0m\u001b[0mself\u001b[0m\u001b[0;34m)\u001b[0m\u001b[0;34m:\u001b[0m\u001b[0;34m\u001b[0m\u001b[0;34m\u001b[0m\u001b[0m\n\u001b[0;32m--> 181\u001b[0;31m         \u001b[0mconn\u001b[0m \u001b[0;34m=\u001b[0m \u001b[0mself\u001b[0m\u001b[0;34m.\u001b[0m\u001b[0m_new_conn\u001b[0m\u001b[0;34m(\u001b[0m\u001b[0;34m)\u001b[0m\u001b[0;34m\u001b[0m\u001b[0;34m\u001b[0m\u001b[0m\n\u001b[0m\u001b[1;32m    182\u001b[0m         \u001b[0mself\u001b[0m\u001b[0;34m.\u001b[0m\u001b[0m_prepare_conn\u001b[0m\u001b[0;34m(\u001b[0m\u001b[0mconn\u001b[0m\u001b[0;34m)\u001b[0m\u001b[0;34m\u001b[0m\u001b[0;34m\u001b[0m\u001b[0m\n",
            "\u001b[0;32m/usr/local/lib/python3.7/dist-packages/urllib3/connection.py\u001b[0m in \u001b[0;36m_new_conn\u001b[0;34m(self)\u001b[0m\n\u001b[1;32m    167\u001b[0m             raise NewConnectionError(\n\u001b[0;32m--> 168\u001b[0;31m                 self, \"Failed to establish a new connection: %s\" % e)\n\u001b[0m\u001b[1;32m    169\u001b[0m \u001b[0;34m\u001b[0m\u001b[0m\n",
            "\u001b[0;31mNewConnectionError\u001b[0m: <urllib3.connection.HTTPConnection object at 0x7ff934f40a50>: Failed to establish a new connection: [Errno 110] Connection timed out",
            "\nDuring handling of the above exception, another exception occurred:\n",
            "\u001b[0;31mMaxRetryError\u001b[0m                             Traceback (most recent call last)",
            "\u001b[0;32m/usr/local/lib/python3.7/dist-packages/requests/adapters.py\u001b[0m in \u001b[0;36msend\u001b[0;34m(self, request, stream, timeout, verify, cert, proxies)\u001b[0m\n\u001b[1;32m    448\u001b[0m                     \u001b[0mretries\u001b[0m\u001b[0;34m=\u001b[0m\u001b[0mself\u001b[0m\u001b[0;34m.\u001b[0m\u001b[0mmax_retries\u001b[0m\u001b[0;34m,\u001b[0m\u001b[0;34m\u001b[0m\u001b[0;34m\u001b[0m\u001b[0m\n\u001b[0;32m--> 449\u001b[0;31m                     \u001b[0mtimeout\u001b[0m\u001b[0;34m=\u001b[0m\u001b[0mtimeout\u001b[0m\u001b[0;34m\u001b[0m\u001b[0;34m\u001b[0m\u001b[0m\n\u001b[0m\u001b[1;32m    450\u001b[0m                 )\n",
            "\u001b[0;32m/usr/local/lib/python3.7/dist-packages/urllib3/connectionpool.py\u001b[0m in \u001b[0;36murlopen\u001b[0;34m(self, method, url, body, headers, retries, redirect, assert_same_host, timeout, pool_timeout, release_conn, chunked, body_pos, **response_kw)\u001b[0m\n\u001b[1;32m    637\u001b[0m             retries = retries.increment(method, url, error=e, _pool=self,\n\u001b[0;32m--> 638\u001b[0;31m                                         _stacktrace=sys.exc_info()[2])\n\u001b[0m\u001b[1;32m    639\u001b[0m             \u001b[0mretries\u001b[0m\u001b[0;34m.\u001b[0m\u001b[0msleep\u001b[0m\u001b[0;34m(\u001b[0m\u001b[0;34m)\u001b[0m\u001b[0;34m\u001b[0m\u001b[0;34m\u001b[0m\u001b[0m\n",
            "\u001b[0;32m/usr/local/lib/python3.7/dist-packages/urllib3/util/retry.py\u001b[0m in \u001b[0;36mincrement\u001b[0;34m(self, method, url, response, error, _pool, _stacktrace)\u001b[0m\n\u001b[1;32m    398\u001b[0m         \u001b[0;32mif\u001b[0m \u001b[0mnew_retry\u001b[0m\u001b[0;34m.\u001b[0m\u001b[0mis_exhausted\u001b[0m\u001b[0;34m(\u001b[0m\u001b[0;34m)\u001b[0m\u001b[0;34m:\u001b[0m\u001b[0;34m\u001b[0m\u001b[0;34m\u001b[0m\u001b[0m\n\u001b[0;32m--> 399\u001b[0;31m             \u001b[0;32mraise\u001b[0m \u001b[0mMaxRetryError\u001b[0m\u001b[0;34m(\u001b[0m\u001b[0m_pool\u001b[0m\u001b[0;34m,\u001b[0m \u001b[0murl\u001b[0m\u001b[0;34m,\u001b[0m \u001b[0merror\u001b[0m \u001b[0;32mor\u001b[0m \u001b[0mResponseError\u001b[0m\u001b[0;34m(\u001b[0m\u001b[0mcause\u001b[0m\u001b[0;34m)\u001b[0m\u001b[0;34m)\u001b[0m\u001b[0;34m\u001b[0m\u001b[0;34m\u001b[0m\u001b[0m\n\u001b[0m\u001b[1;32m    400\u001b[0m \u001b[0;34m\u001b[0m\u001b[0m\n",
            "\u001b[0;31mMaxRetryError\u001b[0m: HTTPConnectionPool(host='www.twse.com.tw', port=80): Max retries exceeded with url: /exchangeReport/STOCK_DAY?date=20220401&stockNo=2330 (Caused by NewConnectionError('<urllib3.connection.HTTPConnection object at 0x7ff934f40a50>: Failed to establish a new connection: [Errno 110] Connection timed out'))",
            "\nDuring handling of the above exception, another exception occurred:\n",
            "\u001b[0;31mConnectionError\u001b[0m                           Traceback (most recent call last)",
            "\u001b[0;32m<ipython-input-12-b07eed5060c8>\u001b[0m in \u001b[0;36m<module>\u001b[0;34m\u001b[0m\n\u001b[1;32m      2\u001b[0m \u001b[0;31m# data = stock.fetch(2022, 1)           # 指定「年份-月份」的資訊\u001b[0m\u001b[0;34m\u001b[0m\u001b[0;34m\u001b[0m\u001b[0;34m\u001b[0m\u001b[0m\n\u001b[1;32m      3\u001b[0m \u001b[0;31m# data = stock.fetch_31()               # 最近「31天」的資訊\u001b[0m\u001b[0;34m\u001b[0m\u001b[0;34m\u001b[0m\u001b[0;34m\u001b[0m\u001b[0m\n\u001b[0;32m----> 4\u001b[0;31m \u001b[0mdata\u001b[0m \u001b[0;34m=\u001b[0m \u001b[0mstock\u001b[0m\u001b[0;34m.\u001b[0m\u001b[0mfetch_from\u001b[0m\u001b[0;34m(\u001b[0m\u001b[0;36m2021\u001b[0m\u001b[0;34m,\u001b[0m \u001b[0;36m10\u001b[0m\u001b[0;34m)\u001b[0m     \u001b[0;31m# 指定「開始日」到今日為止的資訊\u001b[0m\u001b[0;34m\u001b[0m\u001b[0;34m\u001b[0m\u001b[0m\n\u001b[0m\u001b[1;32m      5\u001b[0m \u001b[0;34m\u001b[0m\u001b[0m\n\u001b[1;32m      6\u001b[0m \u001b[0mpd\u001b[0m\u001b[0;34m.\u001b[0m\u001b[0mDataFrame\u001b[0m\u001b[0;34m(\u001b[0m\u001b[0mdata\u001b[0m\u001b[0;34m)\u001b[0m\u001b[0;34m\u001b[0m\u001b[0;34m\u001b[0m\u001b[0m\n",
            "\u001b[0;32m/usr/local/lib/python3.7/dist-packages/twstock/stock.py\u001b[0m in \u001b[0;36mfetch_from\u001b[0;34m(self, year, month)\u001b[0m\n\u001b[1;32m    173\u001b[0m         \u001b[0mtoday\u001b[0m \u001b[0;34m=\u001b[0m \u001b[0mdatetime\u001b[0m\u001b[0;34m.\u001b[0m\u001b[0mdatetime\u001b[0m\u001b[0;34m.\u001b[0m\u001b[0mtoday\u001b[0m\u001b[0;34m(\u001b[0m\u001b[0;34m)\u001b[0m\u001b[0;34m\u001b[0m\u001b[0;34m\u001b[0m\u001b[0m\n\u001b[1;32m    174\u001b[0m         \u001b[0;32mfor\u001b[0m \u001b[0myear\u001b[0m\u001b[0;34m,\u001b[0m \u001b[0mmonth\u001b[0m \u001b[0;32min\u001b[0m \u001b[0mself\u001b[0m\u001b[0;34m.\u001b[0m\u001b[0m_month_year_iter\u001b[0m\u001b[0;34m(\u001b[0m\u001b[0mmonth\u001b[0m\u001b[0;34m,\u001b[0m \u001b[0myear\u001b[0m\u001b[0;34m,\u001b[0m \u001b[0mtoday\u001b[0m\u001b[0;34m.\u001b[0m\u001b[0mmonth\u001b[0m\u001b[0;34m,\u001b[0m \u001b[0mtoday\u001b[0m\u001b[0;34m.\u001b[0m\u001b[0myear\u001b[0m\u001b[0;34m)\u001b[0m\u001b[0;34m:\u001b[0m\u001b[0;34m\u001b[0m\u001b[0;34m\u001b[0m\u001b[0m\n\u001b[0;32m--> 175\u001b[0;31m             \u001b[0mself\u001b[0m\u001b[0;34m.\u001b[0m\u001b[0mraw_data\u001b[0m\u001b[0;34m.\u001b[0m\u001b[0mappend\u001b[0m\u001b[0;34m(\u001b[0m\u001b[0mself\u001b[0m\u001b[0;34m.\u001b[0m\u001b[0mfetcher\u001b[0m\u001b[0;34m.\u001b[0m\u001b[0mfetch\u001b[0m\u001b[0;34m(\u001b[0m\u001b[0myear\u001b[0m\u001b[0;34m,\u001b[0m \u001b[0mmonth\u001b[0m\u001b[0;34m,\u001b[0m \u001b[0mself\u001b[0m\u001b[0;34m.\u001b[0m\u001b[0msid\u001b[0m\u001b[0;34m)\u001b[0m\u001b[0;34m)\u001b[0m\u001b[0;34m\u001b[0m\u001b[0;34m\u001b[0m\u001b[0m\n\u001b[0m\u001b[1;32m    176\u001b[0m             \u001b[0mself\u001b[0m\u001b[0;34m.\u001b[0m\u001b[0mdata\u001b[0m\u001b[0;34m.\u001b[0m\u001b[0mextend\u001b[0m\u001b[0;34m(\u001b[0m\u001b[0mself\u001b[0m\u001b[0;34m.\u001b[0m\u001b[0mraw_data\u001b[0m\u001b[0;34m[\u001b[0m\u001b[0;34m-\u001b[0m\u001b[0;36m1\u001b[0m\u001b[0;34m]\u001b[0m\u001b[0;34m[\u001b[0m\u001b[0;34m'data'\u001b[0m\u001b[0;34m]\u001b[0m\u001b[0;34m)\u001b[0m\u001b[0;34m\u001b[0m\u001b[0;34m\u001b[0m\u001b[0m\n\u001b[1;32m    177\u001b[0m         \u001b[0;32mreturn\u001b[0m \u001b[0mself\u001b[0m\u001b[0;34m.\u001b[0m\u001b[0mdata\u001b[0m\u001b[0;34m\u001b[0m\u001b[0;34m\u001b[0m\u001b[0m\n",
            "\u001b[0;32m/usr/local/lib/python3.7/dist-packages/twstock/stock.py\u001b[0m in \u001b[0;36mfetch\u001b[0;34m(self, year, month, sid, retry)\u001b[0m\n\u001b[1;32m     57\u001b[0m         \u001b[0;32mfor\u001b[0m \u001b[0mretry_i\u001b[0m \u001b[0;32min\u001b[0m \u001b[0mrange\u001b[0m\u001b[0;34m(\u001b[0m\u001b[0mretry\u001b[0m\u001b[0;34m)\u001b[0m\u001b[0;34m:\u001b[0m\u001b[0;34m\u001b[0m\u001b[0;34m\u001b[0m\u001b[0m\n\u001b[1;32m     58\u001b[0m             r = requests.get(self.REPORT_URL, params=params,\n\u001b[0;32m---> 59\u001b[0;31m                              proxies=get_proxies())\n\u001b[0m\u001b[1;32m     60\u001b[0m             \u001b[0;32mtry\u001b[0m\u001b[0;34m:\u001b[0m\u001b[0;34m\u001b[0m\u001b[0;34m\u001b[0m\u001b[0m\n\u001b[1;32m     61\u001b[0m                 \u001b[0mdata\u001b[0m \u001b[0;34m=\u001b[0m \u001b[0mr\u001b[0m\u001b[0;34m.\u001b[0m\u001b[0mjson\u001b[0m\u001b[0;34m(\u001b[0m\u001b[0;34m)\u001b[0m\u001b[0;34m\u001b[0m\u001b[0;34m\u001b[0m\u001b[0m\n",
            "\u001b[0;32m/usr/local/lib/python3.7/dist-packages/requests/api.py\u001b[0m in \u001b[0;36mget\u001b[0;34m(url, params, **kwargs)\u001b[0m\n\u001b[1;32m     74\u001b[0m \u001b[0;34m\u001b[0m\u001b[0m\n\u001b[1;32m     75\u001b[0m     \u001b[0mkwargs\u001b[0m\u001b[0;34m.\u001b[0m\u001b[0msetdefault\u001b[0m\u001b[0;34m(\u001b[0m\u001b[0;34m'allow_redirects'\u001b[0m\u001b[0;34m,\u001b[0m \u001b[0;32mTrue\u001b[0m\u001b[0;34m)\u001b[0m\u001b[0;34m\u001b[0m\u001b[0;34m\u001b[0m\u001b[0m\n\u001b[0;32m---> 76\u001b[0;31m     \u001b[0;32mreturn\u001b[0m \u001b[0mrequest\u001b[0m\u001b[0;34m(\u001b[0m\u001b[0;34m'get'\u001b[0m\u001b[0;34m,\u001b[0m \u001b[0murl\u001b[0m\u001b[0;34m,\u001b[0m \u001b[0mparams\u001b[0m\u001b[0;34m=\u001b[0m\u001b[0mparams\u001b[0m\u001b[0;34m,\u001b[0m \u001b[0;34m**\u001b[0m\u001b[0mkwargs\u001b[0m\u001b[0;34m)\u001b[0m\u001b[0;34m\u001b[0m\u001b[0;34m\u001b[0m\u001b[0m\n\u001b[0m\u001b[1;32m     77\u001b[0m \u001b[0;34m\u001b[0m\u001b[0m\n\u001b[1;32m     78\u001b[0m \u001b[0;34m\u001b[0m\u001b[0m\n",
            "\u001b[0;32m/usr/local/lib/python3.7/dist-packages/requests/api.py\u001b[0m in \u001b[0;36mrequest\u001b[0;34m(method, url, **kwargs)\u001b[0m\n\u001b[1;32m     59\u001b[0m     \u001b[0;31m# cases, and look like a memory leak in others.\u001b[0m\u001b[0;34m\u001b[0m\u001b[0;34m\u001b[0m\u001b[0;34m\u001b[0m\u001b[0m\n\u001b[1;32m     60\u001b[0m     \u001b[0;32mwith\u001b[0m \u001b[0msessions\u001b[0m\u001b[0;34m.\u001b[0m\u001b[0mSession\u001b[0m\u001b[0;34m(\u001b[0m\u001b[0;34m)\u001b[0m \u001b[0;32mas\u001b[0m \u001b[0msession\u001b[0m\u001b[0;34m:\u001b[0m\u001b[0;34m\u001b[0m\u001b[0;34m\u001b[0m\u001b[0m\n\u001b[0;32m---> 61\u001b[0;31m         \u001b[0;32mreturn\u001b[0m \u001b[0msession\u001b[0m\u001b[0;34m.\u001b[0m\u001b[0mrequest\u001b[0m\u001b[0;34m(\u001b[0m\u001b[0mmethod\u001b[0m\u001b[0;34m=\u001b[0m\u001b[0mmethod\u001b[0m\u001b[0;34m,\u001b[0m \u001b[0murl\u001b[0m\u001b[0;34m=\u001b[0m\u001b[0murl\u001b[0m\u001b[0;34m,\u001b[0m \u001b[0;34m**\u001b[0m\u001b[0mkwargs\u001b[0m\u001b[0;34m)\u001b[0m\u001b[0;34m\u001b[0m\u001b[0;34m\u001b[0m\u001b[0m\n\u001b[0m\u001b[1;32m     62\u001b[0m \u001b[0;34m\u001b[0m\u001b[0m\n\u001b[1;32m     63\u001b[0m \u001b[0;34m\u001b[0m\u001b[0m\n",
            "\u001b[0;32m/usr/local/lib/python3.7/dist-packages/requests/sessions.py\u001b[0m in \u001b[0;36mrequest\u001b[0;34m(self, method, url, params, data, headers, cookies, files, auth, timeout, allow_redirects, proxies, hooks, stream, verify, cert, json)\u001b[0m\n\u001b[1;32m    528\u001b[0m         }\n\u001b[1;32m    529\u001b[0m         \u001b[0msend_kwargs\u001b[0m\u001b[0;34m.\u001b[0m\u001b[0mupdate\u001b[0m\u001b[0;34m(\u001b[0m\u001b[0msettings\u001b[0m\u001b[0;34m)\u001b[0m\u001b[0;34m\u001b[0m\u001b[0;34m\u001b[0m\u001b[0m\n\u001b[0;32m--> 530\u001b[0;31m         \u001b[0mresp\u001b[0m \u001b[0;34m=\u001b[0m \u001b[0mself\u001b[0m\u001b[0;34m.\u001b[0m\u001b[0msend\u001b[0m\u001b[0;34m(\u001b[0m\u001b[0mprep\u001b[0m\u001b[0;34m,\u001b[0m \u001b[0;34m**\u001b[0m\u001b[0msend_kwargs\u001b[0m\u001b[0;34m)\u001b[0m\u001b[0;34m\u001b[0m\u001b[0;34m\u001b[0m\u001b[0m\n\u001b[0m\u001b[1;32m    531\u001b[0m \u001b[0;34m\u001b[0m\u001b[0m\n\u001b[1;32m    532\u001b[0m         \u001b[0;32mreturn\u001b[0m \u001b[0mresp\u001b[0m\u001b[0;34m\u001b[0m\u001b[0;34m\u001b[0m\u001b[0m\n",
            "\u001b[0;32m/usr/local/lib/python3.7/dist-packages/requests/sessions.py\u001b[0m in \u001b[0;36msend\u001b[0;34m(self, request, **kwargs)\u001b[0m\n\u001b[1;32m    641\u001b[0m \u001b[0;34m\u001b[0m\u001b[0m\n\u001b[1;32m    642\u001b[0m         \u001b[0;31m# Send the request\u001b[0m\u001b[0;34m\u001b[0m\u001b[0;34m\u001b[0m\u001b[0;34m\u001b[0m\u001b[0m\n\u001b[0;32m--> 643\u001b[0;31m         \u001b[0mr\u001b[0m \u001b[0;34m=\u001b[0m \u001b[0madapter\u001b[0m\u001b[0;34m.\u001b[0m\u001b[0msend\u001b[0m\u001b[0;34m(\u001b[0m\u001b[0mrequest\u001b[0m\u001b[0;34m,\u001b[0m \u001b[0;34m**\u001b[0m\u001b[0mkwargs\u001b[0m\u001b[0;34m)\u001b[0m\u001b[0;34m\u001b[0m\u001b[0;34m\u001b[0m\u001b[0m\n\u001b[0m\u001b[1;32m    644\u001b[0m \u001b[0;34m\u001b[0m\u001b[0m\n\u001b[1;32m    645\u001b[0m         \u001b[0;31m# Total elapsed time of the request (approximately)\u001b[0m\u001b[0;34m\u001b[0m\u001b[0;34m\u001b[0m\u001b[0;34m\u001b[0m\u001b[0m\n",
            "\u001b[0;32m/usr/local/lib/python3.7/dist-packages/requests/adapters.py\u001b[0m in \u001b[0;36msend\u001b[0;34m(self, request, stream, timeout, verify, cert, proxies)\u001b[0m\n\u001b[1;32m    514\u001b[0m                 \u001b[0;32mraise\u001b[0m \u001b[0mSSLError\u001b[0m\u001b[0;34m(\u001b[0m\u001b[0me\u001b[0m\u001b[0;34m,\u001b[0m \u001b[0mrequest\u001b[0m\u001b[0;34m=\u001b[0m\u001b[0mrequest\u001b[0m\u001b[0;34m)\u001b[0m\u001b[0;34m\u001b[0m\u001b[0;34m\u001b[0m\u001b[0m\n\u001b[1;32m    515\u001b[0m \u001b[0;34m\u001b[0m\u001b[0m\n\u001b[0;32m--> 516\u001b[0;31m             \u001b[0;32mraise\u001b[0m \u001b[0mConnectionError\u001b[0m\u001b[0;34m(\u001b[0m\u001b[0me\u001b[0m\u001b[0;34m,\u001b[0m \u001b[0mrequest\u001b[0m\u001b[0;34m=\u001b[0m\u001b[0mrequest\u001b[0m\u001b[0;34m)\u001b[0m\u001b[0;34m\u001b[0m\u001b[0;34m\u001b[0m\u001b[0m\n\u001b[0m\u001b[1;32m    517\u001b[0m \u001b[0;34m\u001b[0m\u001b[0m\n\u001b[1;32m    518\u001b[0m         \u001b[0;32mexcept\u001b[0m \u001b[0mClosedPoolError\u001b[0m \u001b[0;32mas\u001b[0m \u001b[0me\u001b[0m\u001b[0;34m:\u001b[0m\u001b[0;34m\u001b[0m\u001b[0;34m\u001b[0m\u001b[0m\n",
            "\u001b[0;31mConnectionError\u001b[0m: HTTPConnectionPool(host='www.twse.com.tw', port=80): Max retries exceeded with url: /exchangeReport/STOCK_DAY?date=20220401&stockNo=2330 (Caused by NewConnectionError('<urllib3.connection.HTTPConnection object at 0x7ff934f40a50>: Failed to establish a new connection: [Errno 110] Connection timed out'))"
          ]
        }
      ],
      "source": [
        "# 獲得其他日期的資料\n",
        "# data = stock.fetch(2022, 1)           # 指定「年份-月份」的資訊\n",
        "# data = stock.fetch_31()               # 最近「31天」的資訊\n",
        "data = stock.fetch_from(2021, 10)     # 指定「開始日」到今日為止的資訊\n",
        "\n",
        "pd.DataFrame(data)"
      ]
    },
    {
      "cell_type": "markdown",
      "metadata": {
        "id": "7CnDPfPwAUeu"
      },
      "source": [
        "###查詢股票即時交易資訊"
      ]
    },
    {
      "cell_type": "code",
      "execution_count": null,
      "metadata": {
        "id": "RU47MKOpAXUH",
        "colab": {
          "base_uri": "https://localhost:8080/"
        },
        "outputId": "06560f5e-7e04-4e79-e7ae-d62fb2b4840f"
      },
      "outputs": [
        {
          "output_type": "stream",
          "name": "stdout",
          "text": [
            "公司名稱:台積電\n",
            "開盤價:414.5000\n",
            "最高價:416.0000\n",
            "最低價:409.0000\n",
            "最新股價:412.0000\n"
          ]
        }
      ],
      "source": [
        "# 鴻海股票的即時交易資訊\n",
        "real = twstock.realtime.get('2330')\n",
        "if real['success']:\n",
        "    print(f\"公司名稱:{real['info']['name']}\")\n",
        "    print(f\"開盤價:{real['realtime']['open']}\")\n",
        "    print(f\"最高價:{real['realtime']['high']}\")\n",
        "    print(f\"最低價:{real['realtime']['low']}\")\n",
        "    print(f\"最新股價:{real['realtime']['latest_trade_price']}\")\n",
        "else:\n",
        "    print(f\"發生錯誤:{real['rtmessage']}\")"
      ]
    },
    {
      "cell_type": "markdown",
      "metadata": {
        "id": "RQF-FZfWh7_r"
      },
      "source": [
        "【練習】每十秒讀取一次鴻海的「目前股價」"
      ]
    },
    {
      "cell_type": "code",
      "execution_count": null,
      "metadata": {
        "id": "Cy9dvGzIigWK",
        "colab": {
          "base_uri": "https://localhost:8080/",
          "height": 306
        },
        "outputId": "2ff6b8b7-cb00-43ea-b994-0346bb7c83a2"
      },
      "outputs": [
        {
          "output_type": "stream",
          "name": "stdout",
          "text": [
            "585.0000\n",
            "585.0000\n",
            "585.0000\n",
            "585.0000\n",
            "585.0000\n",
            "585.0000\n"
          ]
        },
        {
          "output_type": "error",
          "ename": "KeyboardInterrupt",
          "evalue": "ignored",
          "traceback": [
            "\u001b[0;31m---------------------------------------------------------------------------\u001b[0m",
            "\u001b[0;31mKeyboardInterrupt\u001b[0m                         Traceback (most recent call last)",
            "\u001b[0;32m<ipython-input-34-66c2863bf6d5>\u001b[0m in \u001b[0;36m<module>\u001b[0;34m\u001b[0m\n\u001b[1;32m      8\u001b[0m         \u001b[0mrealprice\u001b[0m \u001b[0;34m=\u001b[0m \u001b[0mreal\u001b[0m\u001b[0;34m[\u001b[0m\u001b[0;34m'realtime'\u001b[0m\u001b[0;34m]\u001b[0m\u001b[0;34m[\u001b[0m\u001b[0;34m'latest_trade_price'\u001b[0m\u001b[0;34m]\u001b[0m\u001b[0;34m\u001b[0m\u001b[0;34m\u001b[0m\u001b[0m\n\u001b[1;32m      9\u001b[0m         \u001b[0mprint\u001b[0m\u001b[0;34m(\u001b[0m\u001b[0mrealprice\u001b[0m\u001b[0;34m)\u001b[0m\u001b[0;34m\u001b[0m\u001b[0;34m\u001b[0m\u001b[0m\n\u001b[0;32m---> 10\u001b[0;31m     \u001b[0mtime\u001b[0m\u001b[0;34m.\u001b[0m\u001b[0msleep\u001b[0m\u001b[0;34m(\u001b[0m\u001b[0;36m3\u001b[0m\u001b[0;34m)\u001b[0m\u001b[0;34m\u001b[0m\u001b[0;34m\u001b[0m\u001b[0m\n\u001b[0m",
            "\u001b[0;31mKeyboardInterrupt\u001b[0m: "
          ]
        }
      ],
      "source": [
        "# 每十秒讀取一次鴻海的「目前股價」\n",
        "import twstock\n",
        "import time\n",
        "\n",
        "while True:\n",
        "    real = twstock.realtime.get('2454')\n",
        "    if real['success']:\n",
        "        realprice = real['realtime']['latest_trade_price']\n",
        "        print(realprice)\n",
        "    time.sleep(3)"
      ]
    },
    {
      "cell_type": "markdown",
      "metadata": {
        "id": "qZdij8dfAank"
      },
      "source": [
        "###免費的通知利器：LINE Notify\n"
      ]
    },
    {
      "cell_type": "markdown",
      "metadata": {
        "id": "arEarNETMc0k"
      },
      "source": [
        "####申請 LINE Notify 權杖\n",
        "\n",
        "https://notify-bot.line.me/zh_TW/\n",
        "\n",
        "####Line 中加入 Line Notify 為朋友\n",
        "\n",
        "1. 於行動裝置開啟LINE，點選 **主頁/搜尋好友**。\n",
        "2. 於 搜尋好友 **頁面**，上方核選ID，搜尋欄輸入「@linenotify」後按 **搜尋** 鈕。\n",
        "3. 出現LINE Notify，按 **加入** 鈕即完成設定。"
      ]
    },
    {
      "cell_type": "markdown",
      "source": [
        "####發送 LINE Notify 通知"
      ],
      "metadata": {
        "id": "SID8gMWi1Oj5"
      }
    },
    {
      "cell_type": "code",
      "source": [
        "# Line 權杖\n",
        "token = 'ped2mg7fvuKM5pT1Pj39XNV4zMSG9q6ssTI1BR4DNp9'\n",
        "line_notify_api_url = 'https://notify-api.line.me/api/notify'"
      ],
      "metadata": {
        "id": "cm7r-rRSQKpT"
      },
      "execution_count": null,
      "outputs": []
    },
    {
      "cell_type": "code",
      "execution_count": null,
      "metadata": {
        "id": "pu8F8eJIAgY8",
        "colab": {
          "base_uri": "https://localhost:8080/"
        },
        "outputId": "2fb912b1-cc0b-4c6e-863c-f6ec4e4cdc80"
      },
      "outputs": [
        {
          "output_type": "stream",
          "name": "stdout",
          "text": [
            "LINE Notify 發送成功！\n"
          ]
        }
      ],
      "source": [
        "# 發送 LINE Notify 通知的語法\n",
        "import requests\n",
        "\n",
        "headers = {\n",
        "    \"Authorization\": \"Bearer \" + token, \"Content-Type\" : \"application/x-www-form-urlencoded\"\n",
        "}\n",
        "payload = {'message': '\\n通知測試'}\n",
        "notify = requests.post(line_notify_api_url, headers = headers, params = payload)\n",
        "if notify.status_code == 200:\n",
        "    print('LINE Notify 發送成功！')\n",
        "else:\n",
        "    print('LINE Notify 發送失敗！')"
      ]
    },
    {
      "cell_type": "code",
      "source": [
        "# 讀取<某股>目前股價, 股價高於<指定值>時 Line Noftiy 通知賣出訊息\n",
        "import twstock \n",
        "import time\n",
        "import requests\n",
        "\n",
        "headers = {\n",
        "    \"Authorization\": \"Bearer \" + token, \"Content-Type\" : \"application/x-www-form-urlencoded\"\n",
        "}\n",
        "\n",
        "while True:\n",
        "    realdata = twstock.realtime.get('2317')  # 即時資料\n",
        "    if realdata['success']:\n",
        "        name = realdata['info']['name']\n",
        "        realprice = realdata['realtime']['latest_trade_price']  # 目前股價\n",
        "        print(realprice)\n",
        "        # 若目前股價 > 100 元，以 Line Noftiy 通知賣出\n",
        "        message = f'\\n{name}目前股價:{realprice}元, 可以賣出股票了'\n",
        "        payload = {'message': message}\n",
        "        print(message)\n",
        "        notify = requests.post(line_notify_api_url, headers = headers, params = payload)\n",
        "        break\n",
        "    time.sleep(10)"
      ],
      "metadata": {
        "id": "OAbQnazBbrrc",
        "colab": {
          "base_uri": "https://localhost:8080/"
        },
        "outputId": "28814667-9c99-4c00-c2ab-051a9d78c40e"
      },
      "execution_count": null,
      "outputs": [
        {
          "output_type": "stream",
          "name": "stdout",
          "text": [
            "105.0000\n",
            "\n",
            "鴻海目前股價:105.0000元, 可以賣出股票了\n"
          ]
        }
      ]
    },
    {
      "cell_type": "code",
      "execution_count": null,
      "metadata": {
        "id": "12nNZsensYKV"
      },
      "outputs": [],
      "source": [
        "# LINE 監控即時股價 - 完整版_區塊一\n",
        "# 這個版本 realdata['realtime']['latest_trade_price'] 有時候會是 \"-\" → 需要濾除\n",
        "import requests\n",
        "\n",
        "def notify(token, msg):\n",
        "    headers = {\n",
        "        \"Authorization\":\"Bearer \" + token, \"Content-Type\":\"application/x-www-form-urlencoded\"\n",
        "    }\n",
        "    payload = {'message': msg}\n",
        "    notify = requests.post('https://notify-api.line.me/api/notify', headers=headers, params=payload)\n",
        "    return notify.status_code"
      ]
    },
    {
      "cell_type": "code",
      "source": [
        "# LINE 監控即時股價 - 完整版_區塊二\n",
        "def sendMessage(token, mode, realprice, counter):\n",
        "    print(f'鴻海目前股價:{realprice}')\n",
        "    if mode == 1:\n",
        "        msg = f'\\n鴻海目前股價 {realprice}元, 宜賣出！'\n",
        "    else:\n",
        "        msg = f'\\n鴻海目前股價 {realprice}元, 宜賣入！'\n",
        "    code = notify(token, msg)\n",
        "    if code == 200:\n",
        "        counter = counter + 1\n",
        "        print(f'LINE 訊息發送第 {counter} 次')\n",
        "    else:\n",
        "        print('LINE 訊息發送失敗！')\n",
        "    return counter"
      ],
      "metadata": {
        "id": "qp09oQtzUhh2"
      },
      "execution_count": null,
      "outputs": []
    },
    {
      "cell_type": "code",
      "source": [
        "# LINE 監控即時股價 - 完整版_區塊三\n",
        "import twstock\n",
        "import time\n",
        "\n",
        "token = 'ped2mg7fvuKM5pT1Pj39XNV4zMSG9q6ssTI1BR4DNp9'\n",
        "rightCount = 0  # 儲存發送次數\n",
        "errorCount = 0  # 儲存錯誤次數\n",
        "\n",
        "print('程式開始執行！')\n",
        "while True:\n",
        "    realdata = twstock.realtime.get('2317')  # 即時資料\n",
        "    if realdata['success']:\n",
        "        realprice = realdata['realtime']['latest_trade_price']  # 目前股價\n",
        "        if realprice != '-': # 有時候, 得到的資訊會是 \"-\", 需要濾除之 \n",
        "            if float(realprice) >= 100:\n",
        "                rightCount = sendMessage(token, 1, realprice, rightCount)\n",
        "            elif float(realprice) <= 90:\n",
        "                rightCount = sendMessage(token, 2, realprice, rightCount)\n",
        "            if rightCount >= 3:  # 最多發送三次就結束程式\n",
        "                print('程式結束！')\n",
        "                break\n",
        "    else:\n",
        "        print(f\"twstock 發生錯誤, 原因:{realdata['rtmessage']}\")\n",
        "        errorCount = errorCount + 1\n",
        "        if errorCount >= 3:  # 最多錯誤三次\n",
        "            print('程式結束！')\n",
        "            break\n",
        "    time.sleep(5)       "
      ],
      "metadata": {
        "colab": {
          "base_uri": "https://localhost:8080/"
        },
        "id": "UVWg6RZWUlum",
        "outputId": "c182c658-aba4-44f6-826c-b8f409ee19c9"
      },
      "execution_count": null,
      "outputs": [
        {
          "output_type": "stream",
          "name": "stdout",
          "text": [
            "程式開始執行！\n",
            "鴻海目前股價:105.0000\n",
            "LINE 訊息發送第 1 次\n",
            "鴻海目前股價:105.0000\n",
            "LINE 訊息發送第 2 次\n",
            "鴻海目前股價:105.0000\n",
            "LINE 訊息發送第 3 次\n",
            "程式結束！\n"
          ]
        }
      ]
    },
    {
      "cell_type": "markdown",
      "source": [
        "# 台灣股市資訊模組 - 教學影片\n",
        "\n",
        "【人人有功練：Python進階模組實戰】\n",
        "\n",
        "[![人人有功練](https://img.youtube.com/vi/bqZmAXFyoIQ/hqdefault.jpg)](https://youtu.be/bqZmAXFyoIQ?list=PLExLEp0NoLtjXnlqD-kfd9F7g4bALrvRd&t=5915 \"Python進階模組實戰\")"
      ],
      "metadata": {
        "id": "BrcHZc0-aF5Q"
      }
    }
  ]
}