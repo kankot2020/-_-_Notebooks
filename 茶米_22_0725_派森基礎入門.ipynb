{
  "nbformat": 4,
  "nbformat_minor": 0,
  "metadata": {
    "colab": {
      "provenance": [],
      "collapsed_sections": [],
      "include_colab_link": true
    },
    "kernelspec": {
      "name": "python3",
      "display_name": "Python 3"
    },
    "language_info": {
      "name": "python"
    }
  },
  "cells": [
    {
      "cell_type": "markdown",
      "metadata": {
        "id": "view-in-github",
        "colab_type": "text"
      },
      "source": [
        "<a href=\"https://colab.research.google.com/github/kankot2020/-_-_Notebooks/blob/main/%E8%8C%B6%E7%B1%B3_22_0725_%E6%B4%BE%E6%A3%AE%E5%9F%BA%E7%A4%8E%E5%85%A5%E9%96%80.ipynb\" target=\"_parent\"><img src=\"https://colab.research.google.com/assets/colab-badge.svg\" alt=\"Open In Colab\"/></a>"
      ]
    },
    {
      "cell_type": "markdown",
      "source": [
        "# Markdown語法教學\n",
        "\n",
        "---\n",
        "\n",
        "\n",
        "## 標題二\n",
        "### 標題三\n",
        "\n",
        "這是內文*CTRL+C*這是內文**CTRL+V**這是內文這是內文***CTRL+X***這是內文`ESC`這是內文這是內文這是內文這是內文\n",
        "\n",
        "這是內文這是內文[這是內文](https://www.google.com)這是內文這是內文這是內文這是內文這是內文\n",
        "\n",
        "---\n",
        "\n",
        "1. 編號1：這是內文這是內文這是內文這是內文這是內文這是內文這是內文這是內文\n",
        "2. 編號2\n",
        "3. 編號3\n",
        "\n",
        "* 項目一：這是內文這是內文這是內文這是內文這是內文這是內文這是內文這是內文\n",
        "* 項目二\n",
        "* 項目三\n",
        "\n",
        ">小技巧  \n",
        "小技巧小技巧小技巧小技巧小技巧小技巧小技巧小技巧小技巧小技巧小技巧小技巧小技巧\n",
        "\n",
        "```Python\n",
        "print(\"Hello Kitty\")\n",
        "print(\"123\")\n",
        "print(\"Hello Kitty\")\n",
        "print(\"123\")\n",
        "print(\"Hello Kitty\")\n",
        "print(\"123\")\n",
        "```\n",
        "    print(\"Hello Kitty\")\n",
        "    print(\"123\")\n",
        "    print(\"Hello Kitty\")\n",
        "\n",
        "https://www.google.com\n",
        "\n",
        "[Google官網](https://www.google.com)\n",
        "\n",
        "![Google官網](https://www.google.com/images/branding/googlelogo/1x/googlelogo_color_272x92dp.png)\n",
        "\n",
        "[![Google官網](https://www.google.com/images/branding/googlelogo/1x/googlelogo_color_272x92dp.png)](https://www.google.com \"Google官網\")"
      ],
      "metadata": {
        "id": "C-ArWTzxeaBO"
      }
    },
    {
      "cell_type": "code",
      "source": [
        "from google.colab import drive\n",
        "drive.mount('/content/drive')"
      ],
      "metadata": {
        "id": "-OdWScI0aZvK"
      },
      "execution_count": null,
      "outputs": []
    },
    {
      "cell_type": "markdown",
      "source": [
        "# 新增區段"
      ],
      "metadata": {
        "id": "zRNJ1ZkhwCbV"
      }
    },
    {
      "cell_type": "markdown",
      "source": [
        "# 一、變數與資料型態"
      ],
      "metadata": {
        "id": "vvuheQ4UGOh0"
      }
    },
    {
      "cell_type": "code",
      "source": [
        "# 變數的宣告與輸出\n",
        "x, y = 0, 1\n",
        "a = b = c = 0\n",
        "name, age = \"David\", 18\n",
        "print(x, y, a, b, c, name, age)"
      ],
      "metadata": {
        "id": "bqkKzBITGSOD"
      },
      "execution_count": null,
      "outputs": []
    },
    {
      "cell_type": "code",
      "source": [
        "# 變數的資料型態: int, float, str, bool\n",
        "# type() 檢視變數的資料型態\n",
        "x, pi, name, isMarry = 1, 3.14159, \"David\", True\n",
        "print(x, pi, name, isMarry)\n",
        "print(type(x), type(pi), type(name), type(isMarry))\n",
        "# 資料型別的轉換: int(), float(), str(), bool(), eval()"
      ],
      "metadata": {
        "id": "oA5EUVikIVWj"
      },
      "execution_count": null,
      "outputs": []
    },
    {
      "cell_type": "markdown",
      "source": [
        "# 二、輸出與輸入"
      ],
      "metadata": {
        "id": "1dXn4exMOPQN"
      }
    },
    {
      "cell_type": "markdown",
      "source": [
        "### 輸出：print()"
      ],
      "metadata": {
        "id": "c6eFuq5zOTp-"
      }
    },
    {
      "cell_type": "code",
      "source": [
        "# print() 參數\n",
        "# sep 間隔符號 → 預設值為 ' '\n",
        "# end 結束符號 → 預設值為 '\\n'\n",
        "print(1, 2, 3, 3.14, 'David', True)\n",
        "print(1, 2, 3, 4, 5, sep=\"◆\")\n",
        "print(1, 2, 3, 4, 5, sep=\"◆\", end='〇')\n",
        "print(1, 2, 3, 4, 5, end='\\n')\n",
        "print(5, 4, 3, 2, 1, end='\\n')"
      ],
      "metadata": {
        "id": "c5dqNfdaOZW8",
        "colab": {
          "base_uri": "https://localhost:8080/"
        },
        "outputId": "6d8ead2d-7f10-405d-8726-b5c8e7bdaa9e"
      },
      "execution_count": null,
      "outputs": [
        {
          "output_type": "stream",
          "name": "stdout",
          "text": [
            "1 2 3 3.14 David True\n",
            "1◆2◆3◆4◆5\n",
            "1◆2◆3◆4◆5〇1 2 3 4 5\n",
            "5 4 3 2 1\n"
          ]
        }
      ]
    },
    {
      "cell_type": "code",
      "source": [
        "# print()參數格式化: %\n",
        "# print(\"王小明考了80分\")\n",
        "# print(\"%s考了%d分\" % (\"李小美\", 90))\n",
        "print(\"A_%s考%d分\" %(\"王小明\", 80))\n",
        "print(\"B_%5s考%3d分\" %(\"王小明\", 80))\n",
        "print(\"C_%-5s考%-3d分\" %(\"王小明\", 80))\n",
        "print(\"D_圓周率%.4f\" %(3.1415926))"
      ],
      "metadata": {
        "id": "X6f0clQdP2_s"
      },
      "execution_count": null,
      "outputs": []
    },
    {
      "cell_type": "code",
      "source": [
        "# print()參數格式化: format()\n",
        "# print(\"考了{1}分的人是{0}\".format(\"王小明\", 80))\n",
        "# print(\"考了{1}分的人是{0},真的是{0}啊!\".format(\"王小明\", 80))\n",
        "print(\"A_王小明考了80分\")\n",
        "print(\"B_{}考了{}分\".format(\"王小明\", 80))\n",
        "\n",
        "# ◆◆◆ 「: 之前是索引」,「: 之後是格式」\n",
        "# ◆◆◆ 「> 靠右對齊」,「< 靠左對齊」,「^ 置中對齊」\n",
        "print(\"C_{0:5}考了{1:3}分\".format(\"王小明\", 80))\n",
        "print(\"D_{0:>5}考了{1:<3}分\".format(\"王小明\", 80))\n",
        "print(\"E_{0:^5}考了{1:<3}分\".format(\"王小明\", 80))\n",
        "print(\"F_圓周率是{:.2f}\".format(3.14159))"
      ],
      "metadata": {
        "id": "tGJWMWfASbqi"
      },
      "execution_count": null,
      "outputs": []
    },
    {
      "cell_type": "code",
      "source": [
        "# f-strings\n",
        "name, score, score2 = '王小明', 80, 100\n",
        "print(name + \"考了\" + str(score) + \"分\")\n",
        "print(f\"{name:5}考了{score:3}分\")\n",
        "print(f\"{name:5}考了{score:03}分\") # 補零\n",
        "print(f\"{name:5}考了{score2:03}分\")\n",
        "print(f\"{name:^5}考了{score:<3}分\")\n",
        "print(f\"{name:◆^5}考了{score2:<3}分\") # 補符號\n",
        "\n",
        "x, y = 2, 5\n",
        "print(f\"{x} X {y} = {x * y}\")"
      ],
      "metadata": {
        "id": "lQ4M7uWfVP0v"
      },
      "execution_count": null,
      "outputs": []
    },
    {
      "cell_type": "code",
      "source": [
        "print(f\"{name:x^5}考了{score:03}分\")"
      ],
      "metadata": {
        "id": "NfApSkBAcn7_"
      },
      "execution_count": null,
      "outputs": []
    },
    {
      "cell_type": "markdown",
      "source": [
        "## 輸入：input()"
      ],
      "metadata": {
        "id": "6DAkf2KRGv7G"
      }
    },
    {
      "cell_type": "code",
      "source": [
        "score = input(\"輸入國文成績:\")\n",
        "print(\"國文成績是:{}\".format(score))\n",
        "print(f\"國文成績是:{score}\")"
      ],
      "metadata": {
        "id": "DRdXQS4dGyqg"
      },
      "execution_count": null,
      "outputs": []
    },
    {
      "cell_type": "code",
      "source": [
        "score1, score2 = input(\"輸入國文成績:\"), input(\"輸入英文成績:\")\n",
        "print(\"總分:{}\".format(score1 + score2)) # 字串 + 字串 = 字串 → '100' + '90' = '10090'"
      ],
      "metadata": {
        "id": "RiV5RnNQIUQ9"
      },
      "execution_count": null,
      "outputs": []
    },
    {
      "cell_type": "code",
      "source": [
        "score1, score2 = int(input(\"輸入國文成績:\")), int(input(\"輸入英文成績:\"))\n",
        "print(\"總分:{}\".format(score1 + score2))"
      ],
      "metadata": {
        "id": "OBidtVuyKb91"
      },
      "execution_count": null,
      "outputs": []
    },
    {
      "cell_type": "markdown",
      "source": [
        "## 註解"
      ],
      "metadata": {
        "id": "R3XkG6QPLGPl"
      }
    },
    {
      "cell_type": "code",
      "source": [
        "# 註解符號快速鍵 Ctrl + /\n",
        "\n",
        "# 單行註解\n",
        "\n",
        "# 多行註解\n",
        "# 多行註解\n",
        "\n",
        "example = \"\"\"\n",
        "多行註解\n",
        "多行註解多行註解多行註解多行註解多行註解\n",
        "多行註解多行註解多行註解多行註解多行註解多行註解\n",
        "\"\"\""
      ],
      "metadata": {
        "id": "uNOHdZWnLLr8"
      },
      "execution_count": null,
      "outputs": []
    },
    {
      "cell_type": "code",
      "source": [
        "example"
      ],
      "metadata": {
        "id": "rz2QsxqYMGZ8"
      },
      "execution_count": null,
      "outputs": []
    },
    {
      "cell_type": "markdown",
      "source": [
        "# 三、運算子"
      ],
      "metadata": {
        "id": "2uCfpaufMiLo"
      }
    },
    {
      "cell_type": "markdown",
      "source": [
        "## 算術運算子 \n",
        "\n",
        "* %(求餘數) //(求商數) **(求指數)\n",
        "* / slash 稱為斜線。\n",
        "* \\ backslash 稱為反斜線。"
      ],
      "metadata": {
        "id": "BIEowAEbTq2y"
      }
    },
    {
      "cell_type": "code",
      "source": [
        "x, y = 5, 2\n",
        "print(x + y, x - y, x * y, x / y)\n",
        "print(x % y, x // y, x ** y)"
      ],
      "metadata": {
        "id": "w1sMRdrdMl1V"
      },
      "execution_count": null,
      "outputs": []
    },
    {
      "cell_type": "markdown",
      "source": [
        "## 比較運算子 \n",
        "==, !=, >, >=, <, <="
      ],
      "metadata": {
        "id": "Em4jCYb3T5jg"
      }
    },
    {
      "cell_type": "code",
      "source": [
        "x, y = 5, 2\n",
        "x == y"
      ],
      "metadata": {
        "colab": {
          "base_uri": "https://localhost:8080/"
        },
        "id": "RdMaqE0JSJkp",
        "outputId": "559b053a-d5b8-4c62-a089-8012904352f8"
      },
      "execution_count": null,
      "outputs": [
        {
          "output_type": "execute_result",
          "data": {
            "text/plain": [
              "False"
            ]
          },
          "metadata": {},
          "execution_count": 1
        }
      ]
    },
    {
      "cell_type": "markdown",
      "source": [
        "## 邏輯運算子\n",
        "and, or, not"
      ],
      "metadata": {
        "id": "v26CiTMqT_QD"
      }
    },
    {
      "cell_type": "code",
      "source": [
        "x, y = 5, 2\n",
        "print( (x == y) and (x > y) )\n",
        "print( (x == y) or (x > y) )\n",
        "print( not (x == y) )"
      ],
      "metadata": {
        "colab": {
          "base_uri": "https://localhost:8080/"
        },
        "id": "qIzDOBY8SeL2",
        "outputId": "8e7d9e3a-5de8-44d3-91bd-f4158ba25c35"
      },
      "execution_count": null,
      "outputs": [
        {
          "output_type": "stream",
          "name": "stdout",
          "text": [
            "False\n",
            "True\n",
            "True\n"
          ]
        }
      ]
    },
    {
      "cell_type": "markdown",
      "source": [
        "## 複和指定運算子 \n",
        "+=, -="
      ],
      "metadata": {
        "id": "tJ2CE3ViUGTb"
      }
    },
    {
      "cell_type": "code",
      "source": [
        "x = 1\n",
        "x = x + 1\n",
        "print(x)\n",
        "x = x - 1\n",
        "print(x)"
      ],
      "metadata": {
        "colab": {
          "base_uri": "https://localhost:8080/"
        },
        "id": "0GFeCPFnTIGy",
        "outputId": "c0bd0879-8357-4dfc-fc78-58641ed4d5e9"
      },
      "execution_count": null,
      "outputs": [
        {
          "output_type": "stream",
          "name": "stdout",
          "text": [
            "2\n",
            "1\n"
          ]
        }
      ]
    },
    {
      "cell_type": "markdown",
      "source": [
        "## 範例：溫度轉換器\n",
        "\n",
        "華氏 = 1.8 X 攝氏 + 32"
      ],
      "metadata": {
        "id": "kKjHI5VNUjqN"
      }
    },
    {
      "cell_type": "code",
      "source": [
        "C = float(input(\"輸入攝氏溫度:\"))\n",
        "F = 1.8 * C + 32\n",
        "print(\"攝氏{1}度等於華氏{0}度\".format(F, C))\n",
        "print(f\"攝氏{C}度等於華氏{F}度\")\n",
        "print(f\"攝氏{C}度等於華氏{F}度\")"
      ],
      "metadata": {
        "colab": {
          "base_uri": "https://localhost:8080/"
        },
        "id": "lrqptg2oUrEF",
        "outputId": "eed000be-6d41-433d-f38f-705d2f7bbd0f"
      },
      "execution_count": null,
      "outputs": [
        {
          "output_type": "stream",
          "name": "stdout",
          "text": [
            "輸入攝氏溫度:40\n",
            "攝氏40度等於華氏104.0度\n",
            "攝氏40度等於華氏104.0度\n"
          ]
        }
      ]
    },
    {
      "cell_type": "markdown",
      "source": [
        "## 範例：BMI計算機\n",
        "\n",
        "$BMI = 體重(kg) / 身高(m) ^ 2$"
      ],
      "metadata": {
        "id": "rXQb_YJPXEcP"
      }
    },
    {
      "cell_type": "code",
      "source": [
        "height = int(input(\"輸入身高(cm):\"))\n",
        "weight = int(input(\"輸入體重(kg):\"))\n",
        "bmi = weight / (height / 100) ** 2\n",
        "print(\"身高{}公分, 體重{}公斤, BMI值為{:.2f}\".format(height, weight, bmi))"
      ],
      "metadata": {
        "colab": {
          "base_uri": "https://localhost:8080/"
        },
        "id": "rVWyiRecXUWs",
        "outputId": "970630bd-2975-4663-9ca0-ecf6f4a43087"
      },
      "execution_count": null,
      "outputs": [
        {
          "output_type": "stream",
          "name": "stdout",
          "text": [
            "輸入身高(cm):168\n",
            "輸入體重(kg):60\n",
            "身高168公分, 體重60公斤, BMI值為21.26\n",
            "身高168公分, 體重60公斤, 身體質量指數21.259\n"
          ]
        }
      ]
    },
    {
      "cell_type": "markdown",
      "source": [
        "# 四、判斷式"
      ],
      "metadata": {
        "id": "n22bLPHxftML"
      }
    },
    {
      "cell_type": "code",
      "source": [
        "# 雙向判斷式\n",
        "score = int(input(\"輸入成績:\"))\n",
        "if score >= 60:\n",
        "    print(\"及格\")\n",
        "else:\n",
        "    print(\"當掉\")    "
      ],
      "metadata": {
        "colab": {
          "base_uri": "https://localhost:8080/"
        },
        "id": "xxaj6JHPfy6C",
        "outputId": "64154d4c-cdf7-438a-97ba-f9c620b9ead6"
      },
      "execution_count": null,
      "outputs": [
        {
          "output_type": "stream",
          "name": "stdout",
          "text": [
            "輸入成績:58\n",
            "當掉\n"
          ]
        }
      ]
    },
    {
      "cell_type": "code",
      "source": [
        "# 多向判斷式：\n",
        "score = int(input(\"輸入成績:\"))\n",
        "if score >= 90:\n",
        "    print(\"A\")\n",
        "elif score >= 80:\n",
        "    print(\"B\")\n",
        "elif score >= 70:\n",
        "    print(\"C\")\n",
        "elif score >= 60:\n",
        "    print(\"D\")\n",
        "else:\n",
        "    print(\"Fail\")        "
      ],
      "metadata": {
        "colab": {
          "base_uri": "https://localhost:8080/"
        },
        "id": "r4X_42CFgeFG",
        "outputId": "46546197-5cbb-4c48-a931-860c9c1aaafc"
      },
      "execution_count": null,
      "outputs": [
        {
          "output_type": "stream",
          "name": "stdout",
          "text": [
            "輸入成績:22\n",
            "Fail\n"
          ]
        }
      ]
    },
    {
      "cell_type": "code",
      "source": [
        "# 判斷輸入值是否為整數\n",
        "# 1. 輸入值變整數。與原輸入值相減等於 0 則為整數。\n",
        "# 2. abs(x) == x\n",
        "\n",
        "# num = eval(input())\n",
        "# num2 = int(num)\n",
        "# if (num - num2) != 0: \n",
        "#     print(\"NO\")\n",
        "# else: \n",
        "#     print(\"YES\")\n",
        "\n",
        "n = input(\"輸入整數：\")\n",
        "print(f\"輸入的內容是否是整數？{n.isdigit()}\")"
      ],
      "metadata": {
        "colab": {
          "base_uri": "https://localhost:8080/"
        },
        "id": "Jor1iKKKlD5w",
        "outputId": "104184e8-36d0-4da8-ae2b-45ea35eeb057"
      },
      "execution_count": null,
      "outputs": [
        {
          "output_type": "stream",
          "name": "stdout",
          "text": [
            "輸入整數：99\n",
            "輸入的內容是否是整數？True\n"
          ]
        }
      ]
    },
    {
      "cell_type": "code",
      "source": [
        "# 判斷奇偶數\n",
        "n = int(input(\"輸入正整數:\"))\n",
        "if n % 2 == 0:\n",
        "    print(f\"{n}:偶數\")\n",
        "else:\n",
        "    print(f\"{n}:奇數\")"
      ],
      "metadata": {
        "colab": {
          "base_uri": "https://localhost:8080/"
        },
        "id": "E0oIRQuZh93m",
        "outputId": "40c80265-adcc-4074-b0de-b0a8fd2c8846"
      },
      "execution_count": null,
      "outputs": [
        {
          "output_type": "stream",
          "name": "stdout",
          "text": [
            "輸入正整數:660\n",
            "660:偶數\n"
          ]
        }
      ]
    },
    {
      "cell_type": "code",
      "source": [
        "# 判斷閏年(多向判斷式)\n",
        "year = int(input(\"輸入西元年:\"))\n",
        "if year % 100 == 0 and year % 400 == 0:\n",
        "    result = f\"西元{year}年是閏年\"\n",
        "elif year % 100 != 0 and year % 4 == 0:\n",
        "    result = f\"西元{year}年是閏年\"\n",
        "else:\n",
        "    result = f\"西元{year}年不是閏年！\"\n",
        "print(result)"
      ],
      "metadata": {
        "colab": {
          "base_uri": "https://localhost:8080/"
        },
        "id": "W_AyjF1AmDut",
        "outputId": "14613b7e-2cd0-4192-a956-c85438001a85"
      },
      "execution_count": null,
      "outputs": [
        {
          "output_type": "stream",
          "name": "stdout",
          "text": [
            "輸入西元年:2040\n",
            "西元2040年是閏年\n"
          ]
        }
      ]
    },
    {
      "cell_type": "markdown",
      "source": [
        "# 五、自訂函式"
      ],
      "metadata": {
        "id": "QBK31HYuoGps"
      }
    },
    {
      "cell_type": "code",
      "source": [
        "# 自訂函式基本格式\n",
        "def sayHello():\n",
        "    print(\"Hello\")\n",
        "\n",
        "sayHello()\n",
        "sayHello()"
      ],
      "metadata": {
        "id": "TWqipDOt7_NS"
      },
      "execution_count": null,
      "outputs": []
    },
    {
      "cell_type": "code",
      "source": [
        "# 自訂函式：參數的使用\n",
        "def sayHello(name):\n",
        "    print(\"Hello, {}.\".format(name))\n",
        "\n",
        "sayHello(\"David\")\n",
        "sayHello(\"Lily\")"
      ],
      "metadata": {
        "id": "A5p4dQZB9qW_"
      },
      "execution_count": null,
      "outputs": []
    },
    {
      "cell_type": "code",
      "source": [
        "# 自訂函式：回傳值\n",
        "def sayHello(name):\n",
        "    msg = \"Hello, {}.\".format(name)\n",
        "    return msg\n",
        "\n",
        "msg = sayHello(\"Lily\")"
      ],
      "metadata": {
        "id": "vny278Ma_bat"
      },
      "execution_count": null,
      "outputs": []
    },
    {
      "cell_type": "code",
      "source": [
        "print(msg)"
      ],
      "metadata": {
        "id": "maNPT1P0AOer"
      },
      "execution_count": null,
      "outputs": []
    },
    {
      "cell_type": "code",
      "source": [
        "# 計算面積自訂函式\n",
        "# getArea(), 參數 w, h, 回傳值 area\n",
        "# 我有二塊地，一塊是寬5,高4，一塊是寬10，高5, 請計算總面積\n",
        "\n",
        "def getArea(w, h):\n",
        "    area = w * h\n",
        "    return area\n",
        "\n",
        "area1 = getArea(5, 4)\n",
        "area2 = getArea(10, 5)\n",
        "print(\"我家的地總面積是 {}\".format(area1 + area2))"
      ],
      "metadata": {
        "id": "oHLQVu-1AqT7"
      },
      "execution_count": null,
      "outputs": []
    },
    {
      "cell_type": "code",
      "source": [
        "# 自訂函式 tctotf(), 參數 tc\n",
        "# TF = TC * (9 / 5) + 32\n",
        "\n",
        "def tctotf(TC):\n",
        "    TF = TC * (9 / 5) + 32\n",
        "    return TF\n",
        "\n",
        "TC = float(input(\"請輸入攝氏溫度：\"))\n",
        "print(\"攝氏{}度等於華氏{}度\".format(TC, tctotf(TC)))"
      ],
      "metadata": {
        "id": "JT9bjAugDFK7"
      },
      "execution_count": null,
      "outputs": []
    },
    {
      "cell_type": "code",
      "source": [
        "# 自訂函式：getBMI()，參數 h, w\n",
        "# bmi值 <= 18.5，加訊息 你太瘦了，多吃一點。\n",
        "# bmi值 > 24，加訊息 你太胖了，少吃一點。\n",
        "# bmi值在這之間，加訊息 恭禧你，身材標準。\n",
        "\n",
        "def getBMI(h, w):\n",
        "    bmi = w / (h / 100) ** 2\n",
        "    return bmi\n",
        "\n",
        "h = int(input(\"請輸入你的身高(cm)：\"))\n",
        "w = int(input(\"請輸入你的體重(kg)：\"))\n",
        "bmi = getBMI(h, w)\n",
        "print(\"身高{}公分，體重{}公斤，BMI值為{:.2f}\".format(h, w , bmi))\n",
        "if bmi <= 18.5:\n",
        "    print(\"你太瘦了，多吃一點。\")\n",
        "elif bmi > 24:\n",
        "    print(\"你太胖了，少吃一點。\")\n",
        "else:\n",
        "    print(\"恭禧你，身材標準。\")"
      ],
      "metadata": {
        "id": "48mDGOGsEx-y"
      },
      "execution_count": null,
      "outputs": []
    },
    {
      "cell_type": "markdown",
      "source": [
        "# 六、串列與整數串列"
      ],
      "metadata": {
        "id": "w1qp7KM3J8aI"
      }
    },
    {
      "cell_type": "markdown",
      "source": [
        "## 串列"
      ],
      "metadata": {
        "id": "yJjs-RkGXQC_"
      }
    },
    {
      "cell_type": "code",
      "source": [
        "# 宣告串列的方式\n",
        "list1 = [1, 2, 3, 4, 5, 6, 7, 8, 9]\n",
        "list2 = [\"Apple\", \"Banana\", \"Cherry\"]\n",
        "list3 = [\"David\", 180, 80, 24.61, True]\n",
        "\n",
        "# 查詢資料型別\n",
        "# type(list1)\n",
        "# type(list2)\n",
        "# type(list3)"
      ],
      "metadata": {
        "id": "NsAQGb4CLcj4"
      },
      "execution_count": null,
      "outputs": []
    },
    {
      "cell_type": "code",
      "source": [
        "# 串列取值-使用索引值\n",
        "list1 = [1, 2, 3, 4, 5, 6, 7, 8, 9]\n",
        "\n",
        "# 取出單一的元素值 格式：串列[索引值]\n",
        "list1[2]\n",
        "list1[5]\n",
        "\n",
        "# 取出範圍元素值\n",
        "# 格式：串列[起始索引：終止索引]\n",
        "list1[2:5]  # 3, 4, 5\n",
        "list1[5:8]  # 6, 7, 8\n",
        "\n",
        "# 取出範圍元素值,有間隔\n",
        "# 格式：串列[起始索引:終止索引:間隔值]\n",
        "list1[0:9:2]\n",
        "list1[1:9:2]\n",
        "\n",
        "# 取出特定範圍值\n",
        "# 取出所有的值\n",
        "list1[0:9]\n",
        "list1[:]\n",
        "# 取出前幾名的值\n",
        "list1[0:3]\n",
        "list1[:3]\n",
        "# 取出後幾名的值\n",
        "list1[4:9]\n",
        "list1[4:]\n",
        "\n",
        "# 取出最後一個值\n",
        "len(list1) #計算串列的元素值的數量\n",
        "list1[len(list1)-1]\n",
        "list1[-1]\n",
        "list1[-4]\n",
        "list1[-3:]\n",
        "list1[-5:]\n",
        "\n",
        "# 將串列倒序取出\n",
        "list1[::-1]\n",
        "list1[::-2]"
      ],
      "metadata": {
        "id": "ysS2wTL8NCLL"
      },
      "execution_count": null,
      "outputs": []
    },
    {
      "cell_type": "code",
      "source": [
        "str1 = 'abcdefg'\n",
        "addr1 = '台北市大同區忠孝東路一段100號'\n",
        "food = 'milk'\n",
        "\n",
        "str1[2]\n",
        "str1[2:5]\n",
        "addr1[0:3]\n",
        "addr1[:3]\n",
        "addr1[:6]\n",
        "food[::-1]"
      ],
      "metadata": {
        "id": "o7OK_fhKVFSL"
      },
      "execution_count": null,
      "outputs": []
    },
    {
      "cell_type": "markdown",
      "source": [
        "## 整數串列 range()"
      ],
      "metadata": {
        "id": "vaGzpkWtXS0O"
      }
    },
    {
      "cell_type": "code",
      "source": [
        "# 整數串列宣告\n",
        "# range([起始索引, ]終止索引[, 間隔值])\n",
        "\n",
        "list(range(5))\n",
        "list(range(1, 10))\n",
        "list(range(1, 10, 2))\n",
        "list(range(2, 10, 2))\n",
        "list(range(9, 0, -1))\n",
        "list(range(9, -1, -1))"
      ],
      "metadata": {
        "id": "eJoYC35MXXbI"
      },
      "execution_count": null,
      "outputs": []
    },
    {
      "cell_type": "markdown",
      "source": [
        "# 七、迴圈"
      ],
      "metadata": {
        "id": "gVI_gQURZtfo"
      }
    },
    {
      "cell_type": "markdown",
      "source": [
        "## for 迴圈"
      ],
      "metadata": {
        "id": "f4EO90mxZ4zd"
      }
    },
    {
      "cell_type": "markdown",
      "source": [
        "### for list"
      ],
      "metadata": {
        "id": "IQWWoSFJaGgQ"
      }
    },
    {
      "cell_type": "code",
      "source": [
        "fruits = ['Apple', 'Banana', 'Cherry']\n",
        "for fruit in fruits:\n",
        "    # print(fruit)\n",
        "    print(fruit, end=',')"
      ],
      "metadata": {
        "id": "uCnXxwFbaMNh"
      },
      "execution_count": null,
      "outputs": []
    },
    {
      "cell_type": "code",
      "source": [
        "# 用 for list 迴圈計算 1 加到 10\n",
        "list1 = [1,2,3,4,5,6,7,8,9,10]\n",
        "total = 0\n",
        "for i in list1:\n",
        "    total = total + i\n",
        "print(total)    "
      ],
      "metadata": {
        "id": "ijhOar4qbIvu"
      },
      "execution_count": null,
      "outputs": []
    },
    {
      "cell_type": "code",
      "source": [
        "# 用 for list 迴圈計算 1 到 10 的偶數相加\n",
        "list1=[1,2,3,4,5,6,7,8,9,10]\n",
        "total = 0\n",
        "for i in list1[1::2]:\n",
        "    total = total + i\n",
        "print(total)"
      ],
      "metadata": {
        "id": "kOpyX3G3cPg4"
      },
      "execution_count": null,
      "outputs": []
    },
    {
      "cell_type": "code",
      "source": [
        "# 用 for list 迴圈計算 1 到 10 之間 3 的倍數, 而且是奇數值的加總\n",
        "list1=[1,2,3,4,5,6,7,8,9,10]\n",
        "total = 0\n",
        "for i in list1:\n",
        "    if i % 3 == 0:\n",
        "        if i % 2 != 0:\n",
        "            total = total + i\n",
        "print(total)            "
      ],
      "metadata": {
        "id": "mYxxfVAZdDKv"
      },
      "execution_count": null,
      "outputs": []
    },
    {
      "cell_type": "code",
      "source": [
        "list1=[1,2,3,4,5,6,7,8,9,10]\n",
        "total = 0\n",
        "for i in list1:\n",
        "    if i % 3 == 0 and i % 2 != 0:\n",
        "        total = total + i\n",
        "print(total) "
      ],
      "metadata": {
        "id": "zKG16zI4eK52"
      },
      "execution_count": null,
      "outputs": []
    },
    {
      "cell_type": "markdown",
      "source": [
        "### for range"
      ],
      "metadata": {
        "id": "qaXJ1keXeg69"
      }
    },
    {
      "cell_type": "code",
      "source": [
        "# 用 for range 迴圈計算 1 加到 10\n",
        "total = 0\n",
        "for i in range(1, 11):\n",
        "    total = total + i\n",
        "print(total) "
      ],
      "metadata": {
        "id": "JgLsfAGvekSb"
      },
      "execution_count": null,
      "outputs": []
    },
    {
      "cell_type": "code",
      "source": [
        "# 用 for range 迴圈計算 1 到 10 之間的偶數和\n",
        "total = 0\n",
        "for i in range(2, 11, 2):\n",
        "    total = total + i\n",
        "print(total)"
      ],
      "metadata": {
        "id": "bzTa9LMYfUiq"
      },
      "execution_count": null,
      "outputs": []
    },
    {
      "cell_type": "code",
      "source": [
        "# 用 for range 迴圈計算 1 到 1000 之間 3 的倍數, 而且是奇數值的加總\n",
        "total = 0\n",
        "for i in range(1, 1001):\n",
        "    if i % 3 == 0 and i % 2 != 0:\n",
        "        total = total + i\n",
        "print(total) "
      ],
      "metadata": {
        "id": "6II2ahX5fntS"
      },
      "execution_count": null,
      "outputs": []
    },
    {
      "cell_type": "code",
      "source": [
        "# 用 for range 迴圈將所有水果名印出\n",
        "fruits = ['Apple', 'Banana', 'Cherry']\n",
        "for i in range(len(fruits)):\n",
        "    print(fruits[i])"
      ],
      "metadata": {
        "id": "DISNB6k_gZww"
      },
      "execution_count": null,
      "outputs": []
    },
    {
      "cell_type": "code",
      "source": [
        "animals = \"鼠牛虎兔龍蛇馬羊猴雞狗豬\"\n",
        "# animals[:5]\n",
        "\n",
        "# for animal in animals:\n",
        "#     print(animal, end='')\n",
        "\n",
        "# for i in range(0, 5):\n",
        "#     print(animals[i], end='')"
      ],
      "metadata": {
        "id": "PpYnUVAqht1h"
      },
      "execution_count": null,
      "outputs": []
    },
    {
      "cell_type": "markdown",
      "source": [
        "## while 迴圈"
      ],
      "metadata": {
        "id": "ci6-A3znjW3c"
      }
    },
    {
      "cell_type": "code",
      "source": [
        "# 用 while 迴圈計算 1 到 10 加總\n",
        "i = 1\n",
        "total = 0\n",
        "while i <= 10 :\n",
        "    total = total + i\n",
        "    i = i + 1\n",
        "print(total)    "
      ],
      "metadata": {
        "id": "Byu2RXAJjZbd"
      },
      "execution_count": null,
      "outputs": []
    },
    {
      "cell_type": "code",
      "source": [
        "# 用 while 迴圈計算 1 到 10 偶數加總\n",
        "i = 1\n",
        "total = 0\n",
        "while i <= 10:\n",
        "    if i % 2 == 0:\n",
        "        total = total + i\n",
        "    i = i + 1\n",
        "print(total)    "
      ],
      "metadata": {
        "id": "Y25ET0PVj_Vq"
      },
      "execution_count": null,
      "outputs": []
    },
    {
      "cell_type": "code",
      "source": [
        "# 用 while 迴圈計算 1 到 1000 之間 3 的倍數, 而且是奇數值的加總\n",
        "i = 1\n",
        "total = 0\n",
        "while i <= 1000:\n",
        "    if i % 3 == 0 and i % 2 !=0:\n",
        "        total = total + i\n",
        "    i = i + 1\n",
        "print(total) "
      ],
      "metadata": {
        "id": "v69AjAeZkYP-"
      },
      "execution_count": null,
      "outputs": []
    },
    {
      "cell_type": "markdown",
      "source": [
        "## break, continue"
      ],
      "metadata": {
        "id": "E1_M_OS0kt8o"
      }
    },
    {
      "cell_type": "code",
      "source": [
        "# break 跳出迴圈\n",
        "for i in range(1, 11):\n",
        "    if i == 4:\n",
        "        break\n",
        "    print(i, end=',')"
      ],
      "metadata": {
        "id": "Rt4dLyh5kyxX"
      },
      "execution_count": null,
      "outputs": []
    },
    {
      "cell_type": "code",
      "source": [
        "# continue 跳過迴圈\n",
        "for i in range(1, 11):\n",
        "    if i == 4:\n",
        "        continue\n",
        "    print(i, end=',')"
      ],
      "metadata": {
        "id": "gwqFuZpYlP-8"
      },
      "execution_count": null,
      "outputs": []
    },
    {
      "cell_type": "code",
      "source": [
        "# 九九乘法表(一)\n",
        "for i in range(2, 10):\n",
        "    for j in range(2, 10):\n",
        "        print(\"{} * {} = {:02}\".format(i, j, i*j))\n",
        "    print('-' * 10)"
      ],
      "metadata": {
        "id": "fykjHTWYOjcD"
      },
      "execution_count": null,
      "outputs": []
    },
    {
      "cell_type": "code",
      "source": [
        "# 九九乘法表(二)\n",
        "for i in range(2, 10):\n",
        "    for j in range(2, 10):\n",
        "        print(\"{}*{}={:02}\".format(i, j, i*j), end=\"  \")\n",
        "    print()"
      ],
      "metadata": {
        "id": "bWxlCObzQEn6"
      },
      "execution_count": null,
      "outputs": []
    },
    {
      "cell_type": "markdown",
      "source": [
        "```\n",
        "*\n",
        "***\n",
        "*****\n",
        "*******\n",
        "*********\n",
        "```"
      ],
      "metadata": {
        "id": "5el6OfqKQqM9"
      }
    },
    {
      "cell_type": "code",
      "source": [
        "stars = \"\"\"\n",
        "*\n",
        "***\n",
        "*****\n",
        "*******\n",
        "*********\n",
        "\"\"\"\n",
        "print(stars)"
      ],
      "metadata": {
        "id": "k_K0o3L3Rn4i"
      },
      "execution_count": null,
      "outputs": []
    },
    {
      "cell_type": "code",
      "source": [
        "# list(range(1, 10, 2))\n",
        "for i in range(1, 10, 2):\n",
        "    print(i * '*')"
      ],
      "metadata": {
        "id": "rLPkaaO_Qv9P"
      },
      "execution_count": null,
      "outputs": []
    },
    {
      "cell_type": "code",
      "source": [
        "for i in range(1, 10, 2):\n",
        "    print((9-i) * ' ', end='')\n",
        "    print(i * '*')"
      ],
      "metadata": {
        "id": "kipJ9b5uR7QH"
      },
      "execution_count": null,
      "outputs": []
    },
    {
      "cell_type": "code",
      "source": [
        "for i in range(1, 10, 2):\n",
        "    print(int((9-i) / 2) * ' ', end='')\n",
        "    print(i * '*')"
      ],
      "metadata": {
        "id": "FRyfN0GRSVTP"
      },
      "execution_count": null,
      "outputs": []
    },
    {
      "cell_type": "code",
      "source": [
        "for i in range(1, 10, 2):\n",
        "    print(\"{:9}\".format(i * '*'))\n",
        "\n",
        "for i in range(1, 10, 2):\n",
        "    print(\"{:>9}\".format(i * '*'))    \n",
        "\n",
        "for i in range(1, 10, 2):\n",
        "    print(\"{:^9}\".format(i * '*'))"
      ],
      "metadata": {
        "id": "-hs5b0I7S8MM"
      },
      "execution_count": null,
      "outputs": []
    }
  ]
}